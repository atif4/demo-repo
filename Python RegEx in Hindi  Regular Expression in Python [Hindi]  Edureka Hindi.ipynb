{
 "cells": [
  {
   "cell_type": "code",
   "execution_count": 82,
   "metadata": {},
   "outputs": [],
   "source": [
    "import re"
   ]
  },
  {
   "cell_type": "code",
   "execution_count": 83,
   "metadata": {},
   "outputs": [
    {
     "data": {
      "text/plain": [
       "'Atif is 29 and owais is 24\\nbaber is 25 and answer is 28'"
      ]
     },
     "execution_count": 83,
     "metadata": {},
     "output_type": "execute_result"
    }
   ],
   "source": [
    "nameage = '''Atif is 29 and owais is 24\n",
    "baber is 25 and answer is 28'''\n",
    "nameage"
   ]
  },
  {
   "cell_type": "code",
   "execution_count": 84,
   "metadata": {},
   "outputs": [],
   "source": [
    "age = re.findall(r'\\d{1,3}',nameage)"
   ]
  },
  {
   "cell_type": "code",
   "execution_count": 85,
   "metadata": {},
   "outputs": [
    {
     "data": {
      "text/plain": [
       "['29', '24', '25', '28']"
      ]
     },
     "execution_count": 85,
     "metadata": {},
     "output_type": "execute_result"
    }
   ],
   "source": [
    "age"
   ]
  },
  {
   "cell_type": "code",
   "execution_count": 86,
   "metadata": {},
   "outputs": [],
   "source": [
    "names = re.findall(r'[A-Z][a-z]*', nameage)"
   ]
  },
  {
   "cell_type": "code",
   "execution_count": 87,
   "metadata": {},
   "outputs": [
    {
     "data": {
      "text/plain": [
       "['Atif']"
      ]
     },
     "execution_count": 87,
     "metadata": {},
     "output_type": "execute_result"
    }
   ],
   "source": [
    "names"
   ]
  },
  {
   "cell_type": "code",
   "execution_count": 89,
   "metadata": {},
   "outputs": [
    {
     "name": "stdout",
     "output_type": "stream",
     "text": [
      "{'Atif': '29'}\n"
     ]
    }
   ],
   "source": [
    "agedic = {}\n",
    "x=0\n",
    "for eachage in names:\n",
    "    agedic[eachage]= age[x]\n",
    "    x+=1\n",
    "print(agedic)"
   ]
  },
  {
   "cell_type": "code",
   "execution_count": null,
   "metadata": {
    "scrolled": true
   },
   "outputs": [],
   "source": [
    "\"inform , we need to him with the latest information \""
   ]
  },
  {
   "cell_type": "code",
   "execution_count": 102,
   "metadata": {},
   "outputs": [
    {
     "name": "stdout",
     "output_type": "stream",
     "text": [
      "there is information avaible\n"
     ]
    }
   ],
   "source": [
    "#to 9 a word is present or not in a text\n",
    "if re.search(\"inform\" ,\" we need to inform him with the latest information \"):\n",
    "    print(\"there is information avaible\")"
   ]
  },
  {
   "cell_type": "code",
   "execution_count": 103,
   "metadata": {},
   "outputs": [
    {
     "name": "stdout",
     "output_type": "stream",
     "text": [
      "inform\n",
      "inform\n"
     ]
    }
   ],
   "source": [
    "#to find how many time a word comes in text \n",
    "allinform = re.findall(\"inform\" , \"we need to inform him with the latest information \")\n",
    "for i in allinform:\n",
    "    print(i)"
   ]
  },
  {
   "cell_type": "code",
   "execution_count": 104,
   "metadata": {},
   "outputs": [
    {
     "name": "stdout",
     "output_type": "stream",
     "text": [
      "(11, 17)\n",
      "(38, 44)\n"
     ]
    }
   ],
   "source": [
    "#to find the index\n",
    "str =  \"we need to inform him with the latest information \"\n",
    "for i in re.finditer(\"inform\",str):\n",
    "    loctup=i.span()\n",
    "    print(loctup)"
   ]
  },
  {
   "cell_type": "code",
   "execution_count": 108,
   "metadata": {},
   "outputs": [
    {
     "name": "stdout",
     "output_type": "stream",
     "text": [
      "Sat\n",
      "hat\n",
      "mat\n",
      "pat\n"
     ]
    }
   ],
   "source": [
    "str = 'Sat, hat, mat, pat'\n",
    "allstr = re.findall('[Shmp]at',str)#here the word which ends at bring them but starting letter must be [Shmp]\n",
    "for i in allstr:\n",
    "    print(i)"
   ]
  },
  {
   "cell_type": "code",
   "execution_count": 111,
   "metadata": {},
   "outputs": [
    {
     "name": "stdout",
     "output_type": "stream",
     "text": [
      "Sat\n",
      "pat\n"
     ]
    }
   ],
   "source": [
    "#i don't want the words which start from m and h \n",
    "str = 'Sat, hat, mat, pat'\n",
    "allstr = re.findall('[^h-m]at',str)#here the word which ends at bring them but starting letter must be [Shmp]\n",
    "for i in allstr:\n",
    "    print(i)"
   ]
  },
  {
   "cell_type": "code",
   "execution_count": 116,
   "metadata": {},
   "outputs": [
    {
     "name": "stdout",
     "output_type": "stream",
     "text": [
      "mat , food, pat, hat,sat\n"
     ]
    }
   ],
   "source": [
    "food = 'mat , rat, pat, hat,sat'\n",
    "#here i do not want to print rat \n",
    "regex = re.compile('[r]at')\n",
    "food = regex.sub('food',food)\n",
    "print(food)"
   ]
  },
  {
   "cell_type": "code",
   "execution_count": 118,
   "metadata": {},
   "outputs": [
    {
     "data": {
      "text/plain": [
       "'here is \\\\doing'"
      ]
     },
     "execution_count": 118,
     "metadata": {},
     "output_type": "execute_result"
    }
   ],
   "source": [
    "restr =\"here is \\\\doing\"\n",
    "restr"
   ]
  },
  {
   "cell_type": "code",
   "execution_count": 160,
   "metadata": {},
   "outputs": [
    {
     "name": "stdout",
     "output_type": "stream",
     "text": [
      "#EdurekaHindi #PythonEdureka #PythonRegEx\n",
      "Python RegEx in Hindi |\n",
      "Regular Expression in Python [Hindi]\n",
      "| Edureka Hindi\n",
      "#EdurekaHindi #PythonEdureka #PythonRegExPython RegEx in Hindi |Regular Expression in Python [Hindi]| Edureka Hindi\n"
     ]
    }
   ],
   "source": [
    "str_lines='''#EdurekaHindi #PythonEdureka #PythonRegEx\n",
    "Python RegEx in Hindi |\n",
    "Regular Expression in Python [Hindi]\n",
    "| Edureka Hindi'''\n",
    "print(str_lines)\n",
    "#i want space and new line having all information\n",
    "regex = re.compile('\\n')\n",
    "str_lines=regex.sub('',str_lines)\n",
    "print(str_lines)"
   ]
  },
  {
   "cell_type": "code",
   "execution_count": 140,
   "metadata": {},
   "outputs": [
    {
     "name": "stdout",
     "output_type": "stream",
     "text": [
      "Matches: 9\n"
     ]
    }
   ],
   "source": [
    "#here it tell you the length of numbers\n",
    "randstr = '123467755'\n",
    "print(\"Matches:\", len(re.findall('\\d',randstr)))"
   ]
  },
  {
   "cell_type": "code",
   "execution_count": 164,
   "metadata": {},
   "outputs": [
    {
     "name": "stdout",
     "output_type": "stream",
     "text": [
      "Matches: 0\n"
     ]
    }
   ],
   "source": [
    "#here it find beside the number \n",
    "randstr = '123467755'\n",
    "print(\"Matches:\", len(re.findall('\\D',randstr)))"
   ]
  },
  {
   "cell_type": "code",
   "execution_count": 148,
   "metadata": {},
   "outputs": [
    {
     "name": "stdout",
     "output_type": "stream",
     "text": [
      "Matches: 1\n"
     ]
    }
   ],
   "source": [
    "randstr = '12346775 5'\n",
    "print(\"Matches:\", len(re.findall('\\d{5}',randstr)))"
   ]
  },
  {
   "cell_type": "code",
   "execution_count": 157,
   "metadata": {},
   "outputs": [
    {
     "name": "stdout",
     "output_type": "stream",
     "text": [
      "Matches: 3\n"
     ]
    }
   ],
   "source": [
    "randstr = '123 1234 12345 123456 1234567 12345678'\n",
    "print(\"Matches:\", len(re.findall('\\d{6,8}',randstr)))"
   ]
  },
  {
   "cell_type": "code",
   "execution_count": 166,
   "metadata": {},
   "outputs": [],
   "source": [
    "#\\w == [a-zA-Z0-9] w is mixture of all this values\n",
    "#\\W == [^a-zA-Z0-9] W is the opposite of w"
   ]
  },
  {
   "cell_type": "code",
   "execution_count": 175,
   "metadata": {},
   "outputs": [
    {
     "name": "stdout",
     "output_type": "stream",
     "text": [
      "sorry\n"
     ]
    }
   ],
   "source": [
    "phone =\"412-5755-1212\"\n",
    "if re.search(\"\\w{3}-\\w{3}-\\w{4}\",phone):\n",
    "    print(\"it is a phone number\")\n",
    "else:\n",
    "    print(\"sorry\")"
   ]
  },
  {
   "cell_type": "code",
   "execution_count": 179,
   "metadata": {},
   "outputs": [
    {
     "name": "stdout",
     "output_type": "stream",
     "text": [
      "Full Name is valid\n"
     ]
    }
   ],
   "source": [
    "# i want to see my name is correct or not \n",
    "if re.search(\"\\w{2,20}\\s\\w{2,20}\",\"Atif Allouddin\"): \n",
    "            #fname then space then lname\n",
    "    print(\"Full Name is valid\")\n",
    "else:\n",
    "    print(\"sorry\")"
   ]
  },
  {
   "cell_type": "code",
   "execution_count": 183,
   "metadata": {},
   "outputs": [],
   "source": [
    "#i want to check my email id \n",
    "email= \"matif2k13@gmail.com md.com saba231r2@gmail.com\""
   ]
  },
  {
   "cell_type": "code",
   "execution_count": 184,
   "metadata": {},
   "outputs": [
    {
     "name": "stdout",
     "output_type": "stream",
     "text": [
      "Email Matches:  2\n"
     ]
    }
   ],
   "source": [
    "print('Email Matches: ', len(re.findall('[\\w._%+-]{1,20}@[\\w.-]{2,20}.[A-Za-z]{2,3}',email)))"
   ]
  },
  {
   "cell_type": "code",
   "execution_count": null,
   "metadata": {},
   "outputs": [],
   "source": [
    "#web scappering "
   ]
  },
  {
   "cell_type": "code",
   "execution_count": 186,
   "metadata": {},
   "outputs": [],
   "source": [
    "import urllib.request\n",
    "from re import findall\n",
    "url = "
   ]
  },
  {
   "cell_type": "code",
   "execution_count": null,
   "metadata": {},
   "outputs": [],
   "source": []
  },
  {
   "cell_type": "code",
   "execution_count": null,
   "metadata": {},
   "outputs": [],
   "source": []
  },
  {
   "cell_type": "code",
   "execution_count": null,
   "metadata": {},
   "outputs": [],
   "source": []
  },
  {
   "cell_type": "code",
   "execution_count": null,
   "metadata": {},
   "outputs": [],
   "source": []
  },
  {
   "cell_type": "code",
   "execution_count": null,
   "metadata": {},
   "outputs": [],
   "source": []
  },
  {
   "cell_type": "code",
   "execution_count": null,
   "metadata": {},
   "outputs": [],
   "source": []
  },
  {
   "cell_type": "code",
   "execution_count": null,
   "metadata": {},
   "outputs": [],
   "source": []
  },
  {
   "cell_type": "code",
   "execution_count": null,
   "metadata": {},
   "outputs": [],
   "source": []
  },
  {
   "cell_type": "code",
   "execution_count": null,
   "metadata": {},
   "outputs": [],
   "source": []
  },
  {
   "cell_type": "code",
   "execution_count": null,
   "metadata": {},
   "outputs": [],
   "source": []
  },
  {
   "cell_type": "code",
   "execution_count": null,
   "metadata": {},
   "outputs": [],
   "source": []
  },
  {
   "cell_type": "code",
   "execution_count": null,
   "metadata": {},
   "outputs": [],
   "source": []
  },
  {
   "cell_type": "code",
   "execution_count": null,
   "metadata": {},
   "outputs": [],
   "source": []
  }
 ],
 "metadata": {
  "kernelspec": {
   "display_name": "Python 3",
   "language": "python",
   "name": "python3"
  },
  "language_info": {
   "codemirror_mode": {
    "name": "ipython",
    "version": 3
   },
   "file_extension": ".py",
   "mimetype": "text/x-python",
   "name": "python",
   "nbconvert_exporter": "python",
   "pygments_lexer": "ipython3",
   "version": "3.7.4"
  }
 },
 "nbformat": 4,
 "nbformat_minor": 2
}
