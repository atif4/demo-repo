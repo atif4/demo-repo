{
 "cells": [
  {
   "cell_type": "code",
   "execution_count": 3,
   "metadata": {},
   "outputs": [],
   "source": [
    "import re"
   ]
  },
  {
   "cell_type": "markdown",
   "metadata": {},
   "source": [
    "# re.sub"
   ]
  },
  {
   "cell_type": "code",
   "execution_count": 15,
   "metadata": {},
   "outputs": [],
   "source": [
    "string = \"\"\"pak Have you ever tried to divide an integer with a string while programming in Python?If yes,\n",
    "you might have got an error pk message like “TypeError: unsupported operand type(s) for /: ‘int’\n",
    "and ‘str’”.  In this article, we will discuss this TypeError exception in Python. We will also look\n",
    "at different situations when a TypeError exception can pak occur and how we can avoid them.\"\"\""
   ]
  },
  {
   "cell_type": "code",
   "execution_count": 16,
   "metadata": {},
   "outputs": [
    {
     "name": "stdout",
     "output_type": "stream",
     "text": [
      "PAKISTAN Have you ever tried to divide an integer with a string while programming in Python?If yes,\n",
      "you might have got an error PAKISTAN message like “TypeError: unsupported operand type(s) for /: ‘int’\n",
      "and ‘str’”.  In this article, we will discuss this TypeError exception in Python. We will also look\n",
      "at different situations when a TypeError exception can PAKISTAN occur and how we can avoid them.\n"
     ]
    }
   ],
   "source": [
    "print(re.sub('pak|pk|paki','PAKISTAN',string))"
   ]
  },
  {
   "cell_type": "markdown",
   "metadata": {},
   "source": [
    "# using function "
   ]
  },
  {
   "cell_type": "code",
   "execution_count": 47,
   "metadata": {},
   "outputs": [
    {
     "data": {
      "text/plain": [
       "16"
      ]
     },
     "execution_count": 47,
     "metadata": {},
     "output_type": "execute_result"
    }
   ],
   "source": [
    "def square(x):\n",
    "    return x**2\n",
    "square(4)"
   ]
  },
  {
   "cell_type": "code",
   "execution_count": 49,
   "metadata": {},
   "outputs": [
    {
     "data": {
      "text/plain": [
       "16"
      ]
     },
     "execution_count": 49,
     "metadata": {},
     "output_type": "execute_result"
    }
   ],
   "source": [
    "square = lambda x: x**2 #here lambda is a built in function x is input \n",
    "square(4)"
   ]
  },
  {
   "cell_type": "code",
   "execution_count": 36,
   "metadata": {},
   "outputs": [],
   "source": [
    "string = \"Dan has 4 snails. Mike has 3 cats. Alisa has 9 monkeys\""
   ]
  },
  {
   "cell_type": "code",
   "execution_count": 37,
   "metadata": {},
   "outputs": [
    {
     "data": {
      "text/plain": [
       "'4'"
      ]
     },
     "execution_count": 37,
     "metadata": {},
     "output_type": "execute_result"
    }
   ],
   "source": [
    "re.search('(\\d+)',string).group()#this find 1st digit in data and pull them out in form of list "
   ]
  },
  {
   "cell_type": "code",
   "execution_count": 38,
   "metadata": {},
   "outputs": [
    {
     "data": {
      "text/plain": [
       "['4', '3', '9']"
      ]
     },
     "execution_count": 38,
     "metadata": {},
     "output_type": "execute_result"
    }
   ],
   "source": [
    "re.findall('(\\d+)',string) #this find digits in data and pull them out in form of list "
   ]
  },
  {
   "cell_type": "code",
   "execution_count": 41,
   "metadata": {},
   "outputs": [
    {
     "data": {
      "text/plain": [
       "'Dan has 1 snails. Mike has 1 cats. Alisa has 1 monkeys'"
      ]
     },
     "execution_count": 41,
     "metadata": {},
     "output_type": "execute_result"
    }
   ],
   "source": [
    "re.sub('(\\d+)','1',string) # here it find all numbers in data set and convert them into 1 "
   ]
  },
  {
   "cell_type": "code",
   "execution_count": 58,
   "metadata": {},
   "outputs": [
    {
     "data": {
      "text/plain": [
       "'Dan has 4 snails. Mike has 3 cats. Alisa has 9 monkeys'"
      ]
     },
     "execution_count": 58,
     "metadata": {},
     "output_type": "execute_result"
    }
   ],
   "source": [
    "re.sub('(d\\+)', lambda x : str( square ( int ( x.group ( 0 ) ) ) ),string)"
   ]
  },
  {
   "cell_type": "code",
   "execution_count": 42,
   "metadata": {},
   "outputs": [
    {
     "data": {
      "text/plain": [
       "'Dan has 4 snails. Mike has 3 cats. Alisa has 9 monkeys'"
      ]
     },
     "execution_count": 42,
     "metadata": {},
     "output_type": "execute_result"
    }
   ],
   "source": [
    "re.sub('(d\\+)', lambda x : str(x),string)"
   ]
  },
  {
   "cell_type": "code",
   "execution_count": 61,
   "metadata": {},
   "outputs": [
    {
     "data": {
      "text/plain": [
       "'eating sleeping laughing studying'"
      ]
     },
     "execution_count": 61,
     "metadata": {},
     "output_type": "execute_result"
    }
   ],
   "source": [
    "input = \"eat sleep laugh study\"\n",
    "#using lambda adding ing to all words of input \n",
    "result = re.sub(\"\\w+\", lambda m: m.group()+\"ing\",input)\n",
    "result"
   ]
  },
  {
   "cell_type": "code",
   "execution_count": 1,
   "metadata": {},
   "outputs": [
    {
     "data": {
      "text/plain": [
       "'Located in: Dilkusha Forum\\nAddress: Suite No 1005, 10th Floor , Dilkusha Forum Plot No 7,, Block 3, Delhi Cooperative Housing Society, Tariq Road, Delhi CHS PECHS, Karachi, Karachi City, Sindh\\nHours: \\nOpen ⋅ Closes 9PM\\nPhone: (021) 34538866\\nSuggest an edit · Own this business?\\nKnow this place?Share the latest info'"
      ]
     },
     "execution_count": 1,
     "metadata": {},
     "output_type": "execute_result"
    }
   ],
   "source": [
    "my_str =\"\"\"Located in: Dilkusha Forum\n",
    "Address: Suite No 1005, 10th Floor , Dilkusha Forum Plot No 7,, Block 3, Delhi Cooperative Housing Society, Tariq Road, Delhi CHS PECHS, Karachi, Karachi City, Sindh\n",
    "Hours: \n",
    "Open ⋅ Closes 9PM\n",
    "Phone: (021) 34538866\n",
    "Suggest an edit · Own this business?\n",
    "Know this place?Share the latest info\"\"\"\n",
    "my_str"
   ]
  },
  {
   "cell_type": "code",
   "execution_count": null,
   "metadata": {},
   "outputs": [],
   "source": []
  },
  {
   "cell_type": "code",
   "execution_count": null,
   "metadata": {},
   "outputs": [],
   "source": []
  },
  {
   "cell_type": "code",
   "execution_count": null,
   "metadata": {},
   "outputs": [],
   "source": []
  },
  {
   "cell_type": "code",
   "execution_count": null,
   "metadata": {},
   "outputs": [],
   "source": []
  },
  {
   "cell_type": "code",
   "execution_count": null,
   "metadata": {},
   "outputs": [],
   "source": []
  },
  {
   "cell_type": "code",
   "execution_count": null,
   "metadata": {},
   "outputs": [],
   "source": []
  },
  {
   "cell_type": "code",
   "execution_count": null,
   "metadata": {},
   "outputs": [],
   "source": []
  },
  {
   "cell_type": "code",
   "execution_count": null,
   "metadata": {},
   "outputs": [],
   "source": []
  },
  {
   "cell_type": "code",
   "execution_count": null,
   "metadata": {},
   "outputs": [],
   "source": []
  }
 ],
 "metadata": {
  "kernelspec": {
   "display_name": "Python 3",
   "language": "python",
   "name": "python3"
  },
  "language_info": {
   "codemirror_mode": {
    "name": "ipython",
    "version": 3
   },
   "file_extension": ".py",
   "mimetype": "text/x-python",
   "name": "python",
   "nbconvert_exporter": "python",
   "pygments_lexer": "ipython3",
   "version": "3.7.4"
  }
 },
 "nbformat": 4,
 "nbformat_minor": 2
}
