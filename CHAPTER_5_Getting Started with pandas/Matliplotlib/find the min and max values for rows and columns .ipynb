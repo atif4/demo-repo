{
 "cells": [
  {
   "cell_type": "code",
   "execution_count": 1,
   "metadata": {},
   "outputs": [],
   "source": [
    "import pandas as pd\n",
    "import numpy as np"
   ]
  },
  {
   "cell_type": "code",
   "execution_count": 7,
   "metadata": {},
   "outputs": [
    {
     "data": {
      "text/html": [
       "<div>\n",
       "<style scoped>\n",
       "    .dataframe tbody tr th:only-of-type {\n",
       "        vertical-align: middle;\n",
       "    }\n",
       "\n",
       "    .dataframe tbody tr th {\n",
       "        vertical-align: top;\n",
       "    }\n",
       "\n",
       "    .dataframe thead th {\n",
       "        text-align: right;\n",
       "    }\n",
       "</style>\n",
       "<table border=\"1\" class=\"dataframe\">\n",
       "  <thead>\n",
       "    <tr style=\"text-align: right;\">\n",
       "      <th></th>\n",
       "      <th>Col_1</th>\n",
       "      <th>Col_2</th>\n",
       "      <th>Col_3</th>\n",
       "      <th>Col_4</th>\n",
       "      <th>Col_5</th>\n",
       "    </tr>\n",
       "  </thead>\n",
       "  <tbody>\n",
       "    <tr>\n",
       "      <td>jan</td>\n",
       "      <td>9</td>\n",
       "      <td>58</td>\n",
       "      <td>22</td>\n",
       "      <td>15</td>\n",
       "      <td>51</td>\n",
       "    </tr>\n",
       "    <tr>\n",
       "      <td>feb</td>\n",
       "      <td>98</td>\n",
       "      <td>92</td>\n",
       "      <td>8</td>\n",
       "      <td>3</td>\n",
       "      <td>28</td>\n",
       "    </tr>\n",
       "    <tr>\n",
       "      <td>march</td>\n",
       "      <td>2</td>\n",
       "      <td>44</td>\n",
       "      <td>78</td>\n",
       "      <td>65</td>\n",
       "      <td>24</td>\n",
       "    </tr>\n",
       "    <tr>\n",
       "      <td>april</td>\n",
       "      <td>77</td>\n",
       "      <td>4</td>\n",
       "      <td>76</td>\n",
       "      <td>78</td>\n",
       "      <td>81</td>\n",
       "    </tr>\n",
       "    <tr>\n",
       "      <td>may</td>\n",
       "      <td>28</td>\n",
       "      <td>20</td>\n",
       "      <td>12</td>\n",
       "      <td>60</td>\n",
       "      <td>34</td>\n",
       "    </tr>\n",
       "    <tr>\n",
       "      <td>june</td>\n",
       "      <td>55</td>\n",
       "      <td>62</td>\n",
       "      <td>20</td>\n",
       "      <td>65</td>\n",
       "      <td>12</td>\n",
       "    </tr>\n",
       "    <tr>\n",
       "      <td>july</td>\n",
       "      <td>46</td>\n",
       "      <td>77</td>\n",
       "      <td>43</td>\n",
       "      <td>92</td>\n",
       "      <td>25</td>\n",
       "    </tr>\n",
       "    <tr>\n",
       "      <td>august</td>\n",
       "      <td>99</td>\n",
       "      <td>68</td>\n",
       "      <td>77</td>\n",
       "      <td>70</td>\n",
       "      <td>56</td>\n",
       "    </tr>\n",
       "    <tr>\n",
       "      <td>september</td>\n",
       "      <td>13</td>\n",
       "      <td>65</td>\n",
       "      <td>22</td>\n",
       "      <td>79</td>\n",
       "      <td>80</td>\n",
       "    </tr>\n",
       "    <tr>\n",
       "      <td>october</td>\n",
       "      <td>52</td>\n",
       "      <td>49</td>\n",
       "      <td>9</td>\n",
       "      <td>82</td>\n",
       "      <td>31</td>\n",
       "    </tr>\n",
       "    <tr>\n",
       "      <td>november</td>\n",
       "      <td>44</td>\n",
       "      <td>32</td>\n",
       "      <td>53</td>\n",
       "      <td>18</td>\n",
       "      <td>67</td>\n",
       "    </tr>\n",
       "    <tr>\n",
       "      <td>december</td>\n",
       "      <td>60</td>\n",
       "      <td>48</td>\n",
       "      <td>71</td>\n",
       "      <td>98</td>\n",
       "      <td>54</td>\n",
       "    </tr>\n",
       "  </tbody>\n",
       "</table>\n",
       "</div>"
      ],
      "text/plain": [
       "           Col_1  Col_2  Col_3  Col_4  Col_5\n",
       "jan            9     58     22     15     51\n",
       "feb           98     92      8      3     28\n",
       "march          2     44     78     65     24\n",
       "april         77      4     76     78     81\n",
       "may           28     20     12     60     34\n",
       "june          55     62     20     65     12\n",
       "july          46     77     43     92     25\n",
       "august        99     68     77     70     56\n",
       "september     13     65     22     79     80\n",
       "october       52     49      9     82     31\n",
       "november      44     32     53     18     67\n",
       "december      60     48     71     98     54"
      ]
     },
     "execution_count": 7,
     "metadata": {},
     "output_type": "execute_result"
    }
   ],
   "source": [
    "data = {'Col_1':np.random.randint(low=1,high=100,size=12),\n",
    "       'Col_2':np.random.randint(low=1,high=100,size=12),\n",
    "       'Col_3':np.random.randint(low=1,high=100,size=12),\n",
    "       'Col_4':np.random.randint(low=1,high=100,size=12),\n",
    "       'Col_5':np.random.randint(low=1,high=100,size=12)}\n",
    "index_names = ['jan','feb','march','april','may','june','july','august','september','october','november','december']\n",
    "df = pd.DataFrame(data,index=index_names)\n",
    "df"
   ]
  },
  {
   "cell_type": "code",
   "execution_count": 9,
   "metadata": {},
   "outputs": [
    {
     "data": {
      "text/plain": [
       "Col_1    99\n",
       "Col_2    92\n",
       "Col_3    78\n",
       "Col_4    98\n",
       "Col_5    81\n",
       "dtype: int32"
      ]
     },
     "execution_count": 9,
     "metadata": {},
     "output_type": "execute_result"
    }
   ],
   "source": [
    "col_max = df.max(axis=0)\n",
    "col_max"
   ]
  },
  {
   "cell_type": "code",
   "execution_count": 11,
   "metadata": {},
   "outputs": [
    {
     "data": {
      "text/plain": [
       "jan          58\n",
       "feb          98\n",
       "march        78\n",
       "april        81\n",
       "may          60\n",
       "june         65\n",
       "july         92\n",
       "august       99\n",
       "september    80\n",
       "october      82\n",
       "november     67\n",
       "december     98\n",
       "dtype: int32"
      ]
     },
     "execution_count": 11,
     "metadata": {},
     "output_type": "execute_result"
    }
   ],
   "source": [
    "row_max = df.max(axis=1)\n",
    "row_max"
   ]
  },
  {
   "cell_type": "code",
   "execution_count": 12,
   "metadata": {},
   "outputs": [
    {
     "data": {
      "text/plain": [
       "Col_1     2\n",
       "Col_2     4\n",
       "Col_3     8\n",
       "Col_4     3\n",
       "Col_5    12\n",
       "dtype: int32"
      ]
     },
     "execution_count": 12,
     "metadata": {},
     "output_type": "execute_result"
    }
   ],
   "source": [
    "col_max = df.min(axis=0)\n",
    "col_max"
   ]
  },
  {
   "cell_type": "code",
   "execution_count": 13,
   "metadata": {},
   "outputs": [
    {
     "data": {
      "text/plain": [
       "jan           9\n",
       "feb           3\n",
       "march         2\n",
       "april         4\n",
       "may          12\n",
       "june         12\n",
       "july         25\n",
       "august       56\n",
       "september    13\n",
       "october       9\n",
       "november     18\n",
       "december     48\n",
       "dtype: int32"
      ]
     },
     "execution_count": 13,
     "metadata": {},
     "output_type": "execute_result"
    }
   ],
   "source": [
    "row_max = df.min(axis=1)\n",
    "row_max"
   ]
  },
  {
   "cell_type": "code",
   "execution_count": 25,
   "metadata": {},
   "outputs": [
    {
     "data": {
      "text/plain": [
       "2"
      ]
     },
     "execution_count": 25,
     "metadata": {},
     "output_type": "execute_result"
    }
   ],
   "source": [
    "row_min = df.loc['march',:].min()#no need to specify axis when you give the name of column or row\n",
    "row_min"
   ]
  },
  {
   "cell_type": "code",
   "execution_count": 18,
   "metadata": {},
   "outputs": [
    {
     "data": {
      "text/plain": [
       "78"
      ]
     },
     "execution_count": 18,
     "metadata": {},
     "output_type": "execute_result"
    }
   ],
   "source": [
    "row_max = df.loc['march',:].max()\n",
    "row_max"
   ]
  },
  {
   "cell_type": "code",
   "execution_count": 23,
   "metadata": {},
   "outputs": [
    {
     "data": {
      "text/plain": [
       "99"
      ]
     },
     "execution_count": 23,
     "metadata": {},
     "output_type": "execute_result"
    }
   ],
   "source": [
    "col_max = df['Col_1'].max()\n",
    "col_max"
   ]
  },
  {
   "cell_type": "code",
   "execution_count": 29,
   "metadata": {},
   "outputs": [
    {
     "data": {
      "text/plain": [
       "Col_1      august\n",
       "Col_2         feb\n",
       "Col_3       march\n",
       "Col_4    december\n",
       "Col_5       april\n",
       "dtype: object"
      ]
     },
     "execution_count": 29,
     "metadata": {},
     "output_type": "execute_result"
    }
   ],
   "source": [
    "max_index = df.idxmax()\n",
    "max_index\n"
   ]
  },
  {
   "cell_type": "code",
   "execution_count": null,
   "metadata": {},
   "outputs": [],
   "source": []
  }
 ],
 "metadata": {
  "kernelspec": {
   "display_name": "Python 3",
   "language": "python",
   "name": "python3"
  },
  "language_info": {
   "codemirror_mode": {
    "name": "ipython",
    "version": 3
   },
   "file_extension": ".py",
   "mimetype": "text/x-python",
   "name": "python",
   "nbconvert_exporter": "python",
   "pygments_lexer": "ipython3",
   "version": "3.7.4"
  }
 },
 "nbformat": 4,
 "nbformat_minor": 2
}
