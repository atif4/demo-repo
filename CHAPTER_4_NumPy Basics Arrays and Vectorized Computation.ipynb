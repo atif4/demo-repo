{
 "cells": [
  {
   "cell_type": "code",
   "execution_count": 1,
   "metadata": {},
   "outputs": [],
   "source": [
    "import numpy as np"
   ]
  },
  {
   "cell_type": "code",
   "execution_count": 2,
   "metadata": {},
   "outputs": [],
   "source": [
    "from random import randrange"
   ]
  },
  {
   "cell_type": "code",
   "execution_count": 3,
   "metadata": {},
   "outputs": [
    {
     "data": {
      "text/plain": [
       "[[0.9526, -0.246, -0.8856], [0.5639, 0.2379, 0.9104]]"
      ]
     },
     "execution_count": 3,
     "metadata": {},
     "output_type": "execute_result"
    }
   ],
   "source": [
    "data = [[ 0.9526, -0.246 , -0.8856],[ 0.5639, 0.2379, 0.9104]]\n",
    "data"
   ]
  },
  {
   "cell_type": "code",
   "execution_count": 4,
   "metadata": {},
   "outputs": [
    {
     "data": {
      "text/plain": [
       "2"
      ]
     },
     "execution_count": 4,
     "metadata": {},
     "output_type": "execute_result"
    }
   ],
   "source": [
    "len(data)"
   ]
  },
  {
   "cell_type": "code",
   "execution_count": 24,
   "metadata": {},
   "outputs": [],
   "source": [
    "array = data*2\n",
    "array?"
   ]
  },
  {
   "cell_type": "code",
   "execution_count": 17,
   "metadata": {},
   "outputs": [
    {
     "name": "stdout",
     "output_type": "stream",
     "text": [
      "sorry\n"
     ]
    }
   ],
   "source": [
    "#number = float(input('please enter a number: ')\n",
    "for i in data*2:\n",
    "    if i == number:\n",
    "        print('conraglutions your number is in list ',number)\n",
    "    else:\n",
    "        print('sorry')\n",
    "        break"
   ]
  },
  {
   "cell_type": "code",
   "execution_count": 20,
   "metadata": {},
   "outputs": [
    {
     "ename": "NameError",
     "evalue": "name 'index' is not defined",
     "output_type": "error",
     "traceback": [
      "\u001b[1;31m---------------------------------------------------------------------------\u001b[0m",
      "\u001b[1;31mNameError\u001b[0m                                 Traceback (most recent call last)",
      "\u001b[1;32m<ipython-input-20-477be184dd8a>\u001b[0m in \u001b[0;36m<module>\u001b[1;34m\u001b[0m\n\u001b[0;32m      1\u001b[0m \u001b[1;32mfor\u001b[0m \u001b[0mi\u001b[0m \u001b[1;32min\u001b[0m \u001b[0mdata\u001b[0m\u001b[1;33m*\u001b[0m\u001b[1;36m2\u001b[0m\u001b[1;33m:\u001b[0m\u001b[1;33m\u001b[0m\u001b[1;33m\u001b[0m\u001b[0m\n\u001b[1;32m----> 2\u001b[1;33m     \u001b[0mprint\u001b[0m\u001b[1;33m(\u001b[0m\u001b[0mindex\u001b[0m\u001b[1;33m(\u001b[0m\u001b[0mi\u001b[0m\u001b[1;33m)\u001b[0m\u001b[1;33m)\u001b[0m\u001b[1;33m\u001b[0m\u001b[1;33m\u001b[0m\u001b[0m\n\u001b[0m",
      "\u001b[1;31mNameError\u001b[0m: name 'index' is not defined"
     ]
    }
   ],
   "source": [
    "for i in data*2:\n",
    "    print(index(i))"
   ]
  },
  {
   "cell_type": "code",
   "execution_count": null,
   "metadata": {},
   "outputs": [],
   "source": [
    "for i in data*2:\n",
    "    for j in i:\n",
    "        number = float(input('please enter a number: '))\n",
    "        if j == number:\n",
    "            print('conraglutions your number is in list ',number)\n",
    "            break\n",
    "        else:\n",
    "            print('sorry')\n"
   ]
  },
  {
   "cell_type": "code",
   "execution_count": 6,
   "metadata": {},
   "outputs": [
    {
     "data": {
      "text/plain": [
       "[[0.9526, -0.246, -0.8856],\n",
       " [0.5639, 0.2379, 0.9104],\n",
       " [0.9526, -0.246, -0.8856],\n",
       " [0.5639, 0.2379, 0.9104]]"
      ]
     },
     "execution_count": 6,
     "metadata": {},
     "output_type": "execute_result"
    }
   ],
   "source": [
    "data+data"
   ]
  },
  {
   "cell_type": "code",
   "execution_count": 7,
   "metadata": {},
   "outputs": [
    {
     "data": {
      "text/plain": [
       "[6, 7.5, 8, 0, 1]"
      ]
     },
     "execution_count": 7,
     "metadata": {},
     "output_type": "execute_result"
    }
   ],
   "source": [
    "data1 = [6, 7.5, 8, 0, 1]\n",
    "data1"
   ]
  },
  {
   "cell_type": "code",
   "execution_count": 8,
   "metadata": {},
   "outputs": [
    {
     "data": {
      "text/plain": [
       "[0, 1, 6, 7.5, 8]"
      ]
     },
     "execution_count": 8,
     "metadata": {},
     "output_type": "execute_result"
    }
   ],
   "source": [
    "data1.sort()\n",
    "data1"
   ]
  },
  {
   "cell_type": "code",
   "execution_count": 9,
   "metadata": {},
   "outputs": [
    {
     "data": {
      "text/plain": [
       "1"
      ]
     },
     "execution_count": 9,
     "metadata": {},
     "output_type": "execute_result"
    }
   ],
   "source": [
    "arr1 = np.array(data1)\n",
    "arr1.ndim"
   ]
  },
  {
   "cell_type": "code",
   "execution_count": 12,
   "metadata": {},
   "outputs": [
    {
     "data": {
      "text/plain": [
       "array([[1, 2, 3, 4],\n",
       "       [5, 6, 7, 8]])"
      ]
     },
     "execution_count": 12,
     "metadata": {},
     "output_type": "execute_result"
    }
   ],
   "source": [
    "data2 = [[1, 2, 3, 4], [5, 6, 7, 8]]\n",
    "arr2 = np.array(data2)\n",
    "arr2"
   ]
  },
  {
   "cell_type": "code",
   "execution_count": 14,
   "metadata": {},
   "outputs": [
    {
     "name": "stdout",
     "output_type": "stream",
     "text": [
      "1\n",
      "2\n",
      "3\n",
      "4\n",
      "5\n",
      "6\n",
      "7\n",
      "8\n"
     ]
    }
   ],
   "source": [
    "data2 = [[1, 2, 3, 4], [5, 6, 7, 8]]\n",
    "arr2 = np.array(data2)\n",
    "for i in arr2:\n",
    "    for j in i:\n",
    "        print(j)\n",
    "#arr2"
   ]
  },
  {
   "cell_type": "code",
   "execution_count": 11,
   "metadata": {},
   "outputs": [
    {
     "data": {
      "text/plain": [
       "2"
      ]
     },
     "execution_count": 11,
     "metadata": {},
     "output_type": "execute_result"
    }
   ],
   "source": [
    "arr2.ndim"
   ]
  },
  {
   "cell_type": "code",
   "execution_count": 12,
   "metadata": {},
   "outputs": [
    {
     "data": {
      "text/plain": [
       "(2, 4)"
      ]
     },
     "execution_count": 12,
     "metadata": {},
     "output_type": "execute_result"
    }
   ],
   "source": [
    "arr2.shape"
   ]
  },
  {
   "cell_type": "code",
   "execution_count": 13,
   "metadata": {},
   "outputs": [
    {
     "data": {
      "text/plain": [
       "dtype('int32')"
      ]
     },
     "execution_count": 13,
     "metadata": {},
     "output_type": "execute_result"
    }
   ],
   "source": [
    "arr2.dtype"
   ]
  },
  {
   "cell_type": "code",
   "execution_count": 14,
   "metadata": {},
   "outputs": [
    {
     "data": {
      "text/plain": [
       "array([0., 0., 0., 0., 0., 0., 0., 0., 0., 0.])"
      ]
     },
     "execution_count": 14,
     "metadata": {},
     "output_type": "execute_result"
    }
   ],
   "source": [
    "np.zeros(10)"
   ]
  },
  {
   "cell_type": "code",
   "execution_count": 15,
   "metadata": {},
   "outputs": [
    {
     "data": {
      "text/plain": [
       "array([[0.],\n",
       "       [0.],\n",
       "       [0.]])"
      ]
     },
     "execution_count": 15,
     "metadata": {},
     "output_type": "execute_result"
    }
   ],
   "source": [
    "np.zeros((3,1))"
   ]
  },
  {
   "cell_type": "code",
   "execution_count": 16,
   "metadata": {},
   "outputs": [
    {
     "data": {
      "text/plain": [
       "array([[[6.23042070e-307, 3.56043053e-307],\n",
       "        [1.60219306e-306, 7.56571288e-307],\n",
       "        [1.89146896e-307, 1.37961302e-306]],\n",
       "\n",
       "       [[1.05699242e-307, 8.01097889e-307],\n",
       "        [1.78020169e-306, 7.56601165e-307],\n",
       "        [1.02359984e-306, 1.33510679e-306]],\n",
       "\n",
       "       [[2.22522597e-306, 1.69119330e-306],\n",
       "        [1.02360867e-306, 1.60220528e-306],\n",
       "        [1.78019082e-306, 2.22522596e-306]]])"
      ]
     },
     "execution_count": 16,
     "metadata": {},
     "output_type": "execute_result"
    }
   ],
   "source": [
    "np.empty((3,3,2))"
   ]
  },
  {
   "cell_type": "code",
   "execution_count": 17,
   "metadata": {},
   "outputs": [
    {
     "data": {
      "text/plain": [
       "array([ 0,  1,  2,  3,  4,  5,  6,  7,  8,  9, 10, 11, 12, 13, 14, 15, 16,\n",
       "       17, 18, 19, 20, 21, 22, 23, 24, 25, 26, 27, 28, 29, 30, 31, 32, 33,\n",
       "       34, 35, 36, 37, 38, 39, 40, 41, 42, 43, 44, 45, 46, 47, 48, 49, 50,\n",
       "       51, 52, 53, 54, 55, 56, 57, 58, 59, 60, 61, 62, 63, 64, 65, 66, 67,\n",
       "       68, 69, 70, 71, 72, 73, 74, 75, 76, 77, 78, 79, 80, 81, 82, 83, 84,\n",
       "       85, 86, 87, 88])"
      ]
     },
     "execution_count": 17,
     "metadata": {},
     "output_type": "execute_result"
    }
   ],
   "source": [
    "np.arange(89)"
   ]
  },
  {
   "cell_type": "code",
   "execution_count": 18,
   "metadata": {},
   "outputs": [
    {
     "name": "stdout",
     "output_type": "stream",
     "text": [
      "[[1 3 7]\n",
      " [5 9 0]]\n"
     ]
    }
   ],
   "source": [
    "a = [[1,3,7],[5,9,0]]\n",
    "data = np.array(a)\n",
    "print(data)\n"
   ]
  },
  {
   "cell_type": "code",
   "execution_count": 19,
   "metadata": {},
   "outputs": [],
   "source": [
    "arr = np.array([1,2,3], dtype=np.float64)\n",
    "arr1 = np.array([1,2,3], dtype=np.int32)"
   ]
  },
  {
   "cell_type": "code",
   "execution_count": 20,
   "metadata": {},
   "outputs": [
    {
     "name": "stdout",
     "output_type": "stream",
     "text": [
      "[1. 2. 3.] float64\n",
      "[1 2 3] int32\n"
     ]
    }
   ],
   "source": [
    "print(arr,arr.dtype)\n",
    "print(arr1,arr1.dtype)\n"
   ]
  },
  {
   "cell_type": "code",
   "execution_count": 21,
   "metadata": {},
   "outputs": [
    {
     "data": {
      "text/plain": [
       "dtype('int32')"
      ]
     },
     "execution_count": 21,
     "metadata": {},
     "output_type": "execute_result"
    }
   ],
   "source": [
    "arr = np.array([1,2,3,4,5,7,8])\n",
    "arr.dtype"
   ]
  },
  {
   "cell_type": "code",
   "execution_count": 22,
   "metadata": {},
   "outputs": [
    {
     "data": {
      "text/plain": [
       "dtype('float64')"
      ]
     },
     "execution_count": 22,
     "metadata": {},
     "output_type": "execute_result"
    }
   ],
   "source": [
    "float_arr = arr.astype(np.float64)\n",
    "float_arr\n",
    "float_arr.dtype"
   ]
  },
  {
   "cell_type": "code",
   "execution_count": 23,
   "metadata": {},
   "outputs": [
    {
     "name": "stdout",
     "output_type": "stream",
     "text": [
      "[ 3.7 -1.2 -2.6  0.5 12.9 10.1] float64\n"
     ]
    }
   ],
   "source": [
    "arr = np.array([3.7, -1.2, -2.6, 0.5, 12.9, 10.1])\n",
    "print(arr,arr.dtype)"
   ]
  },
  {
   "cell_type": "code",
   "execution_count": 24,
   "metadata": {},
   "outputs": [
    {
     "data": {
      "text/plain": [
       "array([ 3, -1, -2,  0, 12, 10])"
      ]
     },
     "execution_count": 24,
     "metadata": {},
     "output_type": "execute_result"
    }
   ],
   "source": [
    "arr.astype(np.int32)"
   ]
  },
  {
   "cell_type": "code",
   "execution_count": 25,
   "metadata": {},
   "outputs": [
    {
     "name": "stdout",
     "output_type": "stream",
     "text": [
      "[b'12.5' b'22.9' b'231.0']\n"
     ]
    },
    {
     "data": {
      "text/plain": [
       "array([ 12.5,  22.9, 231. ])"
      ]
     },
     "execution_count": 25,
     "metadata": {},
     "output_type": "execute_result"
    }
   ],
   "source": [
    "numeric_strings = np.array(['12.5','22.9','231.0'], dtype=np.string_)\n",
    "print(numeric_strings)\n",
    "numeric_strings.astype(float)"
   ]
  },
  {
   "cell_type": "code",
   "execution_count": 26,
   "metadata": {},
   "outputs": [
    {
     "data": {
      "text/plain": [
       "array([0, 1, 2, 3, 4, 5, 6, 7, 8, 9])"
      ]
     },
     "execution_count": 26,
     "metadata": {},
     "output_type": "execute_result"
    }
   ],
   "source": [
    "int_array = np.arange(10)\n",
    "int_array"
   ]
  },
  {
   "cell_type": "code",
   "execution_count": 27,
   "metadata": {},
   "outputs": [
    {
     "data": {
      "text/plain": [
       "array([0.22 , 0.27 , 0.357, 0.38 , 0.44 , 0.5  ], dtype=float32)"
      ]
     },
     "execution_count": 27,
     "metadata": {},
     "output_type": "execute_result"
    }
   ],
   "source": [
    "calibers = np.array([.22, .270, .357, .380, .44, .50] , dtype = np.float32)\n",
    "calibers"
   ]
  },
  {
   "cell_type": "code",
   "execution_count": 28,
   "metadata": {},
   "outputs": [
    {
     "data": {
      "text/plain": [
       "array([         0, 1083129856], dtype=uint32)"
      ]
     },
     "execution_count": 28,
     "metadata": {},
     "output_type": "execute_result"
    }
   ],
   "source": [
    "empty_uint32 = np.empty(2,dtype='u4')\n",
    "empty_uint32"
   ]
  },
  {
   "cell_type": "markdown",
   "metadata": {},
   "source": [
    "# Operations between Arrays and Scalars"
   ]
  },
  {
   "cell_type": "code",
   "execution_count": 29,
   "metadata": {},
   "outputs": [
    {
     "data": {
      "text/plain": [
       "array([[1., 2., 3.],\n",
       "       [4., 5., 6.]])"
      ]
     },
     "execution_count": 29,
     "metadata": {},
     "output_type": "execute_result"
    }
   ],
   "source": [
    "arr = np.array([[1., 2., 3.], [4., 5., 6.]])\n",
    "arr"
   ]
  },
  {
   "cell_type": "code",
   "execution_count": 30,
   "metadata": {},
   "outputs": [
    {
     "data": {
      "text/plain": [
       "array([[ 2.,  4.,  6.],\n",
       "       [ 8., 10., 12.]])"
      ]
     },
     "execution_count": 30,
     "metadata": {},
     "output_type": "execute_result"
    }
   ],
   "source": [
    "arr+arr"
   ]
  },
  {
   "cell_type": "code",
   "execution_count": 31,
   "metadata": {},
   "outputs": [
    {
     "data": {
      "text/plain": [
       "array([[0., 0., 0.],\n",
       "       [0., 0., 0.]])"
      ]
     },
     "execution_count": 31,
     "metadata": {},
     "output_type": "execute_result"
    }
   ],
   "source": [
    "arr-arr"
   ]
  },
  {
   "cell_type": "code",
   "execution_count": 32,
   "metadata": {},
   "outputs": [
    {
     "data": {
      "text/plain": [
       "array([[1.        , 0.5       , 0.33333333],\n",
       "       [0.25      , 0.2       , 0.16666667]])"
      ]
     },
     "execution_count": 32,
     "metadata": {},
     "output_type": "execute_result"
    }
   ],
   "source": [
    "1/arr"
   ]
  },
  {
   "cell_type": "code",
   "execution_count": 33,
   "metadata": {},
   "outputs": [
    {
     "data": {
      "text/plain": [
       "array([[ 1.,  4.,  9.],\n",
       "       [16., 25., 36.]])"
      ]
     },
     "execution_count": 33,
     "metadata": {},
     "output_type": "execute_result"
    }
   ],
   "source": [
    "arr*arr"
   ]
  },
  {
   "cell_type": "code",
   "execution_count": 34,
   "metadata": {},
   "outputs": [
    {
     "data": {
      "text/plain": [
       "array([[0.5, 1. , 1.5],\n",
       "       [2. , 2.5, 3. ]])"
      ]
     },
     "execution_count": 34,
     "metadata": {},
     "output_type": "execute_result"
    }
   ],
   "source": [
    "arr*0.5"
   ]
  },
  {
   "cell_type": "markdown",
   "metadata": {},
   "source": [
    "# Basic Indexing and Slicing"
   ]
  },
  {
   "cell_type": "code",
   "execution_count": 35,
   "metadata": {},
   "outputs": [
    {
     "data": {
      "text/plain": [
       "array([0, 1, 2, 3, 4, 5, 6, 7, 8, 9])"
      ]
     },
     "execution_count": 35,
     "metadata": {},
     "output_type": "execute_result"
    }
   ],
   "source": [
    "arr = np.arange(10)\n",
    "arr"
   ]
  },
  {
   "cell_type": "code",
   "execution_count": 36,
   "metadata": {},
   "outputs": [
    {
     "data": {
      "text/plain": [
       "5"
      ]
     },
     "execution_count": 36,
     "metadata": {},
     "output_type": "execute_result"
    }
   ],
   "source": [
    "arr[5]"
   ]
  },
  {
   "cell_type": "code",
   "execution_count": 37,
   "metadata": {},
   "outputs": [
    {
     "data": {
      "text/plain": [
       "array([5, 6, 7, 8])"
      ]
     },
     "execution_count": 37,
     "metadata": {},
     "output_type": "execute_result"
    }
   ],
   "source": [
    "arr[5:9]"
   ]
  },
  {
   "cell_type": "code",
   "execution_count": 38,
   "metadata": {},
   "outputs": [
    {
     "data": {
      "text/plain": [
       "array([  0,   1,   2,   3,   4, 123, 123, 123, 123,   9])"
      ]
     },
     "execution_count": 38,
     "metadata": {},
     "output_type": "execute_result"
    }
   ],
   "source": [
    "arr[5:9] = 123\n",
    "arr"
   ]
  },
  {
   "cell_type": "code",
   "execution_count": 39,
   "metadata": {},
   "outputs": [
    {
     "data": {
      "text/plain": [
       "array([  0,   1,   2,   3,   4, 123, 110, 123, 123,   9])"
      ]
     },
     "execution_count": 39,
     "metadata": {},
     "output_type": "execute_result"
    }
   ],
   "source": [
    "arr_slice = arr[5:9]\n",
    "arr_slice[1]= 110\n",
    "arr"
   ]
  },
  {
   "cell_type": "code",
   "execution_count": 40,
   "metadata": {},
   "outputs": [
    {
     "data": {
      "text/plain": [
       "array([ 0,  1,  2,  3,  4, 64, 64, 64, 64,  9])"
      ]
     },
     "execution_count": 40,
     "metadata": {},
     "output_type": "execute_result"
    }
   ],
   "source": [
    "arr_slice[:]=64 \n",
    "arr"
   ]
  },
  {
   "cell_type": "code",
   "execution_count": 41,
   "metadata": {},
   "outputs": [
    {
     "data": {
      "text/plain": [
       "array([7, 8, 9])"
      ]
     },
     "execution_count": 41,
     "metadata": {},
     "output_type": "execute_result"
    }
   ],
   "source": [
    "arr2d = np.array([[1, 2, 3], [4, 5, 6], [7, 8, 9]])\n",
    "arr2d[2]"
   ]
  },
  {
   "cell_type": "markdown",
   "metadata": {},
   "source": [
    "Thus, individual elements can be accessed recursively. But that is a bit too much work,\n",
    "so you can pass a comma-separated list of indices to select individual elements. So these\n",
    "are equivalent:"
   ]
  },
  {
   "cell_type": "code",
   "execution_count": 42,
   "metadata": {},
   "outputs": [
    {
     "data": {
      "text/plain": [
       "3"
      ]
     },
     "execution_count": 42,
     "metadata": {},
     "output_type": "execute_result"
    }
   ],
   "source": [
    "arr2d[0][2]"
   ]
  },
  {
   "cell_type": "code",
   "execution_count": 43,
   "metadata": {},
   "outputs": [
    {
     "data": {
      "text/plain": [
       "3"
      ]
     },
     "execution_count": 43,
     "metadata": {},
     "output_type": "execute_result"
    }
   ],
   "source": [
    "arr2d[0,2]"
   ]
  },
  {
   "cell_type": "code",
   "execution_count": 44,
   "metadata": {},
   "outputs": [
    {
     "data": {
      "text/plain": [
       "array([[[ 1,  2,  3],\n",
       "        [ 4,  5,  6]],\n",
       "\n",
       "       [[ 7,  8,  9],\n",
       "        [10, 11, 12]]])"
      ]
     },
     "execution_count": 44,
     "metadata": {},
     "output_type": "execute_result"
    }
   ],
   "source": [
    "arr3d = np.array([[[1, 2, 3], [4, 5, 6]], [[7, 8, 9], [10, 11, 12]]])\n",
    "arr3d"
   ]
  },
  {
   "cell_type": "code",
   "execution_count": 45,
   "metadata": {},
   "outputs": [
    {
     "data": {
      "text/plain": [
       "array([[1, 2, 3],\n",
       "       [4, 5, 6]])"
      ]
     },
     "execution_count": 45,
     "metadata": {},
     "output_type": "execute_result"
    }
   ],
   "source": [
    "arr3d[0]"
   ]
  },
  {
   "cell_type": "code",
   "execution_count": 46,
   "metadata": {},
   "outputs": [
    {
     "data": {
      "text/plain": [
       "array([[ 7,  8,  9],\n",
       "       [10, 11, 12]])"
      ]
     },
     "execution_count": 46,
     "metadata": {},
     "output_type": "execute_result"
    }
   ],
   "source": [
    "arr3d[1]"
   ]
  },
  {
   "cell_type": "markdown",
   "metadata": {},
   "source": [
    "Both scalar values and arrays can be assigned to arr3d[0]:"
   ]
  },
  {
   "cell_type": "code",
   "execution_count": 47,
   "metadata": {},
   "outputs": [],
   "source": [
    "old_value = arr3d.copy()u"
   ]
  },
  {
   "cell_type": "code",
   "execution_count": 48,
   "metadata": {},
   "outputs": [],
   "source": [
    "arr3d[0]=43"
   ]
  },
  {
   "cell_type": "code",
   "execution_count": 49,
   "metadata": {},
   "outputs": [
    {
     "data": {
      "text/plain": [
       "array([[[43, 43, 43],\n",
       "        [43, 43, 43]],\n",
       "\n",
       "       [[ 7,  8,  9],\n",
       "        [10, 11, 12]]])"
      ]
     },
     "execution_count": 49,
     "metadata": {},
     "output_type": "execute_result"
    }
   ],
   "source": [
    "arr3d"
   ]
  },
  {
   "cell_type": "code",
   "execution_count": 50,
   "metadata": {},
   "outputs": [
    {
     "data": {
      "text/plain": [
       "array([[[ 1,  2,  3],\n",
       "        [ 4,  5,  6]],\n",
       "\n",
       "       [[ 7,  8,  9],\n",
       "        [10, 11, 12]]])"
      ]
     },
     "execution_count": 50,
     "metadata": {},
     "output_type": "execute_result"
    }
   ],
   "source": [
    "arr3d = old_value\n",
    "arr3d"
   ]
  },
  {
   "cell_type": "code",
   "execution_count": 51,
   "metadata": {},
   "outputs": [
    {
     "data": {
      "text/plain": [
       "array([[ 7,  8,  9],\n",
       "       [10, 11, 12]])"
      ]
     },
     "execution_count": 51,
     "metadata": {},
     "output_type": "execute_result"
    }
   ],
   "source": [
    "arr3d[1]"
   ]
  },
  {
   "cell_type": "code",
   "execution_count": 52,
   "metadata": {},
   "outputs": [
    {
     "data": {
      "text/plain": [
       "array([7, 8, 9])"
      ]
     },
     "execution_count": 52,
     "metadata": {},
     "output_type": "execute_result"
    }
   ],
   "source": [
    "arr3d[1,0]"
   ]
  },
  {
   "cell_type": "code",
   "execution_count": 53,
   "metadata": {},
   "outputs": [
    {
     "data": {
      "text/plain": [
       "8"
      ]
     },
     "execution_count": 53,
     "metadata": {},
     "output_type": "execute_result"
    }
   ],
   "source": [
    "arr3d[1,0,1]"
   ]
  },
  {
   "cell_type": "markdown",
   "metadata": {},
   "source": [
    "# Indexing with slices"
   ]
  },
  {
   "cell_type": "code",
   "execution_count": 54,
   "metadata": {},
   "outputs": [
    {
     "data": {
      "text/plain": [
       "array([ 1,  2,  3,  4, 64])"
      ]
     },
     "execution_count": 54,
     "metadata": {},
     "output_type": "execute_result"
    }
   ],
   "source": [
    "arr[1:6]"
   ]
  },
  {
   "cell_type": "code",
   "execution_count": 55,
   "metadata": {},
   "outputs": [
    {
     "data": {
      "text/plain": [
       "array([[1, 2, 3],\n",
       "       [4, 5, 6],\n",
       "       [7, 8, 9]])"
      ]
     },
     "execution_count": 55,
     "metadata": {},
     "output_type": "execute_result"
    }
   ],
   "source": [
    "arr2d"
   ]
  },
  {
   "cell_type": "code",
   "execution_count": 56,
   "metadata": {},
   "outputs": [
    {
     "data": {
      "text/plain": [
       "array([[1, 2, 3],\n",
       "       [4, 5, 6]])"
      ]
     },
     "execution_count": 56,
     "metadata": {},
     "output_type": "execute_result"
    }
   ],
   "source": [
    "arr2d[:2]"
   ]
  },
  {
   "cell_type": "code",
   "execution_count": 57,
   "metadata": {},
   "outputs": [
    {
     "data": {
      "text/plain": [
       "array([[4, 5, 6],\n",
       "       [7, 8, 9]])"
      ]
     },
     "execution_count": 57,
     "metadata": {},
     "output_type": "execute_result"
    }
   ],
   "source": [
    "arr2d[1:]"
   ]
  },
  {
   "cell_type": "code",
   "execution_count": 58,
   "metadata": {},
   "outputs": [
    {
     "data": {
      "text/plain": [
       "array([[2, 3],\n",
       "       [5, 6]])"
      ]
     },
     "execution_count": 58,
     "metadata": {},
     "output_type": "execute_result"
    }
   ],
   "source": [
    "arr2d[:2,1:] # here 2 is row it mean bring all row before row 2 and 1 is 4 colume it means bring all colume aafter colum1 "
   ]
  },
  {
   "cell_type": "code",
   "execution_count": 59,
   "metadata": {},
   "outputs": [
    {
     "data": {
      "text/plain": [
       "array([4, 5])"
      ]
     },
     "execution_count": 59,
     "metadata": {},
     "output_type": "execute_result"
    }
   ],
   "source": [
    "arr2d[1,:2]"
   ]
  },
  {
   "cell_type": "code",
   "execution_count": 60,
   "metadata": {},
   "outputs": [
    {
     "data": {
      "text/plain": [
       "array([7])"
      ]
     },
     "execution_count": 60,
     "metadata": {},
     "output_type": "execute_result"
    }
   ],
   "source": [
    "arr2d[2,:1]"
   ]
  },
  {
   "cell_type": "code",
   "execution_count": 61,
   "metadata": {},
   "outputs": [
    {
     "data": {
      "text/plain": [
       "array([[1],\n",
       "       [4],\n",
       "       [7]])"
      ]
     },
     "execution_count": 61,
     "metadata": {},
     "output_type": "execute_result"
    }
   ],
   "source": [
    "arr2d[:,:1]"
   ]
  },
  {
   "cell_type": "code",
   "execution_count": 62,
   "metadata": {},
   "outputs": [
    {
     "data": {
      "text/plain": [
       "array([[1, 0, 0],\n",
       "       [4, 0, 0],\n",
       "       [7, 8, 9]])"
      ]
     },
     "execution_count": 62,
     "metadata": {},
     "output_type": "execute_result"
    }
   ],
   "source": [
    "arr2d[:2,1:] = 0\n",
    "arr2d"
   ]
  },
  {
   "cell_type": "code",
   "execution_count": 63,
   "metadata": {},
   "outputs": [
    {
     "data": {
      "text/plain": [
       "array(['Bob', 'Joe', 'Will', 'Bob', 'Will', 'Joe', 'Joe'], dtype='<U4')"
      ]
     },
     "execution_count": 63,
     "metadata": {},
     "output_type": "execute_result"
    }
   ],
   "source": [
    "names = np.array(['Bob', 'Joe', 'Will', 'Bob', 'Will', 'Joe', 'Joe'])\n",
    "names"
   ]
  },
  {
   "cell_type": "code",
   "execution_count": 64,
   "metadata": {},
   "outputs": [],
   "source": [
    "data = np.random.randn(7, 4)"
   ]
  },
  {
   "cell_type": "code",
   "execution_count": 65,
   "metadata": {},
   "outputs": [
    {
     "data": {
      "text/plain": [
       "array([[ 1.15356559, -0.18782997, -1.5700316 , -0.32615856],\n",
       "       [-0.24084202,  0.71302261,  1.07039056, -1.22403365],\n",
       "       [ 0.13855243,  1.92981305,  0.48231024, -0.16482098],\n",
       "       [-0.9513444 ,  0.05287528, -1.98742432,  0.59818856],\n",
       "       [ 1.11100772,  1.07744569,  1.34208022, -0.32357146],\n",
       "       [ 0.46620045, -0.00890917, -0.36964989,  0.84112148],\n",
       "       [ 1.27219532,  0.34163179, -1.15901977, -1.58670697]])"
      ]
     },
     "execution_count": 65,
     "metadata": {},
     "output_type": "execute_result"
    }
   ],
   "source": [
    "data"
   ]
  },
  {
   "cell_type": "code",
   "execution_count": 66,
   "metadata": {},
   "outputs": [
    {
     "data": {
      "text/plain": [
       "array([ True, False, False,  True, False, False, False])"
      ]
     },
     "execution_count": 66,
     "metadata": {},
     "output_type": "execute_result"
    }
   ],
   "source": [
    "names == 'Bob'"
   ]
  },
  {
   "cell_type": "code",
   "execution_count": 67,
   "metadata": {},
   "outputs": [
    {
     "data": {
      "text/plain": [
       "array([[ 1.15356559, -0.18782997, -1.5700316 , -0.32615856],\n",
       "       [-0.9513444 ,  0.05287528, -1.98742432,  0.59818856]])"
      ]
     },
     "execution_count": 67,
     "metadata": {},
     "output_type": "execute_result"
    }
   ],
   "source": [
    "data[names=='Bob']"
   ]
  },
  {
   "cell_type": "code",
   "execution_count": 68,
   "metadata": {},
   "outputs": [
    {
     "data": {
      "text/plain": [
       "array([-0.32615856,  0.59818856])"
      ]
     },
     "execution_count": 68,
     "metadata": {},
     "output_type": "execute_result"
    }
   ],
   "source": [
    "data[names=='Bob',3] # hare names works as a row and 3: work as a colum"
   ]
  },
  {
   "cell_type": "code",
   "execution_count": 69,
   "metadata": {},
   "outputs": [
    {
     "data": {
      "text/plain": [
       "array([[ 1.15356559, -0.18782997, -1.5700316 ],\n",
       "       [-0.9513444 ,  0.05287528, -1.98742432]])"
      ]
     },
     "execution_count": 69,
     "metadata": {},
     "output_type": "execute_result"
    }
   ],
   "source": [
    "data[names=='Bob',:3] # hare names works as a row and 3: work as a colum"
   ]
  },
  {
   "cell_type": "code",
   "execution_count": 70,
   "metadata": {},
   "outputs": [
    {
     "data": {
      "text/plain": [
       "array([[-0.32615856],\n",
       "       [ 0.59818856]])"
      ]
     },
     "execution_count": 70,
     "metadata": {},
     "output_type": "execute_result"
    }
   ],
   "source": [
    "data[names=='Bob',3:] # hare names works as a row and 3: work as a colum"
   ]
  },
  {
   "cell_type": "code",
   "execution_count": 71,
   "metadata": {},
   "outputs": [
    {
     "data": {
      "text/plain": [
       "array([ True, False,  True,  True,  True, False, False])"
      ]
     },
     "execution_count": 71,
     "metadata": {},
     "output_type": "execute_result"
    }
   ],
   "source": [
    "mask = (names == 'Bob') | (names == 'Will')\n",
    "mask"
   ]
  },
  {
   "cell_type": "code",
   "execution_count": 72,
   "metadata": {},
   "outputs": [
    {
     "data": {
      "text/plain": [
       "array([[ 1.15356559, -0.18782997, -1.5700316 , -0.32615856],\n",
       "       [ 0.13855243,  1.92981305,  0.48231024, -0.16482098],\n",
       "       [-0.9513444 ,  0.05287528, -1.98742432,  0.59818856],\n",
       "       [ 1.11100772,  1.07744569,  1.34208022, -0.32357146]])"
      ]
     },
     "execution_count": 72,
     "metadata": {},
     "output_type": "execute_result"
    }
   ],
   "source": [
    "data[mask]"
   ]
  },
  {
   "cell_type": "code",
   "execution_count": 73,
   "metadata": {},
   "outputs": [
    {
     "data": {
      "text/plain": [
       "array([[1.15356559, 0.        , 0.        , 0.        ],\n",
       "       [0.        , 0.71302261, 1.07039056, 0.        ],\n",
       "       [0.13855243, 1.92981305, 0.48231024, 0.        ],\n",
       "       [0.        , 0.05287528, 0.        , 0.59818856],\n",
       "       [1.11100772, 1.07744569, 1.34208022, 0.        ],\n",
       "       [0.46620045, 0.        , 0.        , 0.84112148],\n",
       "       [1.27219532, 0.34163179, 0.        , 0.        ]])"
      ]
     },
     "execution_count": 73,
     "metadata": {},
     "output_type": "execute_result"
    }
   ],
   "source": [
    "data[data<0]=0\n",
    "data"
   ]
  },
  {
   "cell_type": "code",
   "execution_count": 74,
   "metadata": {},
   "outputs": [
    {
     "data": {
      "text/plain": [
       "array([[7.        , 7.        , 7.        , 7.        ],\n",
       "       [0.        , 0.71302261, 1.07039056, 0.        ],\n",
       "       [7.        , 7.        , 7.        , 7.        ],\n",
       "       [7.        , 7.        , 7.        , 7.        ],\n",
       "       [7.        , 7.        , 7.        , 7.        ],\n",
       "       [0.46620045, 0.        , 0.        , 0.84112148],\n",
       "       [1.27219532, 0.34163179, 0.        , 0.        ]])"
      ]
     },
     "execution_count": 74,
     "metadata": {},
     "output_type": "execute_result"
    }
   ],
   "source": [
    "data[names != 'Joe'] = 7\n",
    "data"
   ]
  },
  {
   "cell_type": "markdown",
   "metadata": {},
   "source": [
    "# Fancy Indexing"
   ]
  },
  {
   "cell_type": "code",
   "execution_count": 75,
   "metadata": {},
   "outputs": [
    {
     "data": {
      "text/plain": [
       "array([[0., 0., 0., 0.],\n",
       "       [0., 0., 0., 0.],\n",
       "       [0., 0., 0., 0.],\n",
       "       [0., 0., 0., 0.],\n",
       "       [0., 0., 0., 0.],\n",
       "       [0., 0., 0., 0.],\n",
       "       [0., 0., 0., 0.],\n",
       "       [0., 0., 0., 0.]])"
      ]
     },
     "execution_count": 75,
     "metadata": {},
     "output_type": "execute_result"
    }
   ],
   "source": [
    "arr = np.empty((8, 4))\n",
    "arr"
   ]
  },
  {
   "cell_type": "code",
   "execution_count": 76,
   "metadata": {},
   "outputs": [
    {
     "data": {
      "text/plain": [
       "array([[0., 0., 0., 0.],\n",
       "       [1., 1., 1., 1.],\n",
       "       [2., 2., 2., 2.],\n",
       "       [3., 3., 3., 3.],\n",
       "       [4., 4., 4., 4.],\n",
       "       [5., 5., 5., 5.],\n",
       "       [6., 6., 6., 6.],\n",
       "       [7., 7., 7., 7.]])"
      ]
     },
     "execution_count": 76,
     "metadata": {},
     "output_type": "execute_result"
    }
   ],
   "source": [
    "for i in range(8):\n",
    "    arr[i] = i\n",
    "arr"
   ]
  },
  {
   "cell_type": "code",
   "execution_count": 77,
   "metadata": {},
   "outputs": [
    {
     "data": {
      "text/plain": [
       "array([[2., 2., 2., 2.],\n",
       "       [4., 4., 4., 4.],\n",
       "       [6., 6., 6., 6.],\n",
       "       [0., 0., 0., 0.]])"
      ]
     },
     "execution_count": 77,
     "metadata": {},
     "output_type": "execute_result"
    }
   ],
   "source": [
    "arr[[2,4,6,0]]"
   ]
  },
  {
   "cell_type": "code",
   "execution_count": 78,
   "metadata": {},
   "outputs": [
    {
     "data": {
      "text/plain": [
       "array([[6., 6., 6., 6.],\n",
       "       [4., 4., 4., 4.],\n",
       "       [2., 2., 2., 2.],\n",
       "       [0., 0., 0., 0.]])"
      ]
     },
     "execution_count": 78,
     "metadata": {},
     "output_type": "execute_result"
    }
   ],
   "source": [
    "arr[[-2,-4,-6,0]]"
   ]
  },
  {
   "cell_type": "code",
   "execution_count": 79,
   "metadata": {},
   "outputs": [
    {
     "data": {
      "text/plain": [
       "array([[ 0,  1,  2,  3],\n",
       "       [ 4,  5,  6,  7],\n",
       "       [ 8,  9, 10, 11],\n",
       "       [12, 13, 14, 15],\n",
       "       [16, 17, 18, 19],\n",
       "       [20, 21, 22, 23],\n",
       "       [24, 25, 26, 27],\n",
       "       [28, 29, 30, 31]])"
      ]
     },
     "execution_count": 79,
     "metadata": {},
     "output_type": "execute_result"
    }
   ],
   "source": [
    "arr = np.arange(32).reshape(8,4)\n",
    "arr "
   ]
  },
  {
   "cell_type": "code",
   "execution_count": 80,
   "metadata": {},
   "outputs": [
    {
     "data": {
      "text/plain": [
       "array([ 4, 23, 29, 10])"
      ]
     },
     "execution_count": 80,
     "metadata": {},
     "output_type": "execute_result"
    }
   ],
   "source": [
    "arr[[1, 5, 7, 2], [0, 3, 1, 2]]"
   ]
  },
  {
   "cell_type": "code",
   "execution_count": 81,
   "metadata": {},
   "outputs": [
    {
     "data": {
      "text/plain": [
       "array([[ 4,  7,  5,  6],\n",
       "       [20, 23, 21, 22],\n",
       "       [28, 31, 29, 30],\n",
       "       [ 8, 11,  9, 10]])"
      ]
     },
     "execution_count": 81,
     "metadata": {},
     "output_type": "execute_result"
    }
   ],
   "source": [
    "arr[[1, 5, 7, 2]][:, [0, 3, 1, 2]]"
   ]
  },
  {
   "cell_type": "code",
   "execution_count": 82,
   "metadata": {},
   "outputs": [
    {
     "data": {
      "text/plain": [
       "array([[ 4,  5,  6,  7],\n",
       "       [20, 21, 22, 23],\n",
       "       [28, 29, 30, 31],\n",
       "       [ 8,  9, 10, 11]])"
      ]
     },
     "execution_count": 82,
     "metadata": {},
     "output_type": "execute_result"
    }
   ],
   "source": [
    "arr[[1, 5, 7, 2]][:]#, [0, 3, 1, 2]]"
   ]
  },
  {
   "cell_type": "markdown",
   "metadata": {},
   "source": [
    "Another way is to use the np.ix_ function, which converts two 1D integer arrays to an\n",
    "indexer that selects the square region:"
   ]
  },
  {
   "cell_type": "code",
   "execution_count": 83,
   "metadata": {},
   "outputs": [
    {
     "data": {
      "text/plain": [
       "array([[ 4,  7,  5,  6],\n",
       "       [20, 23, 21, 22],\n",
       "       [28, 31, 29, 30],\n",
       "       [ 8, 11,  9, 10]])"
      ]
     },
     "execution_count": 83,
     "metadata": {},
     "output_type": "execute_result"
    }
   ],
   "source": [
    "arr[np.ix_([1, 5, 7, 2], [0, 3, 1, 2])]"
   ]
  },
  {
   "cell_type": "markdown",
   "metadata": {},
   "source": [
    "# Transposing Arrays and Swapping Axes"
   ]
  },
  {
   "cell_type": "code",
   "execution_count": 84,
   "metadata": {},
   "outputs": [
    {
     "data": {
      "text/plain": [
       "array([[ 0,  1,  2,  3,  4],\n",
       "       [ 5,  6,  7,  8,  9],\n",
       "       [10, 11, 12, 13, 14]])"
      ]
     },
     "execution_count": 84,
     "metadata": {},
     "output_type": "execute_result"
    }
   ],
   "source": [
    "arr = np.arange(15).reshape((3, 5))\n",
    "arr"
   ]
  },
  {
   "cell_type": "code",
   "execution_count": 85,
   "metadata": {},
   "outputs": [
    {
     "data": {
      "text/plain": [
       "array([[ 0,  5, 10],\n",
       "       [ 1,  6, 11],\n",
       "       [ 2,  7, 12],\n",
       "       [ 3,  8, 13],\n",
       "       [ 4,  9, 14]])"
      ]
     },
     "execution_count": 85,
     "metadata": {},
     "output_type": "execute_result"
    }
   ],
   "source": [
    "arr.T"
   ]
  },
  {
   "cell_type": "code",
   "execution_count": 86,
   "metadata": {},
   "outputs": [
    {
     "data": {
      "text/plain": [
       "array([[ 0.23303359,  0.70701053, -1.72744378],\n",
       "       [ 0.02171426,  0.32220228,  1.20789478],\n",
       "       [-0.5708766 ,  1.3558421 , -0.16746628],\n",
       "       [-0.9669293 , -0.74586334, -1.85210381],\n",
       "       [-1.66212726,  0.36673977, -0.90736769],\n",
       "       [-0.21676797, -0.06583383,  1.20225594]])"
      ]
     },
     "execution_count": 86,
     "metadata": {},
     "output_type": "execute_result"
    }
   ],
   "source": [
    "arr = np.random.randn(6, 3)\n",
    "arr"
   ]
  },
  {
   "cell_type": "code",
   "execution_count": 87,
   "metadata": {},
   "outputs": [
    {
     "data": {
      "text/plain": [
       "array([[ 4.12528393, -0.47636533,  2.75768215],\n",
       "       [-0.47636533,  3.13713029, -0.08969293],\n",
       "       [ 2.75768215, -0.08969293, 10.1701408 ]])"
      ]
     },
     "execution_count": 87,
     "metadata": {},
     "output_type": "execute_result"
    }
   ],
   "source": [
    "np.dot(arr.T,arr)"
   ]
  },
  {
   "cell_type": "code",
   "execution_count": 88,
   "metadata": {},
   "outputs": [
    {
     "data": {
      "text/plain": [
       "array([[[ 0,  1,  2,  3],\n",
       "        [ 4,  5,  6,  7]],\n",
       "\n",
       "       [[ 8,  9, 10, 11],\n",
       "        [12, 13, 14, 15]]])"
      ]
     },
     "execution_count": 88,
     "metadata": {},
     "output_type": "execute_result"
    }
   ],
   "source": [
    "arr = np.arange(16).reshape((2, 2, 4))\n",
    "arr"
   ]
  },
  {
   "cell_type": "code",
   "execution_count": 89,
   "metadata": {},
   "outputs": [
    {
     "data": {
      "text/plain": [
       "array([[[ 0,  1,  2,  3],\n",
       "        [ 8,  9, 10, 11]],\n",
       "\n",
       "       [[ 4,  5,  6,  7],\n",
       "        [12, 13, 14, 15]]])"
      ]
     },
     "execution_count": 89,
     "metadata": {},
     "output_type": "execute_result"
    }
   ],
   "source": [
    "arr.transpose((1,0,2))"
   ]
  },
  {
   "cell_type": "code",
   "execution_count": 90,
   "metadata": {},
   "outputs": [
    {
     "data": {
      "text/plain": [
       "array([[[ 0,  8],\n",
       "        [ 4, 12]],\n",
       "\n",
       "       [[ 1,  9],\n",
       "        [ 5, 13]],\n",
       "\n",
       "       [[ 2, 10],\n",
       "        [ 6, 14]],\n",
       "\n",
       "       [[ 3, 11],\n",
       "        [ 7, 15]]])"
      ]
     },
     "execution_count": 90,
     "metadata": {},
     "output_type": "execute_result"
    }
   ],
   "source": [
    "arr.T"
   ]
  },
  {
   "cell_type": "code",
   "execution_count": 91,
   "metadata": {},
   "outputs": [
    {
     "data": {
      "text/plain": [
       "array([[[ 0,  1,  2,  3],\n",
       "        [ 4,  5,  6,  7]],\n",
       "\n",
       "       [[ 8,  9, 10, 11],\n",
       "        [12, 13, 14, 15]]])"
      ]
     },
     "execution_count": 91,
     "metadata": {},
     "output_type": "execute_result"
    }
   ],
   "source": [
    "arr"
   ]
  },
  {
   "cell_type": "code",
   "execution_count": 92,
   "metadata": {},
   "outputs": [
    {
     "data": {
      "text/plain": [
       "array([[[ 0,  4],\n",
       "        [ 1,  5],\n",
       "        [ 2,  6],\n",
       "        [ 3,  7]],\n",
       "\n",
       "       [[ 8, 12],\n",
       "        [ 9, 13],\n",
       "        [10, 14],\n",
       "        [11, 15]]])"
      ]
     },
     "execution_count": 92,
     "metadata": {},
     "output_type": "execute_result"
    }
   ],
   "source": [
    "arr.swapaxes(1,2)"
   ]
  },
  {
   "cell_type": "markdown",
   "metadata": {},
   "source": [
    "# Universal Functions: Fast Element-wise Array Functions"
   ]
  },
  {
   "cell_type": "markdown",
   "metadata": {},
   "source": [
    "A universal function, or ufunc, is a function that performs elementwise operations on\n",
    "data in ndarrays. You can think of them as fast vectorized wrappers for simple functions\n",
    "that take one or more scalar values and produce one or more scalar results.\n",
    "Many ufuncs are simple elementwise transformations, like sqrt or exp:"
   ]
  },
  {
   "cell_type": "code",
   "execution_count": 93,
   "metadata": {},
   "outputs": [
    {
     "data": {
      "text/plain": [
       "array([0, 1, 2, 3, 4, 5, 6, 7, 8, 9])"
      ]
     },
     "execution_count": 93,
     "metadata": {},
     "output_type": "execute_result"
    }
   ],
   "source": [
    "arr = np.arange(10)\n",
    "arr"
   ]
  },
  {
   "cell_type": "code",
   "execution_count": 94,
   "metadata": {},
   "outputs": [
    {
     "data": {
      "text/plain": [
       "array([0.        , 1.        , 1.41421356, 1.73205081, 2.        ,\n",
       "       2.23606798, 2.44948974, 2.64575131, 2.82842712, 3.        ])"
      ]
     },
     "execution_count": 94,
     "metadata": {},
     "output_type": "execute_result"
    }
   ],
   "source": [
    "np.sqrt(arr)"
   ]
  },
  {
   "cell_type": "code",
   "execution_count": 95,
   "metadata": {},
   "outputs": [
    {
     "data": {
      "text/plain": [
       "array([1.00000000e+00, 2.71828183e+00, 7.38905610e+00, 2.00855369e+01,\n",
       "       5.45981500e+01, 1.48413159e+02, 4.03428793e+02, 1.09663316e+03,\n",
       "       2.98095799e+03, 8.10308393e+03])"
      ]
     },
     "execution_count": 95,
     "metadata": {},
     "output_type": "execute_result"
    }
   ],
   "source": [
    "np.exp(arr)"
   ]
  },
  {
   "cell_type": "code",
   "execution_count": 96,
   "metadata": {},
   "outputs": [],
   "source": [
    "x = np.random.randn(8)\n",
    "y = np.random.randn(8)"
   ]
  },
  {
   "cell_type": "code",
   "execution_count": 97,
   "metadata": {},
   "outputs": [
    {
     "data": {
      "text/plain": [
       "array([-0.06094322,  0.80698097, -0.66336807, -0.04308697,  0.25846981,\n",
       "        1.2111225 ,  0.38296429,  1.4260738 ])"
      ]
     },
     "execution_count": 97,
     "metadata": {},
     "output_type": "execute_result"
    }
   ],
   "source": [
    "x"
   ]
  },
  {
   "cell_type": "code",
   "execution_count": 98,
   "metadata": {},
   "outputs": [
    {
     "data": {
      "text/plain": [
       "array([ 1.04699373,  0.50426231, -0.86238031, -0.04305924,  0.63973955,\n",
       "        0.15059609,  0.09211068,  0.3225695 ])"
      ]
     },
     "execution_count": 98,
     "metadata": {},
     "output_type": "execute_result"
    }
   ],
   "source": [
    "y"
   ]
  },
  {
   "cell_type": "code",
   "execution_count": 99,
   "metadata": {},
   "outputs": [
    {
     "data": {
      "text/plain": [
       "array([ 1.04699373,  0.80698097, -0.66336807, -0.04305924,  0.63973955,\n",
       "        1.2111225 ,  0.38296429,  1.4260738 ])"
      ]
     },
     "execution_count": 99,
     "metadata": {},
     "output_type": "execute_result"
    }
   ],
   "source": [
    "np.maximum(x,y)# element-wise maximum"
   ]
  },
  {
   "cell_type": "markdown",
   "metadata": {},
   "source": [
    "While not common, a ufunc can return multiple arrays. modf is one example, a vectorized\n",
    "version of the built-in Python divmod: it returns the fractional and integral parts of\n",
    "a floating point array:"
   ]
  },
  {
   "cell_type": "code",
   "execution_count": 100,
   "metadata": {},
   "outputs": [
    {
     "data": {
      "text/plain": [
       "array([-4.57485809,  4.85056695,  4.95418842, -4.03904616, -2.84838966,\n",
       "       16.17885676, 10.7185997 ])"
      ]
     },
     "execution_count": 100,
     "metadata": {},
     "output_type": "execute_result"
    }
   ],
   "source": [
    "arr = np.random.randn(7)*9\n",
    "arr"
   ]
  },
  {
   "cell_type": "markdown",
   "metadata": {},
   "source": [
    "While not common, a ufunc can return multiple arrays. modf is one example, a vectorized\n",
    "version of the built-in Python divmod: it returns the fractional and integral parts of\n",
    "a floating point array:"
   ]
  },
  {
   "cell_type": "code",
   "execution_count": 101,
   "metadata": {},
   "outputs": [
    {
     "data": {
      "text/plain": [
       "(array([-0.57485809,  0.85056695,  0.95418842, -0.03904616, -0.84838966,\n",
       "         0.17885676,  0.7185997 ]), array([-4.,  4.,  4., -4., -2., 16., 10.]))"
      ]
     },
     "execution_count": 101,
     "metadata": {},
     "output_type": "execute_result"
    }
   ],
   "source": [
    "np.modf(arr)"
   ]
  },
  {
   "cell_type": "code",
   "execution_count": 102,
   "metadata": {},
   "outputs": [
    {
     "data": {
      "text/plain": [
       "array([-0.14936131,  0.78000441, -0.03004689,  2.2631664 , -0.54994927,\n",
       "        0.44070969, -0.1257161 , -1.33776393,  0.18244924, -0.6390733 ])"
      ]
     },
     "execution_count": 102,
     "metadata": {},
     "output_type": "execute_result"
    }
   ],
   "source": [
    "arr1=np.random.randn(10)\n",
    "arr1"
   ]
  },
  {
   "cell_type": "code",
   "execution_count": 103,
   "metadata": {},
   "outputs": [
    {
     "data": {
      "text/plain": [
       "10"
      ]
     },
     "execution_count": 103,
     "metadata": {},
     "output_type": "execute_result"
    }
   ],
   "source": [
    "arr1.size"
   ]
  },
  {
   "cell_type": "markdown",
   "metadata": {},
   "source": [
    "Function Description\n",
    "abs, fabs Compute the absolute value element-wise for integer, floating point, or complex values.\n",
    "Use fabs as a faster alternative for non-complex-valued data\n",
    "sqrt Compute the square root of each element. Equivalent to arr ** 0.5\n",
    "square Compute the square of each element. Equivalent to arr ** 2\n",
    "exp Compute the exponent ex of each element\n",
    "log, log10, log2, log1p Natural logarithm (base e), log base 10, log base 2, and log(1 + x), respectively\n",
    "sign Compute the sign of each element: 1 (positive), 0 (zero), or -1 (negative)\n",
    "ceil Compute the ceiling of each element, i.e. the smallest integer greater than or equal to\n",
    "each element\n",
    "floor Compute the floor of each element, i.e. the largest integer less than or equal to each\n",
    "element\n",
    "rint Round elements to the nearest integer, preserving the dtype\n",
    "modf Return fractional and integral parts of array as separate array\n",
    "isnan Return boolean array indicating whether each value is NaN (Not a Number)\n",
    "isfinite, isinf Return boolean array indicating whether each element is finite (non-inf, non-NaN) or\n",
    "infinite, respectively\n",
    "cos, cosh, sin, sinh,\n",
    "tan, tanh\n",
    "Regular and hyperbolic trigonometric functions\n",
    "arccos, arccosh, arcsin,\n",
    "arcsinh, arctan, arctanh\n",
    "Inverse trigonometric functions\n",
    "logical_not Compute truth value of not x element-wise. Equivalent to -arr."
   ]
  },
  {
   "cell_type": "code",
   "execution_count": 104,
   "metadata": {},
   "outputs": [
    {
     "data": {
      "text/plain": [
       "array([2.23088007e-02, 6.08406878e-01, 9.02815854e-04, 5.12192217e+00,\n",
       "       3.02444200e-01, 1.94225030e-01, 1.58045390e-02, 1.78961232e+00,\n",
       "       3.32877235e-02, 4.08414683e-01])"
      ]
     },
     "execution_count": 104,
     "metadata": {},
     "output_type": "execute_result"
    }
   ],
   "source": [
    "np.square(arr1)"
   ]
  },
  {
   "cell_type": "code",
   "execution_count": 105,
   "metadata": {},
   "outputs": [
    {
     "data": {
      "text/plain": [
       "array([-1.,  1., -1.,  1., -1.,  1., -1., -1.,  1., -1.])"
      ]
     },
     "execution_count": 105,
     "metadata": {},
     "output_type": "execute_result"
    }
   ],
   "source": [
    "np.sign(arr1)"
   ]
  },
  {
   "cell_type": "code",
   "execution_count": 106,
   "metadata": {},
   "outputs": [
    {
     "data": {
      "text/plain": [
       "array([-0.,  1., -0.,  3., -0.,  1., -0., -1.,  1., -0.])"
      ]
     },
     "execution_count": 106,
     "metadata": {},
     "output_type": "execute_result"
    }
   ],
   "source": [
    "np.ceil(arr1)"
   ]
  },
  {
   "cell_type": "code",
   "execution_count": 107,
   "metadata": {},
   "outputs": [
    {
     "data": {
      "text/plain": [
       "array([-1.,  0., -1.,  2., -1.,  0., -1., -2.,  0., -1.])"
      ]
     },
     "execution_count": 107,
     "metadata": {},
     "output_type": "execute_result"
    }
   ],
   "source": [
    "np.floor(arr1)"
   ]
  },
  {
   "cell_type": "code",
   "execution_count": 108,
   "metadata": {},
   "outputs": [
    {
     "data": {
      "text/plain": [
       "array([-0.,  1., -0.,  2., -1.,  0., -0., -1.,  0., -1.])"
      ]
     },
     "execution_count": 108,
     "metadata": {},
     "output_type": "execute_result"
    }
   ],
   "source": [
    "np.rint(arr1)"
   ]
  },
  {
   "cell_type": "code",
   "execution_count": 109,
   "metadata": {},
   "outputs": [
    {
     "data": {
      "text/plain": [
       "array([False, False, False, False, False, False, False, False, False,\n",
       "       False])"
      ]
     },
     "execution_count": 109,
     "metadata": {},
     "output_type": "execute_result"
    }
   ],
   "source": [
    "np.isnan(arr1)"
   ]
  },
  {
   "cell_type": "code",
   "execution_count": 110,
   "metadata": {},
   "outputs": [
    {
     "data": {
      "text/plain": [
       "array([ True,  True,  True,  True,  True,  True,  True,  True,  True,\n",
       "        True])"
      ]
     },
     "execution_count": 110,
     "metadata": {},
     "output_type": "execute_result"
    }
   ],
   "source": [
    "np.isfinite(arr1)"
   ]
  },
  {
   "cell_type": "markdown",
   "metadata": {},
   "source": [
    "# Data Processing Using Arrays"
   ]
  },
  {
   "cell_type": "markdown",
   "metadata": {},
   "source": [
    "As a simple example, suppose we wished to evaluate the function sqrt(x^2 + y^2)\n",
    "across a regular grid of values. The np.meshgrid function takes two 1D arrays and produces\n",
    "two 2D matrices corresponding to all pairs of (x, y) in the two arrays:"
   ]
  },
  {
   "cell_type": "code",
   "execution_count": 111,
   "metadata": {},
   "outputs": [
    {
     "data": {
      "text/plain": [
       "array([-5, -4, -3, -2, -1,  0,  1,  2,  3,  4])"
      ]
     },
     "execution_count": 111,
     "metadata": {},
     "output_type": "execute_result"
    }
   ],
   "source": [
    "points = np.arange(-5,5)\n",
    "points"
   ]
  },
  {
   "cell_type": "code",
   "execution_count": 112,
   "metadata": {},
   "outputs": [
    {
     "data": {
      "text/plain": [
       "array([-5.0000000e+00, -4.9900000e+00, -4.9800000e+00, -4.9700000e+00,\n",
       "       -4.9600000e+00, -4.9500000e+00, -4.9400000e+00, -4.9300000e+00,\n",
       "       -4.9200000e+00, -4.9100000e+00, -4.9000000e+00, -4.8900000e+00,\n",
       "       -4.8800000e+00, -4.8700000e+00, -4.8600000e+00, -4.8500000e+00,\n",
       "       -4.8400000e+00, -4.8300000e+00, -4.8200000e+00, -4.8100000e+00,\n",
       "       -4.8000000e+00, -4.7900000e+00, -4.7800000e+00, -4.7700000e+00,\n",
       "       -4.7600000e+00, -4.7500000e+00, -4.7400000e+00, -4.7300000e+00,\n",
       "       -4.7200000e+00, -4.7100000e+00, -4.7000000e+00, -4.6900000e+00,\n",
       "       -4.6800000e+00, -4.6700000e+00, -4.6600000e+00, -4.6500000e+00,\n",
       "       -4.6400000e+00, -4.6300000e+00, -4.6200000e+00, -4.6100000e+00,\n",
       "       -4.6000000e+00, -4.5900000e+00, -4.5800000e+00, -4.5700000e+00,\n",
       "       -4.5600000e+00, -4.5500000e+00, -4.5400000e+00, -4.5300000e+00,\n",
       "       -4.5200000e+00, -4.5100000e+00, -4.5000000e+00, -4.4900000e+00,\n",
       "       -4.4800000e+00, -4.4700000e+00, -4.4600000e+00, -4.4500000e+00,\n",
       "       -4.4400000e+00, -4.4300000e+00, -4.4200000e+00, -4.4100000e+00,\n",
       "       -4.4000000e+00, -4.3900000e+00, -4.3800000e+00, -4.3700000e+00,\n",
       "       -4.3600000e+00, -4.3500000e+00, -4.3400000e+00, -4.3300000e+00,\n",
       "       -4.3200000e+00, -4.3100000e+00, -4.3000000e+00, -4.2900000e+00,\n",
       "       -4.2800000e+00, -4.2700000e+00, -4.2600000e+00, -4.2500000e+00,\n",
       "       -4.2400000e+00, -4.2300000e+00, -4.2200000e+00, -4.2100000e+00,\n",
       "       -4.2000000e+00, -4.1900000e+00, -4.1800000e+00, -4.1700000e+00,\n",
       "       -4.1600000e+00, -4.1500000e+00, -4.1400000e+00, -4.1300000e+00,\n",
       "       -4.1200000e+00, -4.1100000e+00, -4.1000000e+00, -4.0900000e+00,\n",
       "       -4.0800000e+00, -4.0700000e+00, -4.0600000e+00, -4.0500000e+00,\n",
       "       -4.0400000e+00, -4.0300000e+00, -4.0200000e+00, -4.0100000e+00,\n",
       "       -4.0000000e+00, -3.9900000e+00, -3.9800000e+00, -3.9700000e+00,\n",
       "       -3.9600000e+00, -3.9500000e+00, -3.9400000e+00, -3.9300000e+00,\n",
       "       -3.9200000e+00, -3.9100000e+00, -3.9000000e+00, -3.8900000e+00,\n",
       "       -3.8800000e+00, -3.8700000e+00, -3.8600000e+00, -3.8500000e+00,\n",
       "       -3.8400000e+00, -3.8300000e+00, -3.8200000e+00, -3.8100000e+00,\n",
       "       -3.8000000e+00, -3.7900000e+00, -3.7800000e+00, -3.7700000e+00,\n",
       "       -3.7600000e+00, -3.7500000e+00, -3.7400000e+00, -3.7300000e+00,\n",
       "       -3.7200000e+00, -3.7100000e+00, -3.7000000e+00, -3.6900000e+00,\n",
       "       -3.6800000e+00, -3.6700000e+00, -3.6600000e+00, -3.6500000e+00,\n",
       "       -3.6400000e+00, -3.6300000e+00, -3.6200000e+00, -3.6100000e+00,\n",
       "       -3.6000000e+00, -3.5900000e+00, -3.5800000e+00, -3.5700000e+00,\n",
       "       -3.5600000e+00, -3.5500000e+00, -3.5400000e+00, -3.5300000e+00,\n",
       "       -3.5200000e+00, -3.5100000e+00, -3.5000000e+00, -3.4900000e+00,\n",
       "       -3.4800000e+00, -3.4700000e+00, -3.4600000e+00, -3.4500000e+00,\n",
       "       -3.4400000e+00, -3.4300000e+00, -3.4200000e+00, -3.4100000e+00,\n",
       "       -3.4000000e+00, -3.3900000e+00, -3.3800000e+00, -3.3700000e+00,\n",
       "       -3.3600000e+00, -3.3500000e+00, -3.3400000e+00, -3.3300000e+00,\n",
       "       -3.3200000e+00, -3.3100000e+00, -3.3000000e+00, -3.2900000e+00,\n",
       "       -3.2800000e+00, -3.2700000e+00, -3.2600000e+00, -3.2500000e+00,\n",
       "       -3.2400000e+00, -3.2300000e+00, -3.2200000e+00, -3.2100000e+00,\n",
       "       -3.2000000e+00, -3.1900000e+00, -3.1800000e+00, -3.1700000e+00,\n",
       "       -3.1600000e+00, -3.1500000e+00, -3.1400000e+00, -3.1300000e+00,\n",
       "       -3.1200000e+00, -3.1100000e+00, -3.1000000e+00, -3.0900000e+00,\n",
       "       -3.0800000e+00, -3.0700000e+00, -3.0600000e+00, -3.0500000e+00,\n",
       "       -3.0400000e+00, -3.0300000e+00, -3.0200000e+00, -3.0100000e+00,\n",
       "       -3.0000000e+00, -2.9900000e+00, -2.9800000e+00, -2.9700000e+00,\n",
       "       -2.9600000e+00, -2.9500000e+00, -2.9400000e+00, -2.9300000e+00,\n",
       "       -2.9200000e+00, -2.9100000e+00, -2.9000000e+00, -2.8900000e+00,\n",
       "       -2.8800000e+00, -2.8700000e+00, -2.8600000e+00, -2.8500000e+00,\n",
       "       -2.8400000e+00, -2.8300000e+00, -2.8200000e+00, -2.8100000e+00,\n",
       "       -2.8000000e+00, -2.7900000e+00, -2.7800000e+00, -2.7700000e+00,\n",
       "       -2.7600000e+00, -2.7500000e+00, -2.7400000e+00, -2.7300000e+00,\n",
       "       -2.7200000e+00, -2.7100000e+00, -2.7000000e+00, -2.6900000e+00,\n",
       "       -2.6800000e+00, -2.6700000e+00, -2.6600000e+00, -2.6500000e+00,\n",
       "       -2.6400000e+00, -2.6300000e+00, -2.6200000e+00, -2.6100000e+00,\n",
       "       -2.6000000e+00, -2.5900000e+00, -2.5800000e+00, -2.5700000e+00,\n",
       "       -2.5600000e+00, -2.5500000e+00, -2.5400000e+00, -2.5300000e+00,\n",
       "       -2.5200000e+00, -2.5100000e+00, -2.5000000e+00, -2.4900000e+00,\n",
       "       -2.4800000e+00, -2.4700000e+00, -2.4600000e+00, -2.4500000e+00,\n",
       "       -2.4400000e+00, -2.4300000e+00, -2.4200000e+00, -2.4100000e+00,\n",
       "       -2.4000000e+00, -2.3900000e+00, -2.3800000e+00, -2.3700000e+00,\n",
       "       -2.3600000e+00, -2.3500000e+00, -2.3400000e+00, -2.3300000e+00,\n",
       "       -2.3200000e+00, -2.3100000e+00, -2.3000000e+00, -2.2900000e+00,\n",
       "       -2.2800000e+00, -2.2700000e+00, -2.2600000e+00, -2.2500000e+00,\n",
       "       -2.2400000e+00, -2.2300000e+00, -2.2200000e+00, -2.2100000e+00,\n",
       "       -2.2000000e+00, -2.1900000e+00, -2.1800000e+00, -2.1700000e+00,\n",
       "       -2.1600000e+00, -2.1500000e+00, -2.1400000e+00, -2.1300000e+00,\n",
       "       -2.1200000e+00, -2.1100000e+00, -2.1000000e+00, -2.0900000e+00,\n",
       "       -2.0800000e+00, -2.0700000e+00, -2.0600000e+00, -2.0500000e+00,\n",
       "       -2.0400000e+00, -2.0300000e+00, -2.0200000e+00, -2.0100000e+00,\n",
       "       -2.0000000e+00, -1.9900000e+00, -1.9800000e+00, -1.9700000e+00,\n",
       "       -1.9600000e+00, -1.9500000e+00, -1.9400000e+00, -1.9300000e+00,\n",
       "       -1.9200000e+00, -1.9100000e+00, -1.9000000e+00, -1.8900000e+00,\n",
       "       -1.8800000e+00, -1.8700000e+00, -1.8600000e+00, -1.8500000e+00,\n",
       "       -1.8400000e+00, -1.8300000e+00, -1.8200000e+00, -1.8100000e+00,\n",
       "       -1.8000000e+00, -1.7900000e+00, -1.7800000e+00, -1.7700000e+00,\n",
       "       -1.7600000e+00, -1.7500000e+00, -1.7400000e+00, -1.7300000e+00,\n",
       "       -1.7200000e+00, -1.7100000e+00, -1.7000000e+00, -1.6900000e+00,\n",
       "       -1.6800000e+00, -1.6700000e+00, -1.6600000e+00, -1.6500000e+00,\n",
       "       -1.6400000e+00, -1.6300000e+00, -1.6200000e+00, -1.6100000e+00,\n",
       "       -1.6000000e+00, -1.5900000e+00, -1.5800000e+00, -1.5700000e+00,\n",
       "       -1.5600000e+00, -1.5500000e+00, -1.5400000e+00, -1.5300000e+00,\n",
       "       -1.5200000e+00, -1.5100000e+00, -1.5000000e+00, -1.4900000e+00,\n",
       "       -1.4800000e+00, -1.4700000e+00, -1.4600000e+00, -1.4500000e+00,\n",
       "       -1.4400000e+00, -1.4300000e+00, -1.4200000e+00, -1.4100000e+00,\n",
       "       -1.4000000e+00, -1.3900000e+00, -1.3800000e+00, -1.3700000e+00,\n",
       "       -1.3600000e+00, -1.3500000e+00, -1.3400000e+00, -1.3300000e+00,\n",
       "       -1.3200000e+00, -1.3100000e+00, -1.3000000e+00, -1.2900000e+00,\n",
       "       -1.2800000e+00, -1.2700000e+00, -1.2600000e+00, -1.2500000e+00,\n",
       "       -1.2400000e+00, -1.2300000e+00, -1.2200000e+00, -1.2100000e+00,\n",
       "       -1.2000000e+00, -1.1900000e+00, -1.1800000e+00, -1.1700000e+00,\n",
       "       -1.1600000e+00, -1.1500000e+00, -1.1400000e+00, -1.1300000e+00,\n",
       "       -1.1200000e+00, -1.1100000e+00, -1.1000000e+00, -1.0900000e+00,\n",
       "       -1.0800000e+00, -1.0700000e+00, -1.0600000e+00, -1.0500000e+00,\n",
       "       -1.0400000e+00, -1.0300000e+00, -1.0200000e+00, -1.0100000e+00,\n",
       "       -1.0000000e+00, -9.9000000e-01, -9.8000000e-01, -9.7000000e-01,\n",
       "       -9.6000000e-01, -9.5000000e-01, -9.4000000e-01, -9.3000000e-01,\n",
       "       -9.2000000e-01, -9.1000000e-01, -9.0000000e-01, -8.9000000e-01,\n",
       "       -8.8000000e-01, -8.7000000e-01, -8.6000000e-01, -8.5000000e-01,\n",
       "       -8.4000000e-01, -8.3000000e-01, -8.2000000e-01, -8.1000000e-01,\n",
       "       -8.0000000e-01, -7.9000000e-01, -7.8000000e-01, -7.7000000e-01,\n",
       "       -7.6000000e-01, -7.5000000e-01, -7.4000000e-01, -7.3000000e-01,\n",
       "       -7.2000000e-01, -7.1000000e-01, -7.0000000e-01, -6.9000000e-01,\n",
       "       -6.8000000e-01, -6.7000000e-01, -6.6000000e-01, -6.5000000e-01,\n",
       "       -6.4000000e-01, -6.3000000e-01, -6.2000000e-01, -6.1000000e-01,\n",
       "       -6.0000000e-01, -5.9000000e-01, -5.8000000e-01, -5.7000000e-01,\n",
       "       -5.6000000e-01, -5.5000000e-01, -5.4000000e-01, -5.3000000e-01,\n",
       "       -5.2000000e-01, -5.1000000e-01, -5.0000000e-01, -4.9000000e-01,\n",
       "       -4.8000000e-01, -4.7000000e-01, -4.6000000e-01, -4.5000000e-01,\n",
       "       -4.4000000e-01, -4.3000000e-01, -4.2000000e-01, -4.1000000e-01,\n",
       "       -4.0000000e-01, -3.9000000e-01, -3.8000000e-01, -3.7000000e-01,\n",
       "       -3.6000000e-01, -3.5000000e-01, -3.4000000e-01, -3.3000000e-01,\n",
       "       -3.2000000e-01, -3.1000000e-01, -3.0000000e-01, -2.9000000e-01,\n",
       "       -2.8000000e-01, -2.7000000e-01, -2.6000000e-01, -2.5000000e-01,\n",
       "       -2.4000000e-01, -2.3000000e-01, -2.2000000e-01, -2.1000000e-01,\n",
       "       -2.0000000e-01, -1.9000000e-01, -1.8000000e-01, -1.7000000e-01,\n",
       "       -1.6000000e-01, -1.5000000e-01, -1.4000000e-01, -1.3000000e-01,\n",
       "       -1.2000000e-01, -1.1000000e-01, -1.0000000e-01, -9.0000000e-02,\n",
       "       -8.0000000e-02, -7.0000000e-02, -6.0000000e-02, -5.0000000e-02,\n",
       "       -4.0000000e-02, -3.0000000e-02, -2.0000000e-02, -1.0000000e-02,\n",
       "       -1.0658141e-13,  1.0000000e-02,  2.0000000e-02,  3.0000000e-02,\n",
       "        4.0000000e-02,  5.0000000e-02,  6.0000000e-02,  7.0000000e-02,\n",
       "        8.0000000e-02,  9.0000000e-02,  1.0000000e-01,  1.1000000e-01,\n",
       "        1.2000000e-01,  1.3000000e-01,  1.4000000e-01,  1.5000000e-01,\n",
       "        1.6000000e-01,  1.7000000e-01,  1.8000000e-01,  1.9000000e-01,\n",
       "        2.0000000e-01,  2.1000000e-01,  2.2000000e-01,  2.3000000e-01,\n",
       "        2.4000000e-01,  2.5000000e-01,  2.6000000e-01,  2.7000000e-01,\n",
       "        2.8000000e-01,  2.9000000e-01,  3.0000000e-01,  3.1000000e-01,\n",
       "        3.2000000e-01,  3.3000000e-01,  3.4000000e-01,  3.5000000e-01,\n",
       "        3.6000000e-01,  3.7000000e-01,  3.8000000e-01,  3.9000000e-01,\n",
       "        4.0000000e-01,  4.1000000e-01,  4.2000000e-01,  4.3000000e-01,\n",
       "        4.4000000e-01,  4.5000000e-01,  4.6000000e-01,  4.7000000e-01,\n",
       "        4.8000000e-01,  4.9000000e-01,  5.0000000e-01,  5.1000000e-01,\n",
       "        5.2000000e-01,  5.3000000e-01,  5.4000000e-01,  5.5000000e-01,\n",
       "        5.6000000e-01,  5.7000000e-01,  5.8000000e-01,  5.9000000e-01,\n",
       "        6.0000000e-01,  6.1000000e-01,  6.2000000e-01,  6.3000000e-01,\n",
       "        6.4000000e-01,  6.5000000e-01,  6.6000000e-01,  6.7000000e-01,\n",
       "        6.8000000e-01,  6.9000000e-01,  7.0000000e-01,  7.1000000e-01,\n",
       "        7.2000000e-01,  7.3000000e-01,  7.4000000e-01,  7.5000000e-01,\n",
       "        7.6000000e-01,  7.7000000e-01,  7.8000000e-01,  7.9000000e-01,\n",
       "        8.0000000e-01,  8.1000000e-01,  8.2000000e-01,  8.3000000e-01,\n",
       "        8.4000000e-01,  8.5000000e-01,  8.6000000e-01,  8.7000000e-01,\n",
       "        8.8000000e-01,  8.9000000e-01,  9.0000000e-01,  9.1000000e-01,\n",
       "        9.2000000e-01,  9.3000000e-01,  9.4000000e-01,  9.5000000e-01,\n",
       "        9.6000000e-01,  9.7000000e-01,  9.8000000e-01,  9.9000000e-01,\n",
       "        1.0000000e+00,  1.0100000e+00,  1.0200000e+00,  1.0300000e+00,\n",
       "        1.0400000e+00,  1.0500000e+00,  1.0600000e+00,  1.0700000e+00,\n",
       "        1.0800000e+00,  1.0900000e+00,  1.1000000e+00,  1.1100000e+00,\n",
       "        1.1200000e+00,  1.1300000e+00,  1.1400000e+00,  1.1500000e+00,\n",
       "        1.1600000e+00,  1.1700000e+00,  1.1800000e+00,  1.1900000e+00,\n",
       "        1.2000000e+00,  1.2100000e+00,  1.2200000e+00,  1.2300000e+00,\n",
       "        1.2400000e+00,  1.2500000e+00,  1.2600000e+00,  1.2700000e+00,\n",
       "        1.2800000e+00,  1.2900000e+00,  1.3000000e+00,  1.3100000e+00,\n",
       "        1.3200000e+00,  1.3300000e+00,  1.3400000e+00,  1.3500000e+00,\n",
       "        1.3600000e+00,  1.3700000e+00,  1.3800000e+00,  1.3900000e+00,\n",
       "        1.4000000e+00,  1.4100000e+00,  1.4200000e+00,  1.4300000e+00,\n",
       "        1.4400000e+00,  1.4500000e+00,  1.4600000e+00,  1.4700000e+00,\n",
       "        1.4800000e+00,  1.4900000e+00,  1.5000000e+00,  1.5100000e+00,\n",
       "        1.5200000e+00,  1.5300000e+00,  1.5400000e+00,  1.5500000e+00,\n",
       "        1.5600000e+00,  1.5700000e+00,  1.5800000e+00,  1.5900000e+00,\n",
       "        1.6000000e+00,  1.6100000e+00,  1.6200000e+00,  1.6300000e+00,\n",
       "        1.6400000e+00,  1.6500000e+00,  1.6600000e+00,  1.6700000e+00,\n",
       "        1.6800000e+00,  1.6900000e+00,  1.7000000e+00,  1.7100000e+00,\n",
       "        1.7200000e+00,  1.7300000e+00,  1.7400000e+00,  1.7500000e+00,\n",
       "        1.7600000e+00,  1.7700000e+00,  1.7800000e+00,  1.7900000e+00,\n",
       "        1.8000000e+00,  1.8100000e+00,  1.8200000e+00,  1.8300000e+00,\n",
       "        1.8400000e+00,  1.8500000e+00,  1.8600000e+00,  1.8700000e+00,\n",
       "        1.8800000e+00,  1.8900000e+00,  1.9000000e+00,  1.9100000e+00,\n",
       "        1.9200000e+00,  1.9300000e+00,  1.9400000e+00,  1.9500000e+00,\n",
       "        1.9600000e+00,  1.9700000e+00,  1.9800000e+00,  1.9900000e+00,\n",
       "        2.0000000e+00,  2.0100000e+00,  2.0200000e+00,  2.0300000e+00,\n",
       "        2.0400000e+00,  2.0500000e+00,  2.0600000e+00,  2.0700000e+00,\n",
       "        2.0800000e+00,  2.0900000e+00,  2.1000000e+00,  2.1100000e+00,\n",
       "        2.1200000e+00,  2.1300000e+00,  2.1400000e+00,  2.1500000e+00,\n",
       "        2.1600000e+00,  2.1700000e+00,  2.1800000e+00,  2.1900000e+00,\n",
       "        2.2000000e+00,  2.2100000e+00,  2.2200000e+00,  2.2300000e+00,\n",
       "        2.2400000e+00,  2.2500000e+00,  2.2600000e+00,  2.2700000e+00,\n",
       "        2.2800000e+00,  2.2900000e+00,  2.3000000e+00,  2.3100000e+00,\n",
       "        2.3200000e+00,  2.3300000e+00,  2.3400000e+00,  2.3500000e+00,\n",
       "        2.3600000e+00,  2.3700000e+00,  2.3800000e+00,  2.3900000e+00,\n",
       "        2.4000000e+00,  2.4100000e+00,  2.4200000e+00,  2.4300000e+00,\n",
       "        2.4400000e+00,  2.4500000e+00,  2.4600000e+00,  2.4700000e+00,\n",
       "        2.4800000e+00,  2.4900000e+00,  2.5000000e+00,  2.5100000e+00,\n",
       "        2.5200000e+00,  2.5300000e+00,  2.5400000e+00,  2.5500000e+00,\n",
       "        2.5600000e+00,  2.5700000e+00,  2.5800000e+00,  2.5900000e+00,\n",
       "        2.6000000e+00,  2.6100000e+00,  2.6200000e+00,  2.6300000e+00,\n",
       "        2.6400000e+00,  2.6500000e+00,  2.6600000e+00,  2.6700000e+00,\n",
       "        2.6800000e+00,  2.6900000e+00,  2.7000000e+00,  2.7100000e+00,\n",
       "        2.7200000e+00,  2.7300000e+00,  2.7400000e+00,  2.7500000e+00,\n",
       "        2.7600000e+00,  2.7700000e+00,  2.7800000e+00,  2.7900000e+00,\n",
       "        2.8000000e+00,  2.8100000e+00,  2.8200000e+00,  2.8300000e+00,\n",
       "        2.8400000e+00,  2.8500000e+00,  2.8600000e+00,  2.8700000e+00,\n",
       "        2.8800000e+00,  2.8900000e+00,  2.9000000e+00,  2.9100000e+00,\n",
       "        2.9200000e+00,  2.9300000e+00,  2.9400000e+00,  2.9500000e+00,\n",
       "        2.9600000e+00,  2.9700000e+00,  2.9800000e+00,  2.9900000e+00,\n",
       "        3.0000000e+00,  3.0100000e+00,  3.0200000e+00,  3.0300000e+00,\n",
       "        3.0400000e+00,  3.0500000e+00,  3.0600000e+00,  3.0700000e+00,\n",
       "        3.0800000e+00,  3.0900000e+00,  3.1000000e+00,  3.1100000e+00,\n",
       "        3.1200000e+00,  3.1300000e+00,  3.1400000e+00,  3.1500000e+00,\n",
       "        3.1600000e+00,  3.1700000e+00,  3.1800000e+00,  3.1900000e+00,\n",
       "        3.2000000e+00,  3.2100000e+00,  3.2200000e+00,  3.2300000e+00,\n",
       "        3.2400000e+00,  3.2500000e+00,  3.2600000e+00,  3.2700000e+00,\n",
       "        3.2800000e+00,  3.2900000e+00,  3.3000000e+00,  3.3100000e+00,\n",
       "        3.3200000e+00,  3.3300000e+00,  3.3400000e+00,  3.3500000e+00,\n",
       "        3.3600000e+00,  3.3700000e+00,  3.3800000e+00,  3.3900000e+00,\n",
       "        3.4000000e+00,  3.4100000e+00,  3.4200000e+00,  3.4300000e+00,\n",
       "        3.4400000e+00,  3.4500000e+00,  3.4600000e+00,  3.4700000e+00,\n",
       "        3.4800000e+00,  3.4900000e+00,  3.5000000e+00,  3.5100000e+00,\n",
       "        3.5200000e+00,  3.5300000e+00,  3.5400000e+00,  3.5500000e+00,\n",
       "        3.5600000e+00,  3.5700000e+00,  3.5800000e+00,  3.5900000e+00,\n",
       "        3.6000000e+00,  3.6100000e+00,  3.6200000e+00,  3.6300000e+00,\n",
       "        3.6400000e+00,  3.6500000e+00,  3.6600000e+00,  3.6700000e+00,\n",
       "        3.6800000e+00,  3.6900000e+00,  3.7000000e+00,  3.7100000e+00,\n",
       "        3.7200000e+00,  3.7300000e+00,  3.7400000e+00,  3.7500000e+00,\n",
       "        3.7600000e+00,  3.7700000e+00,  3.7800000e+00,  3.7900000e+00,\n",
       "        3.8000000e+00,  3.8100000e+00,  3.8200000e+00,  3.8300000e+00,\n",
       "        3.8400000e+00,  3.8500000e+00,  3.8600000e+00,  3.8700000e+00,\n",
       "        3.8800000e+00,  3.8900000e+00,  3.9000000e+00,  3.9100000e+00,\n",
       "        3.9200000e+00,  3.9300000e+00,  3.9400000e+00,  3.9500000e+00,\n",
       "        3.9600000e+00,  3.9700000e+00,  3.9800000e+00,  3.9900000e+00,\n",
       "        4.0000000e+00,  4.0100000e+00,  4.0200000e+00,  4.0300000e+00,\n",
       "        4.0400000e+00,  4.0500000e+00,  4.0600000e+00,  4.0700000e+00,\n",
       "        4.0800000e+00,  4.0900000e+00,  4.1000000e+00,  4.1100000e+00,\n",
       "        4.1200000e+00,  4.1300000e+00,  4.1400000e+00,  4.1500000e+00,\n",
       "        4.1600000e+00,  4.1700000e+00,  4.1800000e+00,  4.1900000e+00,\n",
       "        4.2000000e+00,  4.2100000e+00,  4.2200000e+00,  4.2300000e+00,\n",
       "        4.2400000e+00,  4.2500000e+00,  4.2600000e+00,  4.2700000e+00,\n",
       "        4.2800000e+00,  4.2900000e+00,  4.3000000e+00,  4.3100000e+00,\n",
       "        4.3200000e+00,  4.3300000e+00,  4.3400000e+00,  4.3500000e+00,\n",
       "        4.3600000e+00,  4.3700000e+00,  4.3800000e+00,  4.3900000e+00,\n",
       "        4.4000000e+00,  4.4100000e+00,  4.4200000e+00,  4.4300000e+00,\n",
       "        4.4400000e+00,  4.4500000e+00,  4.4600000e+00,  4.4700000e+00,\n",
       "        4.4800000e+00,  4.4900000e+00,  4.5000000e+00,  4.5100000e+00,\n",
       "        4.5200000e+00,  4.5300000e+00,  4.5400000e+00,  4.5500000e+00,\n",
       "        4.5600000e+00,  4.5700000e+00,  4.5800000e+00,  4.5900000e+00,\n",
       "        4.6000000e+00,  4.6100000e+00,  4.6200000e+00,  4.6300000e+00,\n",
       "        4.6400000e+00,  4.6500000e+00,  4.6600000e+00,  4.6700000e+00,\n",
       "        4.6800000e+00,  4.6900000e+00,  4.7000000e+00,  4.7100000e+00,\n",
       "        4.7200000e+00,  4.7300000e+00,  4.7400000e+00,  4.7500000e+00,\n",
       "        4.7600000e+00,  4.7700000e+00,  4.7800000e+00,  4.7900000e+00,\n",
       "        4.8000000e+00,  4.8100000e+00,  4.8200000e+00,  4.8300000e+00,\n",
       "        4.8400000e+00,  4.8500000e+00,  4.8600000e+00,  4.8700000e+00,\n",
       "        4.8800000e+00,  4.8900000e+00,  4.9000000e+00,  4.9100000e+00,\n",
       "        4.9200000e+00,  4.9300000e+00,  4.9400000e+00,  4.9500000e+00,\n",
       "        4.9600000e+00,  4.9700000e+00,  4.9800000e+00,  4.9900000e+00])"
      ]
     },
     "execution_count": 112,
     "metadata": {},
     "output_type": "execute_result"
    }
   ],
   "source": [
    "points = np.arange(-5,5,0.01)\n",
    "points"
   ]
  },
  {
   "cell_type": "code",
   "execution_count": 113,
   "metadata": {},
   "outputs": [],
   "source": [
    "xs,ys = np.meshgrid(points,points)"
   ]
  },
  {
   "cell_type": "code",
   "execution_count": 114,
   "metadata": {},
   "outputs": [
    {
     "data": {
      "text/plain": [
       "array([[-5.  , -4.99, -4.98, ...,  4.97,  4.98,  4.99],\n",
       "       [-5.  , -4.99, -4.98, ...,  4.97,  4.98,  4.99],\n",
       "       [-5.  , -4.99, -4.98, ...,  4.97,  4.98,  4.99],\n",
       "       ...,\n",
       "       [-5.  , -4.99, -4.98, ...,  4.97,  4.98,  4.99],\n",
       "       [-5.  , -4.99, -4.98, ...,  4.97,  4.98,  4.99],\n",
       "       [-5.  , -4.99, -4.98, ...,  4.97,  4.98,  4.99]])"
      ]
     },
     "execution_count": 114,
     "metadata": {},
     "output_type": "execute_result"
    }
   ],
   "source": [
    "xs"
   ]
  },
  {
   "cell_type": "code",
   "execution_count": 115,
   "metadata": {},
   "outputs": [
    {
     "data": {
      "text/plain": [
       "array([[-5.  , -5.  , -5.  , ..., -5.  , -5.  , -5.  ],\n",
       "       [-4.99, -4.99, -4.99, ..., -4.99, -4.99, -4.99],\n",
       "       [-4.98, -4.98, -4.98, ..., -4.98, -4.98, -4.98],\n",
       "       ...,\n",
       "       [ 4.97,  4.97,  4.97, ...,  4.97,  4.97,  4.97],\n",
       "       [ 4.98,  4.98,  4.98, ...,  4.98,  4.98,  4.98],\n",
       "       [ 4.99,  4.99,  4.99, ...,  4.99,  4.99,  4.99]])"
      ]
     },
     "execution_count": 115,
     "metadata": {},
     "output_type": "execute_result"
    }
   ],
   "source": [
    "ys"
   ]
  },
  {
   "cell_type": "code",
   "execution_count": 116,
   "metadata": {},
   "outputs": [],
   "source": [
    "import matplotlib.pyplot as plt"
   ]
  },
  {
   "cell_type": "code",
   "execution_count": 117,
   "metadata": {},
   "outputs": [],
   "source": [
    "zs = np.sqrt(xs**2+ys**2)"
   ]
  },
  {
   "cell_type": "code",
   "execution_count": 118,
   "metadata": {},
   "outputs": [
    {
     "data": {
      "text/plain": [
       "array([[7.07106781, 7.06400028, 7.05693985, ..., 7.04988652, 7.05693985,\n",
       "        7.06400028],\n",
       "       [7.06400028, 7.05692568, 7.04985815, ..., 7.04279774, 7.04985815,\n",
       "        7.05692568],\n",
       "       [7.05693985, 7.04985815, 7.04278354, ..., 7.03571603, 7.04278354,\n",
       "        7.04985815],\n",
       "       ...,\n",
       "       [7.04988652, 7.04279774, 7.03571603, ..., 7.0286414 , 7.03571603,\n",
       "        7.04279774],\n",
       "       [7.05693985, 7.04985815, 7.04278354, ..., 7.03571603, 7.04278354,\n",
       "        7.04985815],\n",
       "       [7.06400028, 7.05692568, 7.04985815, ..., 7.04279774, 7.04985815,\n",
       "        7.05692568]])"
      ]
     },
     "execution_count": 118,
     "metadata": {},
     "output_type": "execute_result"
    }
   ],
   "source": [
    "zs"
   ]
  },
  {
   "cell_type": "code",
   "execution_count": 119,
   "metadata": {},
   "outputs": [
    {
     "data": {
      "text/plain": [
       "<matplotlib.colorbar.Colorbar at 0x2703bb7f688>"
      ]
     },
     "execution_count": 119,
     "metadata": {},
     "output_type": "execute_result"
    },
    {
     "data": {
      "image/png": "[encoded data removed]",
      "text/plain": [
       "<Figure size 432x288 with 2 Axes>"
      ]
     },
     "metadata": {
      "needs_background": "light"
     },
     "output_type": "display_data"
    }
   ],
   "source": [
    "plt.imshow(zs, cmap=plt.cm.gray); plt.colorbar()\n"
   ]
  },
  {
   "cell_type": "code",
   "execution_count": 120,
   "metadata": {},
   "outputs": [
    {
     "data": {
      "text/plain": [
       "Text(0.5, 1.0, 'Image plot of $\\\\sqrt{x^2 + y^2}$ for a grid of values')"
      ]
     },
     "execution_count": 120,
     "metadata": {},
     "output_type": "execute_result"
    },
    {
     "data": {
      "image/png": "[encoded data removed]",
      "text/plain": [
       "<Figure size 432x288 with 2 Axes>"
      ]
     },
     "metadata": {
      "needs_background": "light"
     },
     "output_type": "display_data"
    }
   ],
   "source": [
    "plt.imshow(zs, cmap=plt.cm.gray); plt.colorbar()\n",
    "plt.title(\"Image plot of $\\sqrt{x^2 + y^2}$ for a grid of values\")"
   ]
  },
  {
   "cell_type": "markdown",
   "metadata": {},
   "source": [
    "# Expressing Conditional Logic as Array Operations"
   ]
  },
  {
   "cell_type": "code",
   "execution_count": 121,
   "metadata": {},
   "outputs": [],
   "source": [
    "xarr = np.array([1.1, 1.2, 1.3, 1.4, 1.5])"
   ]
  },
  {
   "cell_type": "code",
   "execution_count": 122,
   "metadata": {},
   "outputs": [],
   "source": [
    "yarr = np.array([2.1, 2.2, 2.3, 2.4, 2.5])"
   ]
  },
  {
   "cell_type": "code",
   "execution_count": 123,
   "metadata": {},
   "outputs": [],
   "source": [
    "cond = np.array([True, False, True, True, False])"
   ]
  },
  {
   "cell_type": "code",
   "execution_count": 124,
   "metadata": {},
   "outputs": [],
   "source": [
    "result = [(x if c else y) for x, y, c in zip(xarr, yarr, cond)]"
   ]
  },
  {
   "cell_type": "code",
   "execution_count": 125,
   "metadata": {},
   "outputs": [
    {
     "data": {
      "text/plain": [
       "[1.1, 2.2, 1.3, 1.4, 2.5]"
      ]
     },
     "execution_count": 125,
     "metadata": {},
     "output_type": "execute_result"
    }
   ],
   "source": [
    "result"
   ]
  },
  {
   "cell_type": "code",
   "execution_count": 126,
   "metadata": {},
   "outputs": [
    {
     "data": {
      "text/plain": [
       "array([1.1, 2.2, 1.3, 1.4, 2.5])"
      ]
     },
     "execution_count": 126,
     "metadata": {},
     "output_type": "execute_result"
    }
   ],
   "source": [
    "result = np.where(cond, xarr, yarr)\n",
    "result"
   ]
  },
  {
   "cell_type": "markdown",
   "metadata": {},
   "source": [
    "The second and third arguments to np.where don’t need to be arrays; one or both of\n",
    "them can be scalars. A typical use of where in data analysis is to produce a new array of\n",
    "values based on another array. Suppose you had a matrix of randomly generated data\n",
    "and you wanted to replace all positive values with 2 and all negative values with -2.\n",
    "This is very easy to do with np.where:"
   ]
  },
  {
   "cell_type": "code",
   "execution_count": 127,
   "metadata": {},
   "outputs": [
    {
     "data": {
      "text/plain": [
       "array([[ 1.88556016,  0.06825654, -0.29674671,  0.98675806],\n",
       "       [-0.49032449,  2.13901547, -0.41027041,  0.35529486],\n",
       "       [-0.27502429, -0.50298999,  1.46528001,  1.39863506],\n",
       "       [-1.80943999,  2.0965593 , -3.03558923,  0.81138655]])"
      ]
     },
     "execution_count": 127,
     "metadata": {},
     "output_type": "execute_result"
    }
   ],
   "source": [
    "arr = np.random.randn(4, 4)\n",
    "arr"
   ]
  },
  {
   "cell_type": "code",
   "execution_count": 128,
   "metadata": {},
   "outputs": [
    {
     "data": {
      "text/plain": [
       "array([[ 2,  2, -2,  2],\n",
       "       [-2,  2, -2,  2],\n",
       "       [-2, -2,  2,  2],\n",
       "       [-2,  2, -2,  2]])"
      ]
     },
     "execution_count": 128,
     "metadata": {},
     "output_type": "execute_result"
    }
   ],
   "source": [
    "np.where(arr>0,2,-2)"
   ]
  },
  {
   "cell_type": "code",
   "execution_count": 129,
   "metadata": {},
   "outputs": [
    {
     "data": {
      "text/plain": [
       "array([[ 2.        ,  2.        , -0.29674671,  2.        ],\n",
       "       [-0.49032449,  2.        , -0.41027041,  2.        ],\n",
       "       [-0.27502429, -0.50298999,  2.        ,  2.        ],\n",
       "       [-1.80943999,  2.        , -3.03558923,  2.        ]])"
      ]
     },
     "execution_count": 129,
     "metadata": {},
     "output_type": "execute_result"
    }
   ],
   "source": [
    "np.where(arr>0,2,arr)"
   ]
  },
  {
   "cell_type": "markdown",
   "metadata": {},
   "source": [
    "The arrays passed to where can be more than just equal sizes array or scalers.\n",
    "With some cleverness you can use where to express more complicated logic; consider\n",
    "this example where I have two boolean arrays, cond1 and cond2, and wish to assign a\n",
    "different value for each of the 4 possible pairs of boolean values:"
   ]
  },
  {
   "cell_type": "markdown",
   "metadata": {},
   "source": [
    "result = []\n",
    "for i in range(n):\n",
    "    if cond1[i] and cond2[i]:\n",
    "        result.append(0)\n",
    "    elif cond1[i]:\n",
    "        result.append(1)\n",
    "    elif cond2[i]:\n",
    "        result.append(2)\n",
    "    else:\n",
    "        result.append(3)\n",
    "    print(result)"
   ]
  },
  {
   "cell_type": "markdown",
   "metadata": {},
   "source": [
    "# Mathematical and Statistical Methods"
   ]
  },
  {
   "cell_type": "markdown",
   "metadata": {},
   "source": [
    "Method Description\n",
    "sum Sum of all the elements in the array or along an axis. Zero-length arrays have sum 0.\n",
    "mean Arithmetic mean. Zero-length arrays have NaN mean.\n",
    "std, var Standard deviation and variance, respectively, with optional degrees of freedom adjustment\n",
    "(default denominator n).\n",
    "min, max Minimum and maximum.\n",
    "argmin, argmax Indices of minimum and maximum elements, respectively.\n",
    "cumsum Cumulative sum of elements starting from 0\n",
    "cumprod Cumulative product of elements starting from 1"
   ]
  },
  {
   "cell_type": "code",
   "execution_count": 130,
   "metadata": {},
   "outputs": [
    {
     "data": {
      "text/plain": [
       "array([[-0.67770761,  1.22153478,  1.84738592,  0.79823599],\n",
       "       [ 0.15564971, -0.90839164,  0.82028111,  2.35997944],\n",
       "       [ 0.38843208,  1.86557438, -0.23391203,  0.26795616],\n",
       "       [ 0.84215906,  0.91185989, -0.38447033, -1.28561144],\n",
       "       [-0.33620972,  0.21000291, -0.9161389 , -2.7642764 ]])"
      ]
     },
     "execution_count": 130,
     "metadata": {},
     "output_type": "execute_result"
    }
   ],
   "source": [
    "arr = np.random.randn(5, 4) # normally-distributed data\n",
    "arr"
   ]
  },
  {
   "cell_type": "code",
   "execution_count": 131,
   "metadata": {},
   "outputs": [
    {
     "data": {
      "text/plain": [
       "0.2091166677547057"
      ]
     },
     "execution_count": 131,
     "metadata": {},
     "output_type": "execute_result"
    }
   ],
   "source": [
    "arr.mean()"
   ]
  },
  {
   "cell_type": "code",
   "execution_count": 132,
   "metadata": {},
   "outputs": [
    {
     "data": {
      "text/plain": [
       "0.2091166677547057"
      ]
     },
     "execution_count": 132,
     "metadata": {},
     "output_type": "execute_result"
    }
   ],
   "source": [
    "np.mean(arr)"
   ]
  },
  {
   "cell_type": "code",
   "execution_count": 133,
   "metadata": {},
   "outputs": [
    {
     "data": {
      "text/plain": [
       "4.182333355094114"
      ]
     },
     "execution_count": 133,
     "metadata": {},
     "output_type": "execute_result"
    }
   ],
   "source": [
    "arr.sum()"
   ]
  },
  {
   "cell_type": "code",
   "execution_count": 134,
   "metadata": {},
   "outputs": [
    {
     "data": {
      "text/plain": [
       "array([ 0.0744647 ,  0.66011606,  0.22662915, -0.12474325])"
      ]
     },
     "execution_count": 134,
     "metadata": {},
     "output_type": "execute_result"
    }
   ],
   "source": [
    "arr.mean(axis=0)"
   ]
  },
  {
   "cell_type": "code",
   "execution_count": 135,
   "metadata": {},
   "outputs": [
    {
     "data": {
      "text/plain": [
       "array([ 0.37232351,  3.30058032,  1.13314577, -0.62371625])"
      ]
     },
     "execution_count": 135,
     "metadata": {},
     "output_type": "execute_result"
    }
   ],
   "source": [
    "arr.sum(0)"
   ]
  },
  {
   "cell_type": "code",
   "execution_count": 136,
   "metadata": {},
   "outputs": [
    {
     "data": {
      "text/plain": [
       "array([[0, 1, 2],\n",
       "       [3, 4, 5],\n",
       "       [6, 7, 8]])"
      ]
     },
     "execution_count": 136,
     "metadata": {},
     "output_type": "execute_result"
    }
   ],
   "source": [
    "arr = np.array([[0, 1, 2], [3, 4, 5], [6, 7, 8]])\n",
    "arr"
   ]
  },
  {
   "cell_type": "code",
   "execution_count": 137,
   "metadata": {},
   "outputs": [
    {
     "data": {
      "text/plain": [
       "array([[ 0,  1,  2],\n",
       "       [ 3,  5,  7],\n",
       "       [ 9, 12, 15]], dtype=int32)"
      ]
     },
     "execution_count": 137,
     "metadata": {},
     "output_type": "execute_result"
    }
   ],
   "source": [
    "arr.cumsum(0)"
   ]
  },
  {
   "cell_type": "code",
   "execution_count": 138,
   "metadata": {},
   "outputs": [
    {
     "data": {
      "text/plain": [
       "array([[  0,   0,   0],\n",
       "       [  3,  12,  60],\n",
       "       [  6,  42, 336]], dtype=int32)"
      ]
     },
     "execution_count": 138,
     "metadata": {},
     "output_type": "execute_result"
    }
   ],
   "source": [
    "arr.cumprod(1)"
   ]
  },
  {
   "cell_type": "code",
   "execution_count": 139,
   "metadata": {},
   "outputs": [],
   "source": [
    "arr.cumsum?"
   ]
  },
  {
   "cell_type": "markdown",
   "metadata": {},
   "source": [
    "# Methods for Boolean Arrays"
   ]
  },
  {
   "cell_type": "markdown",
   "metadata": {},
   "source": [
    "Method Description\n",
    "unique(x) Compute the sorted, unique elements in x\n",
    "intersect1d(x, y) Compute the sorted, common elements in x and y\n",
    "union1d(x, y) Compute the sorted union of elements\n",
    "in1d(x, y) Compute a boolean array indicating whether each element of x is contained in y\n",
    "setdiff1d(x, y) Set difference, elements in x that are not in y\n",
    "setxor1d(x, y) Set symmetric differences; elements that are in either of the arrays, but not both"
   ]
  },
  {
   "cell_type": "code",
   "execution_count": 140,
   "metadata": {},
   "outputs": [
    {
     "data": {
      "text/plain": [
       "array([-0.06632807, -1.77210632, -0.42255257, -1.48655472, -0.62455757,\n",
       "       -0.44510405, -0.5104472 ,  1.16729995,  1.16577941, -1.09293067,\n",
       "       -0.08710737, -0.34147699,  1.39173751,  0.40302603, -1.22858818,\n",
       "        1.04411136,  2.23094723, -0.00915202,  1.06308818,  1.03740821,\n",
       "       -0.25106106,  0.73183102,  0.18071828, -0.58419474,  1.32077946,\n",
       "       -1.11614856, -0.72706176, -1.99676748,  0.40507289,  0.35251333,\n",
       "       -0.31648625,  0.86384707,  0.22272447,  0.04062395,  1.97095607,\n",
       "        0.70989004, -0.23002934,  0.4936919 ,  0.55163288, -0.15598041,\n",
       "        1.0889979 , -1.01927252, -0.15834653, -0.25824268, -0.07356171,\n",
       "       -0.66668923, -1.37636055,  0.05621362,  0.00870515,  1.19869045,\n",
       "       -1.31968367,  0.51821005, -0.09172721,  1.27099222, -1.66537577,\n",
       "       -2.30292814,  1.37843041, -0.51622755,  0.6626274 ,  1.67802002,\n",
       "       -3.30715329, -0.55758142,  0.32252153, -1.90064915, -0.72318478,\n",
       "       -0.08653355, -0.63970676,  1.04500496, -0.26221481,  1.66602006,\n",
       "        0.03935583,  0.16269396, -0.90068133,  0.05141022,  0.90222302,\n",
       "        1.84823332, -0.32875448, -0.98656377, -0.03409165,  0.29476361,\n",
       "        1.28822978,  2.37756995, -0.22342507, -1.20796558, -0.121803  ,\n",
       "       -3.16578583,  1.41421195,  0.37386709,  1.61001918, -0.42927411,\n",
       "       -2.45793228, -1.09854274,  0.50659079, -0.44929108,  0.73013256,\n",
       "       -1.23110563, -2.63140104,  0.40650826, -0.71168693,  0.01671374])"
      ]
     },
     "execution_count": 140,
     "metadata": {},
     "output_type": "execute_result"
    }
   ],
   "source": [
    "arr = np.random.randn(100)\n",
    "arr"
   ]
  },
  {
   "cell_type": "code",
   "execution_count": 141,
   "metadata": {},
   "outputs": [
    {
     "data": {
      "text/plain": [
       "47"
      ]
     },
     "execution_count": 141,
     "metadata": {},
     "output_type": "execute_result"
    }
   ],
   "source": [
    "(arr>0).sum()"
   ]
  },
  {
   "cell_type": "code",
   "execution_count": 142,
   "metadata": {},
   "outputs": [],
   "source": [
    "bools = np.array([False, False, True, False])"
   ]
  },
  {
   "cell_type": "markdown",
   "metadata": {},
   "source": [
    "There are two additional methods, any and all, useful especially for boolean arrays.\n",
    "any tests whether one or more values in an array is True, while all checks if every value\n",
    "is True:\n",
    "In"
   ]
  },
  {
   "cell_type": "code",
   "execution_count": 143,
   "metadata": {},
   "outputs": [
    {
     "data": {
      "text/plain": [
       "True"
      ]
     },
     "execution_count": 143,
     "metadata": {},
     "output_type": "execute_result"
    }
   ],
   "source": [
    "bools.any()"
   ]
  },
  {
   "cell_type": "code",
   "execution_count": 144,
   "metadata": {},
   "outputs": [
    {
     "data": {
      "text/plain": [
       "False"
      ]
     },
     "execution_count": 144,
     "metadata": {},
     "output_type": "execute_result"
    }
   ],
   "source": [
    "bools.all()"
   ]
  },
  {
   "cell_type": "markdown",
   "metadata": {},
   "source": [
    "# Sorting"
   ]
  },
  {
   "cell_type": "code",
   "execution_count": 145,
   "metadata": {},
   "outputs": [
    {
     "data": {
      "text/plain": [
       "array([-1.7000279 ,  1.73734057, -0.71746431, -0.02665416,  0.40301132,\n",
       "        0.50806405, -0.32165544, -0.24398917])"
      ]
     },
     "execution_count": 145,
     "metadata": {},
     "output_type": "execute_result"
    }
   ],
   "source": [
    "arr = np.random.randn(8)\n",
    "arr"
   ]
  },
  {
   "cell_type": "code",
   "execution_count": 146,
   "metadata": {},
   "outputs": [
    {
     "data": {
      "text/plain": [
       "array([-1.7000279 , -0.71746431, -0.32165544, -0.24398917, -0.02665416,\n",
       "        0.40301132,  0.50806405,  1.73734057])"
      ]
     },
     "execution_count": 146,
     "metadata": {},
     "output_type": "execute_result"
    }
   ],
   "source": [
    "arr.sort()\n",
    "arr"
   ]
  },
  {
   "cell_type": "code",
   "execution_count": 147,
   "metadata": {},
   "outputs": [
    {
     "data": {
      "text/plain": [
       "array([[-0.59964869, -1.11938199, -1.19110925],\n",
       "       [ 1.32726024, -0.21324197,  1.41652844],\n",
       "       [ 0.60497622, -1.10213098, -0.20428376],\n",
       "       [-0.36431655,  0.24771515,  0.03663146],\n",
       "       [ 0.62301564,  1.35049403,  2.11957439]])"
      ]
     },
     "execution_count": 147,
     "metadata": {},
     "output_type": "execute_result"
    }
   ],
   "source": [
    "arr = np.random.randn(5, 3)\n",
    "arr"
   ]
  },
  {
   "cell_type": "code",
   "execution_count": 148,
   "metadata": {},
   "outputs": [
    {
     "data": {
      "text/plain": [
       "array([[-1.19110925, -1.11938199, -0.59964869],\n",
       "       [-0.21324197,  1.32726024,  1.41652844],\n",
       "       [-1.10213098, -0.20428376,  0.60497622],\n",
       "       [-0.36431655,  0.03663146,  0.24771515],\n",
       "       [ 0.62301564,  1.35049403,  2.11957439]])"
      ]
     },
     "execution_count": 148,
     "metadata": {},
     "output_type": "execute_result"
    }
   ],
   "source": [
    "arr.sort(1)\n",
    "arr"
   ]
  },
  {
   "cell_type": "code",
   "execution_count": 149,
   "metadata": {},
   "outputs": [
    {
     "data": {
      "text/plain": [
       "array([-8.76637403e-01,  1.44586061e+00,  6.46182582e-01,  1.68265218e+00,\n",
       "       -8.89745103e-01, -1.71272122e+00, -2.32847994e+00,  5.64914972e-01,\n",
       "       -8.86958761e-01,  7.77672571e-01,  1.14608585e+00,  1.47886263e-02,\n",
       "        3.65854116e-01,  8.93972166e-01, -4.43722717e-01,  8.86651002e-01,\n",
       "       -1.02083665e-01,  1.48062465e+00, -1.16776533e+00, -4.54529233e-01,\n",
       "        4.32133554e-01, -1.61879575e+00, -3.92945230e-01, -1.84719343e+00,\n",
       "       -1.36130346e+00,  3.22429637e-01,  5.38435622e-01,  3.62742235e-01,\n",
       "        2.29278679e-01, -1.44093595e+00, -4.61251073e-01,  5.64617564e-01,\n",
       "        5.22876627e-01,  1.79251066e+00, -1.49171396e-02, -4.11127023e-01,\n",
       "        7.53916877e-01, -1.20780587e+00, -1.65843898e+00,  2.37417759e+00,\n",
       "        2.20681547e+00,  2.06498131e+00, -1.80809377e-01,  1.22140020e+00,\n",
       "       -7.93651789e-02, -5.59894843e-01, -1.15229480e+00, -2.08661455e+00,\n",
       "       -6.81908428e-01,  9.17766426e-01, -1.56753509e+00,  5.92652257e-01,\n",
       "        2.64391402e+00,  1.01512714e+00, -1.82872190e-01, -2.70336941e-01,\n",
       "       -7.30213083e-01, -1.33384305e+00, -1.66270534e+00, -5.34721098e-01,\n",
       "        4.78180008e-01,  3.64234681e-01, -1.55106431e-01, -1.32164142e+00,\n",
       "        7.35818699e-01, -1.75925183e+00,  3.75897536e-01, -1.53074172e+00,\n",
       "       -1.37983537e+00,  1.09931553e-01, -5.26091299e-01, -2.76491349e-01,\n",
       "       -2.04736150e-01,  1.58464490e-01,  2.14165412e-01,  3.34859733e-01,\n",
       "        1.57165155e-02, -5.04108318e-01, -4.17078969e-02, -1.96571852e+00,\n",
       "        1.23776955e-01,  8.88306148e-01, -3.79242741e-01,  1.26765485e+00,\n",
       "       -6.65725767e-01, -4.19929453e-01, -2.13403746e+00,  6.96965640e-01,\n",
       "       -1.04458834e+00, -1.22789875e-01,  5.18120304e-02, -5.11504084e-01,\n",
       "       -1.15124317e+00,  1.01295509e+00, -2.79310625e-01, -2.46402788e+00,\n",
       "        2.21488666e+00,  1.29617637e+00, -1.22573029e+00,  1.56492296e+00,\n",
       "        4.53944328e-01,  4.95691309e-01, -5.81201247e-01, -1.20258413e+00,\n",
       "       -1.40019396e+00,  8.74094872e-01, -6.86310925e-01, -6.35226023e-01,\n",
       "       -1.76711901e+00,  1.66144845e-01, -7.79359328e-02,  7.42303931e-01,\n",
       "        2.09247756e+00, -8.91743143e-01, -1.27667493e+00, -5.89134306e-01,\n",
       "        1.91040930e+00, -1.22889769e+00, -3.46045584e-01,  5.11281212e-01,\n",
       "        1.63689449e-01, -8.28773414e-01, -3.97695434e-02, -2.95096671e-01,\n",
       "        2.32093896e-01, -8.36949416e-01, -9.47578041e-01, -1.08534575e+00,\n",
       "       -2.45364469e+00,  1.38000591e+00,  7.04276663e-01, -1.58247581e+00,\n",
       "        2.00126489e+00, -2.68119343e-01,  2.78416506e-02, -1.85400104e-01,\n",
       "        3.55441775e-01,  9.11403420e-01,  1.37277906e-01, -1.08374311e-01,\n",
       "        1.35783006e+00,  6.85679461e-01,  9.11093219e-01,  1.45443952e-01,\n",
       "        2.63512859e-01, -1.76566424e+00, -6.04483288e-01,  7.14702564e-01,\n",
       "        3.88117432e-01,  2.22805418e-01, -8.69811093e-02,  3.91872041e-02,\n",
       "       -2.05252847e-01,  5.81319226e-01,  7.77923013e-01, -6.41800109e-01,\n",
       "        9.55968413e-01, -4.86070355e-01, -1.80913139e+00, -5.35696625e-02,\n",
       "       -1.31520492e+00,  7.70873291e-01,  1.16545832e+00,  2.08071208e-02,\n",
       "        3.54032951e-01, -5.40848792e-01, -8.18380898e-01, -6.04088740e-01,\n",
       "        7.19937209e-01,  2.30072959e+00, -1.68780762e-01,  1.00602051e+00,\n",
       "        3.20377218e-02,  9.22965866e-01,  3.99496322e-01, -4.63582333e-01,\n",
       "       -2.14821310e-01, -1.33191823e+00, -6.27187529e-01,  1.02935977e+00,\n",
       "        6.56562098e-02, -4.49364070e-01,  1.02136712e+00, -1.24621389e+00,\n",
       "        1.56447802e-01,  1.47858883e+00, -8.77808424e-01,  4.72823110e-02,\n",
       "        2.28503714e+00,  2.32784276e+00,  1.25851394e+00, -1.49439212e+00,\n",
       "        1.13267538e-01, -1.29242233e+00,  8.52818123e-01,  8.30105296e-01,\n",
       "        7.50935603e-02,  8.64388778e-01,  1.05543169e-01,  1.18125425e+00,\n",
       "       -1.39646196e+00, -7.31964088e-01,  5.90029614e-01,  3.45552735e-01,\n",
       "        1.60427958e-02, -1.94461786e+00,  2.03788258e+00,  2.43721085e+00,\n",
       "       -1.26000449e+00, -1.10196439e+00, -3.54023797e-01,  5.80210135e-02,\n",
       "        6.92616434e-01, -4.25604218e-01,  7.04222678e-01,  1.24060252e+00,\n",
       "        1.10020850e+00, -1.04383235e+00,  3.47986882e-01, -1.02018518e+00,\n",
       "       -1.34083209e+00,  2.09407283e+00, -1.04862730e+00,  4.66309660e-01,\n",
       "       -7.45604110e-02, -5.36412364e-01, -3.24278238e-01, -3.23873057e-01,\n",
       "        5.37290461e-01, -9.41635134e-01,  6.21382614e-01, -8.96170199e-01,\n",
       "       -3.68691417e-01,  1.33197970e+00,  1.69116320e+00,  3.83183323e-01,\n",
       "       -1.43645569e+00, -1.07292154e-01, -1.49586922e+00,  5.88891248e-01,\n",
       "       -8.33556447e-01,  3.09010036e-01,  1.04529079e+00, -3.81915014e-01,\n",
       "        1.55289512e-01, -2.35842157e+00, -3.23384409e-01, -1.04912027e+00,\n",
       "        5.48833518e-01,  7.19815529e-01,  4.71226842e-01, -9.39583903e-01,\n",
       "       -7.21627556e-01,  1.64178404e+00,  3.47502629e-01,  1.14359134e+00,\n",
       "       -6.39029021e-02, -9.91375232e-01, -1.00119473e+00, -1.29376662e+00,\n",
       "       -4.44514070e-01,  1.31936083e+00, -1.31508023e+00, -2.88300782e-01,\n",
       "        1.29875029e+00,  1.97262992e-01,  1.15836485e-01, -2.06468153e+00,\n",
       "       -4.70005785e-01, -8.07341017e-01, -1.82389869e-01,  6.38137741e-01,\n",
       "       -7.86038335e-01,  1.10081039e+00, -1.18793918e+00,  3.00562769e-02,\n",
       "        8.40942205e-01, -6.14019888e-01,  1.51755364e+00,  7.38127748e-01,\n",
       "       -6.72122380e-01, -1.83202974e+00, -4.74961725e-02,  2.40875636e-01,\n",
       "        4.21215867e-01,  1.04721732e+00,  1.55308269e-01, -1.33041345e+00,\n",
       "       -3.81688526e-02,  5.85003266e-01,  4.01529188e-01, -9.68050776e-01,\n",
       "       -9.18370964e-01,  4.73575514e-01,  2.86161522e+00,  7.38774600e-01,\n",
       "        6.33564141e-01, -1.62810407e+00,  1.31556443e+00, -7.13175982e-02,\n",
       "        3.30355900e-01, -5.35227291e-01, -3.93935291e-01,  2.37528345e-02,\n",
       "       -1.52781013e+00,  1.21824038e+00, -6.55961503e-01,  2.52132756e+00,\n",
       "       -1.15379656e+00, -6.18887053e-01,  6.92974943e-01, -1.12825685e+00,\n",
       "       -5.55995036e-03,  3.95848013e-01,  3.61631369e-01,  1.38185668e+00,\n",
       "       -3.49671279e-01, -9.27816555e-01, -2.33025511e-01,  6.58260263e-01,\n",
       "       -5.07359312e-01, -6.57097918e-01, -1.08127512e+00,  2.19173972e+00,\n",
       "       -3.21910630e-01, -8.90554640e-01, -6.27333651e-01, -7.25158264e-01,\n",
       "       -3.46033661e-01,  1.32430252e+00, -8.78516869e-01,  2.49506740e-01,\n",
       "        5.80507140e-01, -6.81409759e-01,  1.12960030e+00,  9.29668659e-01,\n",
       "       -1.88882747e-01, -1.78839835e+00, -9.41077278e-01,  6.90749604e-01,\n",
       "        7.22959452e-01, -1.35859093e+00,  2.39274192e-01, -7.85654927e-01,\n",
       "       -7.12860564e-01,  2.89863822e-01, -1.15238983e+00,  1.81712443e+00,\n",
       "        9.99977669e-01, -3.89101126e-01,  1.99786658e-01,  4.22846070e-01,\n",
       "        5.27150602e-01,  2.45406154e+00,  9.90666780e-02, -1.83651302e-01,\n",
       "        2.30410361e-01,  5.51574282e-01, -1.30790343e+00,  7.03875928e-01,\n",
       "       -2.52466078e-01,  1.13710093e-01, -2.33318239e+00, -3.93832011e-01,\n",
       "       -6.12780456e-01,  2.11506461e-01, -3.18144858e-01,  2.11996894e-01,\n",
       "       -1.87126129e+00, -8.76021772e-01, -6.30759370e-02,  1.80245735e+00,\n",
       "       -1.38851822e+00,  2.90356060e-01, -3.64806314e-01,  1.62642767e-01,\n",
       "       -2.37840901e+00,  1.59837230e+00,  4.71866797e-01,  1.64447727e+00,\n",
       "       -2.45372943e-01,  3.59583249e-03, -2.21478424e+00, -5.20023589e-01,\n",
       "        3.98421169e-01,  1.24038022e+00, -9.43566593e-01,  2.97346675e-01,\n",
       "       -8.32084261e-01,  7.58859651e-01,  8.09773826e-01,  5.01338064e-01,\n",
       "       -2.68354330e-01,  8.16256402e-01, -2.25234160e+00, -3.48097627e-01,\n",
       "        1.75216329e+00,  1.66318440e+00, -1.46742014e+00,  3.11403607e-01,\n",
       "        4.05159642e-01, -6.97059622e-03, -4.60963654e-01,  1.69866394e-01,\n",
       "       -6.49668494e-01, -1.38840307e+00, -5.12475488e-01,  4.52263932e-01,\n",
       "        6.73215319e-01, -2.38351893e-01, -2.25346381e-01, -5.38543249e-01,\n",
       "        9.49386449e-01,  1.92507754e+00, -3.97883731e-01,  3.77217805e-01,\n",
       "        1.38589055e+00,  1.66205120e+00,  5.81434497e-01,  1.20496283e+00,\n",
       "        4.37691701e-01, -1.39336459e+00, -2.27566154e+00,  7.61049794e-01,\n",
       "        3.07219946e-01, -6.80823667e-01, -1.74370065e-01, -4.05843218e-01,\n",
       "        1.97893255e+00, -3.06056787e-01,  1.75899139e-01, -1.29601313e+00,\n",
       "        1.17687798e+00,  1.52506317e+00,  1.38248675e+00, -1.30127234e-01,\n",
       "       -1.51970026e+00, -2.04870347e+00,  1.52088812e-01,  4.99653429e-01,\n",
       "       -1.22280247e+00,  1.87833879e+00, -5.83677258e-01,  2.05737913e+00,\n",
       "       -5.46421015e-01, -5.99885600e-01,  1.03153848e+00, -1.83741667e+00,\n",
       "        1.00102531e+00,  1.18631201e+00, -4.58936828e-01, -1.06074101e+00,\n",
       "        1.32981938e-01,  7.46977775e-01,  1.72849530e+00,  9.88472069e-01,\n",
       "        1.56974777e+00, -1.95571853e+00, -4.77872879e-01, -9.59739307e-01,\n",
       "        5.73877359e-01, -2.14991420e-01, -2.49478251e+00, -9.79411980e-01,\n",
       "        1.38718093e-01, -6.69198778e-03, -7.90690670e-01,  2.84697696e-01,\n",
       "       -1.38974730e+00, -1.50190537e-01,  1.38348417e+00, -8.68951867e-01,\n",
       "        1.80934331e+00,  7.82725853e-01, -2.16878883e+00, -5.12622152e-01,\n",
       "       -2.92538874e-01, -1.04971422e+00, -1.55099045e+00,  4.25085767e-01,\n",
       "        1.31283256e-01,  1.14938618e-01,  1.28551491e+00,  1.57035222e-01,\n",
       "        2.83520809e-01,  1.57341858e+00,  9.59620180e-01,  2.59440251e-01,\n",
       "       -1.58062773e-02,  5.17486484e-01, -8.58456030e-01,  3.55941161e-01,\n",
       "       -5.63128681e-01,  4.64554091e-01,  6.88603216e-01,  1.29589234e+00,\n",
       "       -5.76547432e-02, -1.01568578e+00, -1.94708385e+00,  1.82593555e-01,\n",
       "        5.93160454e-01,  9.55600601e-01,  2.04474035e+00,  1.15409073e+00,\n",
       "       -7.18308728e-02, -7.65613697e-01, -1.00462606e+00,  1.07010944e+00,\n",
       "       -4.55740665e-01,  1.60166110e+00, -3.59738646e-01,  9.49697215e-01,\n",
       "       -3.95183120e-01,  9.43385753e-01,  2.12256659e+00, -1.55411730e+00,\n",
       "        1.13919390e+00, -7.55505337e-01, -1.19613402e-01, -1.01994529e+00,\n",
       "        9.63517293e-01, -1.22539357e+00, -5.39838789e-02, -4.09330240e-01,\n",
       "        6.13737661e-01,  8.76650781e-01, -3.27273391e+00,  9.43316183e-01,\n",
       "        1.01950067e+00, -1.47299141e-01,  5.67700436e-01, -8.32450688e-01,\n",
       "       -3.44289674e-01,  1.65261839e-01, -1.74169457e+00, -1.06726730e-01,\n",
       "       -7.03010113e-02, -2.35330211e-01, -1.95451072e-01,  1.37413647e+00,\n",
       "        1.14227767e+00, -9.26821856e-01,  3.96899590e-01, -1.30155186e+00,\n",
       "       -8.58219403e-02, -2.36452386e+00,  1.47076985e-01,  6.85029527e-02,\n",
       "       -1.00694596e+00,  4.62854030e-01, -7.37648337e-01, -1.65008520e+00,\n",
       "       -1.72274321e+00,  2.31867702e-01,  6.11862087e-01,  1.04178299e+00,\n",
       "        3.08918815e-02,  5.66518667e-01, -8.25503154e-02, -6.72332767e-01,\n",
       "       -2.05073146e-01, -1.78116957e+00,  3.21777297e-01,  2.57846969e-01,\n",
       "       -7.54368272e-01, -7.46759566e-01, -1.70402596e+00,  5.24654678e-02,\n",
       "       -2.75575878e-01, -1.00429547e-01, -4.75233225e-01,  1.04397231e+00,\n",
       "       -8.64466429e-01,  3.14401221e-01, -8.05782159e-01,  3.59093034e-01,\n",
       "        2.85056586e-01,  3.77734737e-01, -1.28582002e+00, -1.25776437e+00,\n",
       "       -1.08769976e+00, -1.90067429e-01, -1.26617856e+00,  1.49509638e+00,\n",
       "        6.62330434e-02, -1.89607013e+00, -5.55483276e-01, -4.90472913e-01,\n",
       "        2.16876521e+00,  2.23736296e-01,  2.02019329e-01,  5.40314233e-01,\n",
       "        9.80719657e-01,  6.23641405e-01,  6.93142525e-01,  2.17978296e-01,\n",
       "        1.47700817e-01, -5.39737420e-02, -1.15517521e+00,  8.70216826e-01,\n",
       "       -1.39332565e+00,  5.12438596e-01,  2.27883966e-01,  3.21666329e-01,\n",
       "       -5.70102530e-01, -1.41463022e+00,  1.79026489e+00,  1.27462247e-01,\n",
       "        3.00308306e-01,  1.02291501e+00,  1.15428047e-01,  2.94440565e-01,\n",
       "       -1.90412712e+00,  6.81275581e-01,  7.14312313e-01,  9.60620184e-01,\n",
       "       -7.38684349e-01, -2.66560322e-01, -4.33470864e-02,  9.85665014e-01,\n",
       "       -9.95191061e-01,  1.44327049e-01, -1.83710574e+00,  7.80048189e-01,\n",
       "        2.81105762e-02, -1.65810223e+00,  1.00569444e+00,  9.59042177e-01,\n",
       "        8.09239833e-01,  9.44089877e-01,  1.22543203e+00,  5.10052070e-01,\n",
       "       -4.49891443e-01, -1.61961234e+00,  9.84239398e-01, -6.96346110e-01,\n",
       "        7.61457012e-01,  6.09880308e-01, -4.68939248e-01,  8.20664431e-01,\n",
       "        1.35050992e+00, -4.30806771e-01, -2.35366765e+00,  8.03795308e-01,\n",
       "        3.69220155e-01,  9.96750678e-01, -8.53547207e-03,  9.58585892e-01,\n",
       "       -1.62689078e+00, -5.23819444e-01, -1.42562683e-01, -1.42674842e-01,\n",
       "        5.63003451e-01,  7.98089929e-01,  2.58503107e-01, -9.07336789e-01,\n",
       "       -3.12116774e-01,  1.04261204e+00, -1.24517035e+00,  1.35348646e+00,\n",
       "        5.88312902e-01,  7.25834583e-02, -7.27470120e-01, -8.74028122e-01,\n",
       "        1.19628112e+00, -1.75508987e+00,  7.60085761e-02,  1.96831810e+00,\n",
       "       -3.72899758e-02,  3.78342106e-01,  6.18633454e-01,  1.12285145e+00,\n",
       "       -1.97146790e-01,  1.28318749e+00, -5.35964698e-01,  3.72194905e-01,\n",
       "        2.32314723e-01, -2.44866991e+00,  8.95187815e-02,  7.88893067e-01,\n",
       "       -8.65875602e-01,  2.69084185e-01,  1.15845073e-01, -6.53285607e-04,\n",
       "       -3.72135092e-01, -8.42156491e-01,  5.99827100e-01, -7.19531223e-01,\n",
       "        2.49394324e-01,  1.01257468e+00,  1.79662729e-01, -5.01932274e-01,\n",
       "       -2.04122503e+00, -1.15993110e+00, -7.39089321e-01,  9.76504805e-01,\n",
       "        7.55949113e-02, -1.45619372e+00, -2.53591331e-01,  2.31984968e-01,\n",
       "        3.87632958e-02,  1.81758724e+00,  4.68498329e-01,  6.26242942e-01,\n",
       "       -1.29850019e-01, -1.12051210e+00,  3.23570562e-01, -1.90043492e+00,\n",
       "        2.89504941e-01, -1.45365732e-01, -5.51465517e-01,  2.42664039e-01,\n",
       "       -3.82174821e-01,  1.08647455e-01, -9.83950159e-01, -1.91366803e-02,\n",
       "       -7.19628987e-01,  3.40506825e-01,  7.02506980e-01,  1.21387924e-01,\n",
       "       -1.98812083e-01,  3.78757543e-01,  5.94779771e-01, -1.09207359e+00,\n",
       "        3.57674604e-02,  9.88143362e-01, -3.43335100e-01,  1.29829354e+00,\n",
       "       -1.73311234e-01, -1.20568199e+00, -2.54559353e-01,  1.53392348e-01,\n",
       "        6.59313631e-01,  1.64789021e+00,  1.36411389e+00, -7.75325002e-01,\n",
       "        1.63801181e+00, -3.09355773e-01, -3.55017100e-01, -2.58386906e-01,\n",
       "        1.03949149e+00, -9.72559460e-01, -1.45188178e+00, -1.58227065e-01,\n",
       "       -2.10894996e+00, -1.38265588e-01,  5.69890964e-01,  3.20166132e-01,\n",
       "       -1.32502854e+00,  2.16688932e+00,  1.13118330e+00, -1.76424951e+00,\n",
       "       -1.57907870e+00,  6.74755000e-02,  7.02886777e-01,  4.63174306e-01,\n",
       "       -3.55221748e-01, -8.95154930e-01,  1.19651216e-01,  4.57074168e-01,\n",
       "       -5.58652863e-01,  7.14843583e-01,  4.77001656e-01,  9.82300110e-01,\n",
       "       -4.71452558e-01, -3.39386832e-01, -4.05318350e-01,  7.20662852e-01,\n",
       "        7.62645122e-01,  4.60208327e-01, -1.34595040e+00,  1.51577482e+00,\n",
       "        8.48729632e-01, -1.34340706e+00,  3.92049231e-01, -1.53753442e-01,\n",
       "        5.17124366e-01, -1.68538741e-02,  1.77310522e+00, -5.97527360e-01,\n",
       "        1.73813404e-01, -1.40376078e+00,  7.41875819e-01, -3.12716752e-01,\n",
       "       -1.05746764e+00,  1.04695816e+00,  2.00360156e+00, -4.52490876e-01,\n",
       "        1.26222932e+00, -4.29643351e-01,  8.20295143e-01,  3.74513045e-01,\n",
       "       -2.79949826e-01,  3.24025539e-01, -4.22353374e-01,  4.54883260e-03,\n",
       "        6.10690501e-01,  1.30163765e+00,  8.87577032e-01,  4.83140050e-01,\n",
       "        1.98708016e+00, -8.70736104e-01, -7.26971428e-01, -8.56227805e-01,\n",
       "       -1.39377787e+00,  9.16400825e-02,  1.04770039e+00,  2.30785594e-01,\n",
       "       -1.08702677e+00, -7.64314248e-02, -9.13733633e-02, -4.09491370e-01,\n",
       "        8.30766158e-01, -5.77968844e-01, -1.26825875e+00, -7.29756450e-01,\n",
       "        8.14608755e-01, -4.01470937e-01, -1.41034946e+00,  1.51750816e+00,\n",
       "       -1.46261439e-01, -4.82345604e-01, -1.96372910e+00,  3.99027579e-01,\n",
       "       -6.34714146e-01,  2.13575678e+00, -7.07865800e-01, -6.28578690e-01,\n",
       "       -3.33959959e-01,  8.52932611e-01,  5.15994657e-01, -5.22402171e-01,\n",
       "       -1.20470296e+00,  5.21751668e-01, -1.27410539e+00, -1.92813835e+00,\n",
       "        1.38357588e-01,  1.12387542e+00, -3.18598406e-01, -1.45904588e+00,\n",
       "       -1.71746271e+00,  2.20929506e-01,  8.11801048e-01,  1.94261687e-01,\n",
       "        1.38731818e+00,  2.14598197e+00,  3.27041683e-01,  1.27363116e+00,\n",
       "       -2.03016914e+00,  7.99172285e-01,  1.60357501e-01, -2.00732561e-01,\n",
       "        8.83767115e-01, -1.33741968e+00, -8.59991466e-01, -1.70125893e+00,\n",
       "        9.39273012e-01, -1.15250159e+00, -7.63524486e-01,  6.01861742e-01,\n",
       "        3.14622590e-01, -1.92735681e-01, -9.15403662e-01,  8.52235924e-01,\n",
       "        5.63934137e-01,  6.30552568e-01,  2.23104556e-01, -4.89201025e-02,\n",
       "        3.08651985e-01,  2.18035442e-01,  5.62835199e-01, -9.41255972e-01,\n",
       "        1.59716300e+00, -1.56049357e-01,  3.24231257e-01, -1.43268404e+00,\n",
       "        1.32898578e+00, -5.00232219e-01,  8.94270421e-01, -8.45813908e-01,\n",
       "       -3.77978385e-01, -1.00910789e+00,  9.73841307e-01,  1.57854257e+00,\n",
       "       -4.70562899e-01, -9.65778098e-01, -2.47644993e-01,  1.30580655e+00,\n",
       "        6.27543575e-01, -7.80526366e-01,  6.46986704e-01, -6.68772967e-02,\n",
       "       -1.22795825e+00,  1.19574298e+00, -7.75173633e-01, -1.18392437e+00,\n",
       "        2.60713159e-02, -1.34375649e+00, -2.71400630e-02,  8.47601152e-01,\n",
       "       -1.50983903e+00, -1.31689564e+00,  4.28964988e-01,  4.18090701e-01,\n",
       "       -1.18816309e+00, -8.14068893e-01,  7.28946136e-01, -4.40416702e-01,\n",
       "       -6.13368129e-01, -1.04366748e+00, -1.45292554e+00,  5.93977444e-01,\n",
       "       -1.53606602e+00, -9.79829431e-03, -4.36330975e-01,  1.24873556e+00,\n",
       "        1.24084002e+00, -1.10847430e+00, -2.20746829e-01,  2.96956099e-01,\n",
       "        4.22295933e-01,  4.18462054e-01, -7.11684060e-01,  4.93821893e-01,\n",
       "       -6.07441693e-01, -1.07316158e+00, -1.77822542e-01, -4.42415782e-02,\n",
       "        3.14017660e-01, -3.13454925e-01,  1.22822235e+00, -5.32666598e-01,\n",
       "        8.99398562e-01,  7.40833125e-01,  3.05820398e-01,  1.03283009e+00,\n",
       "        2.25841267e-01, -2.10110700e-01, -1.74096282e+00,  1.03790524e+00,\n",
       "        8.97529286e-01, -7.86831305e-01, -6.03127623e-01,  8.67250136e-01,\n",
       "        5.76279143e-01, -2.52093597e-01, -2.46379890e+00,  1.06787053e+00,\n",
       "       -3.40514014e-01,  8.54411133e-01,  4.98316369e-01,  1.67094153e-01,\n",
       "       -7.14077567e-01,  3.99995068e-01, -1.27521732e+00,  1.26717449e+00,\n",
       "       -6.74105573e-01,  7.57186334e-02,  2.60372990e-01, -1.27386749e+00,\n",
       "       -5.46842351e-02,  3.77281711e-01, -1.89293380e+00,  4.52309890e-01,\n",
       "       -8.57793987e-01,  6.74961941e-01,  2.37647682e+00,  5.75799138e-01,\n",
       "       -9.66917502e-01,  5.05923964e-01, -7.14990512e-01, -6.02883304e-01,\n",
       "       -4.51692609e-01,  7.50418187e-01,  1.23877818e+00,  1.39773578e-01,\n",
       "       -2.13164891e+00, -1.44365373e+00,  3.72128699e-01,  1.00468229e+00,\n",
       "       -1.12796038e+00, -5.74017167e-01,  3.50088528e-01, -5.85590805e-01,\n",
       "       -7.57320343e-03, -2.12507421e+00,  6.81278556e-01, -8.45787374e-01,\n",
       "        7.18525306e-01, -1.08635280e+00, -1.26690178e+00,  3.58009200e-01,\n",
       "        1.82513254e+00,  7.66691490e-03,  1.28435949e+00, -5.32493446e-01,\n",
       "        4.33438189e-02,  7.86469390e-01,  4.97165896e-01, -1.21554566e-01])"
      ]
     },
     "execution_count": 149,
     "metadata": {},
     "output_type": "execute_result"
    }
   ],
   "source": [
    "large_arr = np.random.randn(1000)\n",
    "large_arr"
   ]
  },
  {
   "cell_type": "code",
   "execution_count": 150,
   "metadata": {},
   "outputs": [
    {
     "data": {
      "text/plain": [
       "array([-3.27273391e+00, -2.49478251e+00, -2.46402788e+00, -2.46379890e+00,\n",
       "       -2.45364469e+00, -2.44866991e+00, -2.37840901e+00, -2.36452386e+00,\n",
       "       -2.35842157e+00, -2.35366765e+00, -2.33318239e+00, -2.32847994e+00,\n",
       "       -2.27566154e+00, -2.25234160e+00, -2.21478424e+00, -2.16878883e+00,\n",
       "       -2.13403746e+00, -2.13164891e+00, -2.12507421e+00, -2.10894996e+00,\n",
       "       -2.08661455e+00, -2.06468153e+00, -2.04870347e+00, -2.04122503e+00,\n",
       "       -2.03016914e+00, -1.96571852e+00, -1.96372910e+00, -1.95571853e+00,\n",
       "       -1.94708385e+00, -1.94461786e+00, -1.92813835e+00, -1.90412712e+00,\n",
       "       -1.90043492e+00, -1.89607013e+00, -1.89293380e+00, -1.87126129e+00,\n",
       "       -1.84719343e+00, -1.83741667e+00, -1.83710574e+00, -1.83202974e+00,\n",
       "       -1.80913139e+00, -1.78839835e+00, -1.78116957e+00, -1.76711901e+00,\n",
       "       -1.76566424e+00, -1.76424951e+00, -1.75925183e+00, -1.75508987e+00,\n",
       "       -1.74169457e+00, -1.74096282e+00, -1.72274321e+00, -1.71746271e+00,\n",
       "       -1.71272122e+00, -1.70402596e+00, -1.70125893e+00, -1.66270534e+00,\n",
       "       -1.65843898e+00, -1.65810223e+00, -1.65008520e+00, -1.62810407e+00,\n",
       "       -1.62689078e+00, -1.61961234e+00, -1.61879575e+00, -1.58247581e+00,\n",
       "       -1.57907870e+00, -1.56753509e+00, -1.55411730e+00, -1.55099045e+00,\n",
       "       -1.53606602e+00, -1.53074172e+00, -1.52781013e+00, -1.51970026e+00,\n",
       "       -1.50983903e+00, -1.49586922e+00, -1.49439212e+00, -1.46742014e+00,\n",
       "       -1.45904588e+00, -1.45619372e+00, -1.45292554e+00, -1.45188178e+00,\n",
       "       -1.44365373e+00, -1.44093595e+00, -1.43645569e+00, -1.43268404e+00,\n",
       "       -1.41463022e+00, -1.41034946e+00, -1.40376078e+00, -1.40019396e+00,\n",
       "       -1.39646196e+00, -1.39377787e+00, -1.39336459e+00, -1.39332565e+00,\n",
       "       -1.38974730e+00, -1.38851822e+00, -1.38840307e+00, -1.37983537e+00,\n",
       "       -1.36130346e+00, -1.35859093e+00, -1.34595040e+00, -1.34375649e+00,\n",
       "       -1.34340706e+00, -1.34083209e+00, -1.33741968e+00, -1.33384305e+00,\n",
       "       -1.33191823e+00, -1.33041345e+00, -1.32502854e+00, -1.32164142e+00,\n",
       "       -1.31689564e+00, -1.31520492e+00, -1.31508023e+00, -1.30790343e+00,\n",
       "       -1.30155186e+00, -1.29601313e+00, -1.29376662e+00, -1.29242233e+00,\n",
       "       -1.28582002e+00, -1.27667493e+00, -1.27521732e+00, -1.27410539e+00,\n",
       "       -1.27386749e+00, -1.26825875e+00, -1.26690178e+00, -1.26617856e+00,\n",
       "       -1.26000449e+00, -1.25776437e+00, -1.24621389e+00, -1.24517035e+00,\n",
       "       -1.22889769e+00, -1.22795825e+00, -1.22573029e+00, -1.22539357e+00,\n",
       "       -1.22280247e+00, -1.20780587e+00, -1.20568199e+00, -1.20470296e+00,\n",
       "       -1.20258413e+00, -1.18816309e+00, -1.18793918e+00, -1.18392437e+00,\n",
       "       -1.16776533e+00, -1.15993110e+00, -1.15517521e+00, -1.15379656e+00,\n",
       "       -1.15250159e+00, -1.15238983e+00, -1.15229480e+00, -1.15124317e+00,\n",
       "       -1.12825685e+00, -1.12796038e+00, -1.12051210e+00, -1.10847430e+00,\n",
       "       -1.10196439e+00, -1.09207359e+00, -1.08769976e+00, -1.08702677e+00,\n",
       "       -1.08635280e+00, -1.08534575e+00, -1.08127512e+00, -1.07316158e+00,\n",
       "       -1.06074101e+00, -1.05746764e+00, -1.04971422e+00, -1.04912027e+00,\n",
       "       -1.04862730e+00, -1.04458834e+00, -1.04383235e+00, -1.04366748e+00,\n",
       "       -1.02018518e+00, -1.01994529e+00, -1.01568578e+00, -1.00910789e+00,\n",
       "       -1.00694596e+00, -1.00462606e+00, -1.00119473e+00, -9.95191061e-01,\n",
       "       -9.91375232e-01, -9.83950159e-01, -9.79411980e-01, -9.72559460e-01,\n",
       "       -9.68050776e-01, -9.66917502e-01, -9.65778098e-01, -9.59739307e-01,\n",
       "       -9.47578041e-01, -9.43566593e-01, -9.41635134e-01, -9.41255972e-01,\n",
       "       -9.41077278e-01, -9.39583903e-01, -9.27816555e-01, -9.26821856e-01,\n",
       "       -9.18370964e-01, -9.15403662e-01, -9.07336789e-01, -8.96170199e-01,\n",
       "       -8.95154930e-01, -8.91743143e-01, -8.90554640e-01, -8.89745103e-01,\n",
       "       -8.86958761e-01, -8.78516869e-01, -8.77808424e-01, -8.76637403e-01,\n",
       "       -8.76021772e-01, -8.74028122e-01, -8.70736104e-01, -8.68951867e-01,\n",
       "       -8.65875602e-01, -8.64466429e-01, -8.59991466e-01, -8.58456030e-01,\n",
       "       -8.57793987e-01, -8.56227805e-01, -8.45813908e-01, -8.45787374e-01,\n",
       "       -8.42156491e-01, -8.36949416e-01, -8.33556447e-01, -8.32450688e-01,\n",
       "       -8.32084261e-01, -8.28773414e-01, -8.18380898e-01, -8.14068893e-01,\n",
       "       -8.07341017e-01, -8.05782159e-01, -7.90690670e-01, -7.86831305e-01,\n",
       "       -7.86038335e-01, -7.85654927e-01, -7.80526366e-01, -7.75325002e-01,\n",
       "       -7.75173633e-01, -7.65613697e-01, -7.63524486e-01, -7.55505337e-01,\n",
       "       -7.54368272e-01, -7.46759566e-01, -7.39089321e-01, -7.38684349e-01,\n",
       "       -7.37648337e-01, -7.31964088e-01, -7.30213083e-01, -7.29756450e-01,\n",
       "       -7.27470120e-01, -7.26971428e-01, -7.25158264e-01, -7.21627556e-01,\n",
       "       -7.19628987e-01, -7.19531223e-01, -7.14990512e-01, -7.14077567e-01,\n",
       "       -7.12860564e-01, -7.11684060e-01, -7.07865800e-01, -6.96346110e-01,\n",
       "       -6.86310925e-01, -6.81908428e-01, -6.81409759e-01, -6.80823667e-01,\n",
       "       -6.74105573e-01, -6.72332767e-01, -6.72122380e-01, -6.65725767e-01,\n",
       "       -6.57097918e-01, -6.55961503e-01, -6.49668494e-01, -6.41800109e-01,\n",
       "       -6.35226023e-01, -6.34714146e-01, -6.28578690e-01, -6.27333651e-01,\n",
       "       -6.27187529e-01, -6.18887053e-01, -6.14019888e-01, -6.13368129e-01,\n",
       "       -6.12780456e-01, -6.07441693e-01, -6.04483288e-01, -6.04088740e-01,\n",
       "       -6.03127623e-01, -6.02883304e-01, -5.99885600e-01, -5.97527360e-01,\n",
       "       -5.89134306e-01, -5.85590805e-01, -5.83677258e-01, -5.81201247e-01,\n",
       "       -5.77968844e-01, -5.74017167e-01, -5.70102530e-01, -5.63128681e-01,\n",
       "       -5.59894843e-01, -5.58652863e-01, -5.55483276e-01, -5.51465517e-01,\n",
       "       -5.46421015e-01, -5.40848792e-01, -5.38543249e-01, -5.36412364e-01,\n",
       "       -5.35964698e-01, -5.35227291e-01, -5.34721098e-01, -5.32666598e-01,\n",
       "       -5.32493446e-01, -5.26091299e-01, -5.23819444e-01, -5.22402171e-01,\n",
       "       -5.20023589e-01, -5.12622152e-01, -5.12475488e-01, -5.11504084e-01,\n",
       "       -5.07359312e-01, -5.04108318e-01, -5.01932274e-01, -5.00232219e-01,\n",
       "       -4.90472913e-01, -4.86070355e-01, -4.82345604e-01, -4.77872879e-01,\n",
       "       -4.75233225e-01, -4.71452558e-01, -4.70562899e-01, -4.70005785e-01,\n",
       "       -4.68939248e-01, -4.63582333e-01, -4.61251073e-01, -4.60963654e-01,\n",
       "       -4.58936828e-01, -4.55740665e-01, -4.54529233e-01, -4.52490876e-01,\n",
       "       -4.51692609e-01, -4.49891443e-01, -4.49364070e-01, -4.44514070e-01,\n",
       "       -4.43722717e-01, -4.40416702e-01, -4.36330975e-01, -4.30806771e-01,\n",
       "       -4.29643351e-01, -4.25604218e-01, -4.22353374e-01, -4.19929453e-01,\n",
       "       -4.11127023e-01, -4.09491370e-01, -4.09330240e-01, -4.05843218e-01,\n",
       "       -4.05318350e-01, -4.01470937e-01, -3.97883731e-01, -3.95183120e-01,\n",
       "       -3.93935291e-01, -3.93832011e-01, -3.92945230e-01, -3.89101126e-01,\n",
       "       -3.82174821e-01, -3.81915014e-01, -3.79242741e-01, -3.77978385e-01,\n",
       "       -3.72135092e-01, -3.68691417e-01, -3.64806314e-01, -3.59738646e-01,\n",
       "       -3.55221748e-01, -3.55017100e-01, -3.54023797e-01, -3.49671279e-01,\n",
       "       -3.48097627e-01, -3.46045584e-01, -3.46033661e-01, -3.44289674e-01,\n",
       "       -3.43335100e-01, -3.40514014e-01, -3.39386832e-01, -3.33959959e-01,\n",
       "       -3.24278238e-01, -3.23873057e-01, -3.23384409e-01, -3.21910630e-01,\n",
       "       -3.18598406e-01, -3.18144858e-01, -3.13454925e-01, -3.12716752e-01,\n",
       "       -3.12116774e-01, -3.09355773e-01, -3.06056787e-01, -2.95096671e-01,\n",
       "       -2.92538874e-01, -2.88300782e-01, -2.79949826e-01, -2.79310625e-01,\n",
       "       -2.76491349e-01, -2.75575878e-01, -2.70336941e-01, -2.68354330e-01,\n",
       "       -2.68119343e-01, -2.66560322e-01, -2.58386906e-01, -2.54559353e-01,\n",
       "       -2.53591331e-01, -2.52466078e-01, -2.52093597e-01, -2.47644993e-01,\n",
       "       -2.45372943e-01, -2.38351893e-01, -2.35330211e-01, -2.33025511e-01,\n",
       "       -2.25346381e-01, -2.20746829e-01, -2.14991420e-01, -2.14821310e-01,\n",
       "       -2.10110700e-01, -2.05252847e-01, -2.05073146e-01, -2.04736150e-01,\n",
       "       -2.00732561e-01, -1.98812083e-01, -1.97146790e-01, -1.95451072e-01,\n",
       "       -1.92735681e-01, -1.90067429e-01, -1.88882747e-01, -1.85400104e-01,\n",
       "       -1.83651302e-01, -1.82872190e-01, -1.82389869e-01, -1.80809377e-01,\n",
       "       -1.77822542e-01, -1.74370065e-01, -1.73311234e-01, -1.68780762e-01,\n",
       "       -1.58227065e-01, -1.56049357e-01, -1.55106431e-01, -1.53753442e-01,\n",
       "       -1.50190537e-01, -1.47299141e-01, -1.46261439e-01, -1.45365732e-01,\n",
       "       -1.42674842e-01, -1.42562683e-01, -1.38265588e-01, -1.30127234e-01,\n",
       "       -1.29850019e-01, -1.22789875e-01, -1.21554566e-01, -1.19613402e-01,\n",
       "       -1.08374311e-01, -1.07292154e-01, -1.06726730e-01, -1.02083665e-01,\n",
       "       -1.00429547e-01, -9.13733633e-02, -8.69811093e-02, -8.58219403e-02,\n",
       "       -8.25503154e-02, -7.93651789e-02, -7.79359328e-02, -7.64314248e-02,\n",
       "       -7.45604110e-02, -7.18308728e-02, -7.13175982e-02, -7.03010113e-02,\n",
       "       -6.68772967e-02, -6.39029021e-02, -6.30759370e-02, -5.76547432e-02,\n",
       "       -5.46842351e-02, -5.39838789e-02, -5.39737420e-02, -5.35696625e-02,\n",
       "       -4.89201025e-02, -4.74961725e-02, -4.42415782e-02, -4.33470864e-02,\n",
       "       -4.17078969e-02, -3.97695434e-02, -3.81688526e-02, -3.72899758e-02,\n",
       "       -2.71400630e-02, -1.91366803e-02, -1.68538741e-02, -1.58062773e-02,\n",
       "       -1.49171396e-02, -9.79829431e-03, -8.53547207e-03, -7.57320343e-03,\n",
       "       -6.97059622e-03, -6.69198778e-03, -5.55995036e-03, -6.53285607e-04,\n",
       "        3.59583249e-03,  4.54883260e-03,  7.66691490e-03,  1.47886263e-02,\n",
       "        1.57165155e-02,  1.60427958e-02,  2.08071208e-02,  2.37528345e-02,\n",
       "        2.60713159e-02,  2.78416506e-02,  2.81105762e-02,  3.00562769e-02,\n",
       "        3.08918815e-02,  3.20377218e-02,  3.57674604e-02,  3.87632958e-02,\n",
       "        3.91872041e-02,  4.33438189e-02,  4.72823110e-02,  5.18120304e-02,\n",
       "        5.24654678e-02,  5.80210135e-02,  6.56562098e-02,  6.62330434e-02,\n",
       "        6.74755000e-02,  6.85029527e-02,  7.25834583e-02,  7.50935603e-02,\n",
       "        7.55949113e-02,  7.57186334e-02,  7.60085761e-02,  8.95187815e-02,\n",
       "        9.16400825e-02,  9.90666780e-02,  1.05543169e-01,  1.08647455e-01,\n",
       "        1.09931553e-01,  1.13267538e-01,  1.13710093e-01,  1.14938618e-01,\n",
       "        1.15428047e-01,  1.15836485e-01,  1.15845073e-01,  1.19651216e-01,\n",
       "        1.21387924e-01,  1.23776955e-01,  1.27462247e-01,  1.31283256e-01,\n",
       "        1.32981938e-01,  1.37277906e-01,  1.38357588e-01,  1.38718093e-01,\n",
       "        1.39773578e-01,  1.44327049e-01,  1.45443952e-01,  1.47076985e-01,\n",
       "        1.47700817e-01,  1.52088812e-01,  1.53392348e-01,  1.55289512e-01,\n",
       "        1.55308269e-01,  1.56447802e-01,  1.57035222e-01,  1.58464490e-01,\n",
       "        1.60357501e-01,  1.62642767e-01,  1.63689449e-01,  1.65261839e-01,\n",
       "        1.66144845e-01,  1.67094153e-01,  1.69866394e-01,  1.73813404e-01,\n",
       "        1.75899139e-01,  1.79662729e-01,  1.82593555e-01,  1.94261687e-01,\n",
       "        1.97262992e-01,  1.99786658e-01,  2.02019329e-01,  2.11506461e-01,\n",
       "        2.11996894e-01,  2.14165412e-01,  2.17978296e-01,  2.18035442e-01,\n",
       "        2.20929506e-01,  2.22805418e-01,  2.23104556e-01,  2.23736296e-01,\n",
       "        2.25841267e-01,  2.27883966e-01,  2.29278679e-01,  2.30410361e-01,\n",
       "        2.30785594e-01,  2.31867702e-01,  2.31984968e-01,  2.32093896e-01,\n",
       "        2.32314723e-01,  2.39274192e-01,  2.40875636e-01,  2.42664039e-01,\n",
       "        2.49394324e-01,  2.49506740e-01,  2.57846969e-01,  2.58503107e-01,\n",
       "        2.59440251e-01,  2.60372990e-01,  2.63512859e-01,  2.69084185e-01,\n",
       "        2.83520809e-01,  2.84697696e-01,  2.85056586e-01,  2.89504941e-01,\n",
       "        2.89863822e-01,  2.90356060e-01,  2.94440565e-01,  2.96956099e-01,\n",
       "        2.97346675e-01,  3.00308306e-01,  3.05820398e-01,  3.07219946e-01,\n",
       "        3.08651985e-01,  3.09010036e-01,  3.11403607e-01,  3.14017660e-01,\n",
       "        3.14401221e-01,  3.14622590e-01,  3.20166132e-01,  3.21666329e-01,\n",
       "        3.21777297e-01,  3.22429637e-01,  3.23570562e-01,  3.24025539e-01,\n",
       "        3.24231257e-01,  3.27041683e-01,  3.30355900e-01,  3.34859733e-01,\n",
       "        3.40506825e-01,  3.45552735e-01,  3.47502629e-01,  3.47986882e-01,\n",
       "        3.50088528e-01,  3.54032951e-01,  3.55441775e-01,  3.55941161e-01,\n",
       "        3.58009200e-01,  3.59093034e-01,  3.61631369e-01,  3.62742235e-01,\n",
       "        3.64234681e-01,  3.65854116e-01,  3.69220155e-01,  3.72128699e-01,\n",
       "        3.72194905e-01,  3.74513045e-01,  3.75897536e-01,  3.77217805e-01,\n",
       "        3.77281711e-01,  3.77734737e-01,  3.78342106e-01,  3.78757543e-01,\n",
       "        3.83183323e-01,  3.88117432e-01,  3.92049231e-01,  3.95848013e-01,\n",
       "        3.96899590e-01,  3.98421169e-01,  3.99027579e-01,  3.99496322e-01,\n",
       "        3.99995068e-01,  4.01529188e-01,  4.05159642e-01,  4.18090701e-01,\n",
       "        4.18462054e-01,  4.21215867e-01,  4.22295933e-01,  4.22846070e-01,\n",
       "        4.25085767e-01,  4.28964988e-01,  4.32133554e-01,  4.37691701e-01,\n",
       "        4.52263932e-01,  4.52309890e-01,  4.53944328e-01,  4.57074168e-01,\n",
       "        4.60208327e-01,  4.62854030e-01,  4.63174306e-01,  4.64554091e-01,\n",
       "        4.66309660e-01,  4.68498329e-01,  4.71226842e-01,  4.71866797e-01,\n",
       "        4.73575514e-01,  4.77001656e-01,  4.78180008e-01,  4.83140050e-01,\n",
       "        4.93821893e-01,  4.95691309e-01,  4.97165896e-01,  4.98316369e-01,\n",
       "        4.99653429e-01,  5.01338064e-01,  5.05923964e-01,  5.10052070e-01,\n",
       "        5.11281212e-01,  5.12438596e-01,  5.15994657e-01,  5.17124366e-01,\n",
       "        5.17486484e-01,  5.21751668e-01,  5.22876627e-01,  5.27150602e-01,\n",
       "        5.37290461e-01,  5.38435622e-01,  5.40314233e-01,  5.48833518e-01,\n",
       "        5.51574282e-01,  5.62835199e-01,  5.63003451e-01,  5.63934137e-01,\n",
       "        5.64617564e-01,  5.64914972e-01,  5.66518667e-01,  5.67700436e-01,\n",
       "        5.69890964e-01,  5.73877359e-01,  5.75799138e-01,  5.76279143e-01,\n",
       "        5.80507140e-01,  5.81319226e-01,  5.81434497e-01,  5.85003266e-01,\n",
       "        5.88312902e-01,  5.88891248e-01,  5.90029614e-01,  5.92652257e-01,\n",
       "        5.93160454e-01,  5.93977444e-01,  5.94779771e-01,  5.99827100e-01,\n",
       "        6.01861742e-01,  6.09880308e-01,  6.10690501e-01,  6.11862087e-01,\n",
       "        6.13737661e-01,  6.18633454e-01,  6.21382614e-01,  6.23641405e-01,\n",
       "        6.26242942e-01,  6.27543575e-01,  6.30552568e-01,  6.33564141e-01,\n",
       "        6.38137741e-01,  6.46182582e-01,  6.46986704e-01,  6.58260263e-01,\n",
       "        6.59313631e-01,  6.73215319e-01,  6.74961941e-01,  6.81275581e-01,\n",
       "        6.81278556e-01,  6.85679461e-01,  6.88603216e-01,  6.90749604e-01,\n",
       "        6.92616434e-01,  6.92974943e-01,  6.93142525e-01,  6.96965640e-01,\n",
       "        7.02506980e-01,  7.02886777e-01,  7.03875928e-01,  7.04222678e-01,\n",
       "        7.04276663e-01,  7.14312313e-01,  7.14702564e-01,  7.14843583e-01,\n",
       "        7.18525306e-01,  7.19815529e-01,  7.19937209e-01,  7.20662852e-01,\n",
       "        7.22959452e-01,  7.28946136e-01,  7.35818699e-01,  7.38127748e-01,\n",
       "        7.38774600e-01,  7.40833125e-01,  7.41875819e-01,  7.42303931e-01,\n",
       "        7.46977775e-01,  7.50418187e-01,  7.53916877e-01,  7.58859651e-01,\n",
       "        7.61049794e-01,  7.61457012e-01,  7.62645122e-01,  7.70873291e-01,\n",
       "        7.77672571e-01,  7.77923013e-01,  7.80048189e-01,  7.82725853e-01,\n",
       "        7.86469390e-01,  7.88893067e-01,  7.98089929e-01,  7.99172285e-01,\n",
       "        8.03795308e-01,  8.09239833e-01,  8.09773826e-01,  8.11801048e-01,\n",
       "        8.14608755e-01,  8.16256402e-01,  8.20295143e-01,  8.20664431e-01,\n",
       "        8.30105296e-01,  8.30766158e-01,  8.40942205e-01,  8.47601152e-01,\n",
       "        8.48729632e-01,  8.52235924e-01,  8.52818123e-01,  8.52932611e-01,\n",
       "        8.54411133e-01,  8.64388778e-01,  8.67250136e-01,  8.70216826e-01,\n",
       "        8.74094872e-01,  8.76650781e-01,  8.83767115e-01,  8.86651002e-01,\n",
       "        8.87577032e-01,  8.88306148e-01,  8.93972166e-01,  8.94270421e-01,\n",
       "        8.97529286e-01,  8.99398562e-01,  9.11093219e-01,  9.11403420e-01,\n",
       "        9.17766426e-01,  9.22965866e-01,  9.29668659e-01,  9.39273012e-01,\n",
       "        9.43316183e-01,  9.43385753e-01,  9.44089877e-01,  9.49386449e-01,\n",
       "        9.49697215e-01,  9.55600601e-01,  9.55968413e-01,  9.58585892e-01,\n",
       "        9.59042177e-01,  9.59620180e-01,  9.60620184e-01,  9.63517293e-01,\n",
       "        9.73841307e-01,  9.76504805e-01,  9.80719657e-01,  9.82300110e-01,\n",
       "        9.84239398e-01,  9.85665014e-01,  9.88143362e-01,  9.88472069e-01,\n",
       "        9.96750678e-01,  9.99977669e-01,  1.00102531e+00,  1.00468229e+00,\n",
       "        1.00569444e+00,  1.00602051e+00,  1.01257468e+00,  1.01295509e+00,\n",
       "        1.01512714e+00,  1.01950067e+00,  1.02136712e+00,  1.02291501e+00,\n",
       "        1.02935977e+00,  1.03153848e+00,  1.03283009e+00,  1.03790524e+00,\n",
       "        1.03949149e+00,  1.04178299e+00,  1.04261204e+00,  1.04397231e+00,\n",
       "        1.04529079e+00,  1.04695816e+00,  1.04721732e+00,  1.04770039e+00,\n",
       "        1.06787053e+00,  1.07010944e+00,  1.10020850e+00,  1.10081039e+00,\n",
       "        1.12285145e+00,  1.12387542e+00,  1.12960030e+00,  1.13118330e+00,\n",
       "        1.13919390e+00,  1.14227767e+00,  1.14359134e+00,  1.14608585e+00,\n",
       "        1.15409073e+00,  1.16545832e+00,  1.17687798e+00,  1.18125425e+00,\n",
       "        1.18631201e+00,  1.19574298e+00,  1.19628112e+00,  1.20496283e+00,\n",
       "        1.21824038e+00,  1.22140020e+00,  1.22543203e+00,  1.22822235e+00,\n",
       "        1.23877818e+00,  1.24038022e+00,  1.24060252e+00,  1.24084002e+00,\n",
       "        1.24873556e+00,  1.25851394e+00,  1.26222932e+00,  1.26717449e+00,\n",
       "        1.26765485e+00,  1.27363116e+00,  1.28318749e+00,  1.28435949e+00,\n",
       "        1.28551491e+00,  1.29589234e+00,  1.29617637e+00,  1.29829354e+00,\n",
       "        1.29875029e+00,  1.30163765e+00,  1.30580655e+00,  1.31556443e+00,\n",
       "        1.31936083e+00,  1.32430252e+00,  1.32898578e+00,  1.33197970e+00,\n",
       "        1.35050992e+00,  1.35348646e+00,  1.35783006e+00,  1.36411389e+00,\n",
       "        1.37413647e+00,  1.38000591e+00,  1.38185668e+00,  1.38248675e+00,\n",
       "        1.38348417e+00,  1.38589055e+00,  1.38731818e+00,  1.44586061e+00,\n",
       "        1.47858883e+00,  1.48062465e+00,  1.49509638e+00,  1.51577482e+00,\n",
       "        1.51750816e+00,  1.51755364e+00,  1.52506317e+00,  1.56492296e+00,\n",
       "        1.56974777e+00,  1.57341858e+00,  1.57854257e+00,  1.59716300e+00,\n",
       "        1.59837230e+00,  1.60166110e+00,  1.63801181e+00,  1.64178404e+00,\n",
       "        1.64447727e+00,  1.64789021e+00,  1.66205120e+00,  1.66318440e+00,\n",
       "        1.68265218e+00,  1.69116320e+00,  1.72849530e+00,  1.75216329e+00,\n",
       "        1.77310522e+00,  1.79026489e+00,  1.79251066e+00,  1.80245735e+00,\n",
       "        1.80934331e+00,  1.81712443e+00,  1.81758724e+00,  1.82513254e+00,\n",
       "        1.87833879e+00,  1.91040930e+00,  1.92507754e+00,  1.96831810e+00,\n",
       "        1.97893255e+00,  1.98708016e+00,  2.00126489e+00,  2.00360156e+00,\n",
       "        2.03788258e+00,  2.04474035e+00,  2.05737913e+00,  2.06498131e+00,\n",
       "        2.09247756e+00,  2.09407283e+00,  2.12256659e+00,  2.13575678e+00,\n",
       "        2.14598197e+00,  2.16688932e+00,  2.16876521e+00,  2.19173972e+00,\n",
       "        2.20681547e+00,  2.21488666e+00,  2.28503714e+00,  2.30072959e+00,\n",
       "        2.32784276e+00,  2.37417759e+00,  2.37647682e+00,  2.43721085e+00,\n",
       "        2.45406154e+00,  2.52132756e+00,  2.64391402e+00,  2.86161522e+00])"
      ]
     },
     "execution_count": 150,
     "metadata": {},
     "output_type": "execute_result"
    }
   ],
   "source": [
    "large_arr.sort()\n",
    "large_arr"
   ]
  },
  {
   "cell_type": "code",
   "execution_count": 151,
   "metadata": {},
   "outputs": [
    {
     "data": {
      "text/plain": [
       "-1.7227432072650855"
      ]
     },
     "execution_count": 151,
     "metadata": {},
     "output_type": "execute_result"
    }
   ],
   "source": [
    "large_arr[int(0.05 * len(large_arr))] # 5% quantile"
   ]
  },
  {
   "cell_type": "markdown",
   "metadata": {},
   "source": [
    "# Unique and Other Set Logic"
   ]
  },
  {
   "cell_type": "markdown",
   "metadata": {},
   "source": [
    "NumPy has some basic set operations for one-dimensional ndarrays. Probably the most\n",
    "commonly used one is np.unique, which returns the sorted unique values in an array:"
   ]
  },
  {
   "cell_type": "code",
   "execution_count": 152,
   "metadata": {},
   "outputs": [
    {
     "data": {
      "text/plain": [
       "array(['Bob', 'Joe', 'Will'], dtype='<U4')"
      ]
     },
     "execution_count": 152,
     "metadata": {},
     "output_type": "execute_result"
    }
   ],
   "source": [
    "names = np.array(['Bob', 'Joe', 'Will', 'Bob', 'Will', 'Joe', 'Joe'])\n",
    "np.unique(names)"
   ]
  },
  {
   "cell_type": "code",
   "execution_count": 153,
   "metadata": {},
   "outputs": [
    {
     "data": {
      "text/plain": [
       "['Bob', 'Joe', 'Will']"
      ]
     },
     "execution_count": 153,
     "metadata": {},
     "output_type": "execute_result"
    }
   ],
   "source": [
    "sorted(set(names))"
   ]
  },
  {
   "cell_type": "code",
   "execution_count": 154,
   "metadata": {},
   "outputs": [
    {
     "data": {
      "text/plain": [
       "array([1, 2, 3, 4])"
      ]
     },
     "execution_count": 154,
     "metadata": {},
     "output_type": "execute_result"
    }
   ],
   "source": [
    "ints = np.array([3, 3, 3, 2, 2, 1, 1, 4, 4])\n",
    "np.unique(ints)"
   ]
  },
  {
   "cell_type": "markdown",
   "metadata": {},
   "source": [
    "Another function, np.in1d, tests membership of the values in one array in another,\n",
    "returning a boolean array:"
   ]
  },
  {
   "cell_type": "code",
   "execution_count": 155,
   "metadata": {},
   "outputs": [
    {
     "data": {
      "text/plain": [
       "array([False, False, False,  True,  True, False, False])"
      ]
     },
     "execution_count": 155,
     "metadata": {},
     "output_type": "execute_result"
    }
   ],
   "source": [
    "values = np.array([6, 0, 0, 3, 2, 5, 6])\n",
    "np.in1d(values,[1,2,3])"
   ]
  },
  {
   "cell_type": "markdown",
   "metadata": {},
   "source": [
    "# File Input and Output with Arrays"
   ]
  },
  {
   "cell_type": "markdown",
   "metadata": {},
   "source": [
    "# Storing Arrays on Disk in Binary Format"
   ]
  },
  {
   "cell_type": "markdown",
   "metadata": {},
   "source": [
    "np.save and np.load are the two workhorse functions for efficiently saving and loading\n",
    "array data on disk. Arrays are saved by default in an uncompressed raw binary format\n",
    "with file extension .npy."
   ]
  },
  {
   "cell_type": "code",
   "execution_count": 156,
   "metadata": {},
   "outputs": [],
   "source": [
    "arr = np.arange(10)"
   ]
  },
  {
   "cell_type": "code",
   "execution_count": 157,
   "metadata": {},
   "outputs": [],
   "source": [
    "np.save('some_array', arr)"
   ]
  },
  {
   "cell_type": "code",
   "execution_count": 158,
   "metadata": {},
   "outputs": [
    {
     "data": {
      "text/plain": [
       "array([0, 1, 2, 3, 4, 5, 6, 7, 8, 9])"
      ]
     },
     "execution_count": 158,
     "metadata": {},
     "output_type": "execute_result"
    }
   ],
   "source": [
    "np.load('some_array.npy')"
   ]
  },
  {
   "cell_type": "markdown",
   "metadata": {},
   "source": [
    "You save multiple arrays in a zip archive using np.savez and passing the arrays as keyword\n",
    "arguments:"
   ]
  },
  {
   "cell_type": "code",
   "execution_count": 159,
   "metadata": {},
   "outputs": [],
   "source": [
    "np.savez('array_archive.npz', a=arr, b=arr)"
   ]
  },
  {
   "cell_type": "code",
   "execution_count": 160,
   "metadata": {},
   "outputs": [],
   "source": [
    "arch = np.load('array_archive.npz')"
   ]
  },
  {
   "cell_type": "code",
   "execution_count": 161,
   "metadata": {},
   "outputs": [
    {
     "data": {
      "text/plain": [
       "array([0, 1, 2, 3, 4, 5, 6, 7, 8, 9])"
      ]
     },
     "execution_count": 161,
     "metadata": {},
     "output_type": "execute_result"
    }
   ],
   "source": [
    "arch['a']"
   ]
  },
  {
   "cell_type": "code",
   "execution_count": 162,
   "metadata": {},
   "outputs": [],
   "source": [
    "#!cat array_ex.txt"
   ]
  },
  {
   "cell_type": "code",
   "execution_count": 163,
   "metadata": {},
   "outputs": [],
   "source": [
    "#arr = np.loadtxt('array_ex.txt', delimiter=',')"
   ]
  },
  {
   "cell_type": "markdown",
   "metadata": {},
   "source": [
    "# Linear Algebra"
   ]
  },
  {
   "cell_type": "markdown",
   "metadata": {},
   "source": [
    "Linear algebra, like matrix multiplication, decompositions, determinants, and other\n",
    "square matrix math, is an important part of any array library. Unlike some languages\n",
    "like MATLAB, multiplying two two-dimensional arrays with * is an element-wise\n",
    "product instead of a matrix dot product. As such, there is a function dot, both an array\n",
    "method, and a function in the numpy namespace, for matrix multiplication:"
   ]
  },
  {
   "cell_type": "code",
   "execution_count": 164,
   "metadata": {},
   "outputs": [],
   "source": [
    "x = np.array([[1., 2., 3.], [4., 5., 6.]])"
   ]
  },
  {
   "cell_type": "code",
   "execution_count": 165,
   "metadata": {},
   "outputs": [],
   "source": [
    "y = np.array([[6.,23],[-1,7],[8,9]])"
   ]
  },
  {
   "cell_type": "code",
   "execution_count": 166,
   "metadata": {},
   "outputs": [
    {
     "data": {
      "text/plain": [
       "array([[1., 2., 3.],\n",
       "       [4., 5., 6.]])"
      ]
     },
     "execution_count": 166,
     "metadata": {},
     "output_type": "execute_result"
    }
   ],
   "source": [
    "x"
   ]
  },
  {
   "cell_type": "code",
   "execution_count": 167,
   "metadata": {},
   "outputs": [
    {
     "data": {
      "text/plain": [
       "array([[ 6., 23.],\n",
       "       [-1.,  7.],\n",
       "       [ 8.,  9.]])"
      ]
     },
     "execution_count": 167,
     "metadata": {},
     "output_type": "execute_result"
    }
   ],
   "source": [
    "y"
   ]
  },
  {
   "cell_type": "code",
   "execution_count": 168,
   "metadata": {},
   "outputs": [],
   "source": [
    "#dot Matrix multiplication"
   ]
  },
  {
   "cell_type": "code",
   "execution_count": 169,
   "metadata": {},
   "outputs": [
    {
     "data": {
      "text/plain": [
       "array([[ 28.,  64.],\n",
       "       [ 67., 181.]])"
      ]
     },
     "execution_count": 169,
     "metadata": {},
     "output_type": "execute_result"
    }
   ],
   "source": [
    "x.dot(y) # equivalently np.dot(x, y)"
   ]
  },
  {
   "cell_type": "code",
   "execution_count": 170,
   "metadata": {},
   "outputs": [
    {
     "data": {
      "text/plain": [
       "array([ 6., 15.])"
      ]
     },
     "execution_count": 170,
     "metadata": {},
     "output_type": "execute_result"
    }
   ],
   "source": [
    "np.dot(x, np.ones(3)) # it take the sum of each row and make a new matrix"
   ]
  },
  {
   "cell_type": "code",
   "execution_count": 171,
   "metadata": {},
   "outputs": [
    {
     "data": {
      "text/plain": [
       "array([29.,  6., 17.])"
      ]
     },
     "execution_count": 171,
     "metadata": {},
     "output_type": "execute_result"
    }
   ],
   "source": [
    "np.dot(y, np.ones(2)) # it take the sum of each row and make a new matrix"
   ]
  },
  {
   "cell_type": "markdown",
   "metadata": {},
   "source": [
    "numpy.linalg has a standard set of matrix decompositions and things like inverse and\n",
    "determinant. These are implemented under the hood using the same industry-standard\n",
    "Fortran libraries used in other languages like MATLAB and R, such as like BLAS, LAPACK,\n",
    "or possibly (depending on your NumPy build) the Intel MKL:"
   ]
  },
  {
   "cell_type": "code",
   "execution_count": 172,
   "metadata": {},
   "outputs": [],
   "source": [
    "from numpy.linalg import inv, qr"
   ]
  },
  {
   "cell_type": "code",
   "execution_count": 173,
   "metadata": {},
   "outputs": [],
   "source": [
    "X = np.random.randn(5, 5)"
   ]
  },
  {
   "cell_type": "code",
   "execution_count": 174,
   "metadata": {},
   "outputs": [
    {
     "data": {
      "text/plain": [
       "array([[ 0.56001217,  0.92074246, -1.49987356,  0.65054629,  0.42400261],\n",
       "       [-1.22632077,  0.67805838,  0.36244266, -0.06097113, -0.34237216],\n",
       "       [ 0.12665096,  1.47617874, -1.21557702, -0.08575913, -0.25151141],\n",
       "       [-0.71653372, -0.87013352, -0.0623068 ,  0.65552661, -1.01511346],\n",
       "       [-0.94714977,  0.12095067, -2.00985973,  0.05783734, -1.42459211]])"
      ]
     },
     "execution_count": 174,
     "metadata": {},
     "output_type": "execute_result"
    }
   ],
   "source": [
    "X"
   ]
  },
  {
   "cell_type": "code",
   "execution_count": 175,
   "metadata": {},
   "outputs": [],
   "source": [
    "mat = X.T.dot(X)"
   ]
  },
  {
   "cell_type": "code",
   "execution_count": 176,
   "metadata": {},
   "outputs": [
    {
     "data": {
      "text/plain": [
       "array([[ 3.24402999,  0.37999098,  0.50991069, -0.09626502,  2.70211567],\n",
       "       [ 0.37999098,  4.25839493, -3.11852756, -0.13235242,  0.49795199],\n",
       "       [ 0.50991069, -3.11852756,  7.90203112, -1.05067759,  2.47216968],\n",
       "       [-0.09626502, -0.13235242, -1.05067759,  0.86734288, -0.42955096],\n",
       "       [ 2.70211567,  0.49795199,  2.47216968, -0.42955096,  3.4201729 ]])"
      ]
     },
     "execution_count": 176,
     "metadata": {},
     "output_type": "execute_result"
    }
   ],
   "source": [
    "mat"
   ]
  },
  {
   "cell_type": "code",
   "execution_count": 177,
   "metadata": {},
   "outputs": [],
   "source": [
    "#inv Compute the inverse of a square matrix"
   ]
  },
  {
   "cell_type": "code",
   "execution_count": 178,
   "metadata": {},
   "outputs": [
    {
     "data": {
      "text/plain": [
       "array([[ 2.32090763,  0.97570775,  1.15631475,  0.44233186, -2.755948  ],\n",
       "       [ 0.97570775,  0.94370198,  0.83338859,  0.54776756, -1.44185032],\n",
       "       [ 1.15631475,  0.83338859,  0.98591475,  0.62311961, -1.66926375],\n",
       "       [ 0.44233186,  0.54776756,  0.62311961,  1.71126855, -0.66469568],\n",
       "       [-2.755948  , -1.44185032, -1.66926375, -0.66469568,  3.8027449 ]])"
      ]
     },
     "execution_count": 178,
     "metadata": {},
     "output_type": "execute_result"
    }
   ],
   "source": [
    "inv(mat)"
   ]
  },
  {
   "cell_type": "code",
   "execution_count": 179,
   "metadata": {},
   "outputs": [
    {
     "data": {
      "text/plain": [
       "array([[ 1.00000000e+00,  6.56518875e-17,  1.91145592e-17,\n",
       "        -6.17698317e-17,  3.37888587e-16],\n",
       "       [ 5.92812601e-16,  1.00000000e+00,  1.21627922e-16,\n",
       "         1.62191758e-16,  1.81340582e-17],\n",
       "       [ 1.20737628e-16,  8.30744820e-16,  1.00000000e+00,\n",
       "         2.69724691e-16, -1.50817849e-15],\n",
       "       [ 4.29426474e-16,  1.04895624e-16,  3.38040908e-16,\n",
       "         1.00000000e+00, -1.77004211e-16],\n",
       "       [-2.55066169e-16, -5.62509756e-16, -5.15447371e-16,\n",
       "        -5.84464935e-16,  1.00000000e+00]])"
      ]
     },
     "execution_count": 179,
     "metadata": {},
     "output_type": "execute_result"
    }
   ],
   "source": [
    "mat.dot(inv(mat))"
   ]
  },
  {
   "cell_type": "code",
   "execution_count": 180,
   "metadata": {},
   "outputs": [],
   "source": [
    "#qr Compute the QR decomposition"
   ]
  },
  {
   "cell_type": "code",
   "execution_count": 181,
   "metadata": {},
   "outputs": [],
   "source": [
    "q, r = qr(mat)"
   ]
  },
  {
   "cell_type": "code",
   "execution_count": 182,
   "metadata": {},
   "outputs": [
    {
     "data": {
      "text/plain": [
       "array([[-0.75960251,  0.01625058,  0.35239636,  0.14486621, -0.52684964],\n",
       "       [-0.0889764 , -0.79597251, -0.51778472, -0.12014483, -0.27563594],\n",
       "       [-0.11939761,  0.6043398 , -0.70795134, -0.13225441, -0.31911016],\n",
       "       [ 0.02254084,  0.02244292,  0.25176479, -0.95888282, -0.12706868],\n",
       "       [-0.63271111, -0.02081845, -0.20769012, -0.16622727,  0.72696392]])"
      ]
     },
     "execution_count": 182,
     "metadata": {},
     "output_type": "execute_result"
    }
   ],
   "source": [
    "q"
   ]
  },
  {
   "cell_type": "code",
   "execution_count": 183,
   "metadata": {},
   "outputs": [
    {
     "data": {
      "text/plain": [
       "array([[-4.27069417, -0.61323708, -2.64119014,  0.50168009, -4.56567481],\n",
       "       [ 0.        , -5.2813775 ,  7.19101343, -0.50277346,  1.06074231],\n",
       "       [ 0.        ,  0.        , -4.57780578,  1.08601511, -1.87427397],\n",
       "       [ 0.        ,  0.        ,  0.        , -0.61936445, -0.15197342],\n",
       "       [ 0.        ,  0.        ,  0.        ,  0.        ,  0.19116821]])"
      ]
     },
     "execution_count": 183,
     "metadata": {},
     "output_type": "execute_result"
    }
   ],
   "source": [
    "r"
   ]
  },
  {
   "cell_type": "markdown",
   "metadata": {},
   "source": [
    "Function Description\n",
    "\n",
    "\n",
    "diag Return the diagonal (or off-diagonal) elements of a square matrix as a 1D array, or convert a 1D array into a square\n",
    "matrix with zeros on the off-diagonal\n",
    "dot Matrix multiplication\n",
    "trace Compute the sum of the diagonal elements\n",
    "det Compute the matrix determinant\n",
    "eig Compute the eigenvalues and eigenvectors of a square matrix\n",
    "inv Compute the inverse of a square matrix\n",
    "pinv Compute the Moore-Penrose pseudo-inverse inverse of a square matrix\n",
    "qr Compute the QR decomposition\n",
    "svd Compute the singular value decomposition (SVD)\n",
    "solve Solve the linear system Ax = b for x, where A is a square matrix\n",
    "lstsq Compute the least-squares solution to y = Xb"
   ]
  },
  {
   "cell_type": "markdown",
   "metadata": {},
   "source": [
    "# Random Number Generation"
   ]
  },
  {
   "cell_type": "markdown",
   "metadata": {},
   "source": [
    "The numpy.random module supplements the built-in Python random with functions for\n",
    "efficiently generating whole arrays of sample values from many kinds of probability"
   ]
  },
  {
   "cell_type": "code",
   "execution_count": 184,
   "metadata": {},
   "outputs": [],
   "source": [
    "samples = np.random.normal(size=(4, 4))"
   ]
  },
  {
   "cell_type": "code",
   "execution_count": 185,
   "metadata": {},
   "outputs": [
    {
     "data": {
      "text/plain": [
       "array([[-0.6132951 ,  0.23231609, -1.15628598, -1.90186867],\n",
       "       [-0.26766399, -0.69609249, -0.04017039, -0.96468491],\n",
       "       [ 0.3373564 , -0.42505382,  0.69950362, -0.15656135],\n",
       "       [ 0.93116111,  0.55305187, -0.69769901,  0.9564529 ]])"
      ]
     },
     "execution_count": 185,
     "metadata": {},
     "output_type": "execute_result"
    }
   ],
   "source": [
    "samples"
   ]
  },
  {
   "cell_type": "code",
   "execution_count": 186,
   "metadata": {},
   "outputs": [],
   "source": [
    "from random import normalvariate"
   ]
  },
  {
   "cell_type": "code",
   "execution_count": 187,
   "metadata": {},
   "outputs": [],
   "source": [
    "N = 1000000"
   ]
  },
  {
   "cell_type": "code",
   "execution_count": 188,
   "metadata": {},
   "outputs": [
    {
     "name": "stdout",
     "output_type": "stream",
     "text": [
      "1.81 s ± 452 ms per loop (mean ± std. dev. of 7 runs, 1 loop each)\n"
     ]
    }
   ],
   "source": [
    "%timeit samples = [normalvariate(0, 1) for _ in range(N)]"
   ]
  },
  {
   "cell_type": "code",
   "execution_count": 189,
   "metadata": {},
   "outputs": [
    {
     "name": "stdout",
     "output_type": "stream",
     "text": [
      "63 ms ± 4.39 ms per loop (mean ± std. dev. of 7 runs, 10 loops each)\n"
     ]
    }
   ],
   "source": [
    "%timeit np.random.normal(size=N)"
   ]
  },
  {
   "cell_type": "raw",
   "metadata": {},
   "source": [
    "Function Description\n",
    "\n",
    "\n",
    "seed Seed the random number generator\n",
    "permutation Return a random permutation of a sequence, or return a permuted range\n",
    "shuffle Randomly permute a sequence in place\n",
    "rand Draw samples from a uniform distribution\n",
    "randint Draw random integers from a given low-to-high range\n",
    "randn Draw samples from a normal distribution with mean 0 and standard deviation 1 (MATLAB-like interface)\n",
    "binomial Draw samples a binomial distribution\n",
    "normal Draw samples from a normal (Gaussian) distribution\n",
    "beta Draw samples from a beta distribution\n",
    "chisquare Draw samples from a chi-square distribution\n",
    "gamma Draw samples from a gamma distribution\n",
    "uniform Draw samples from a uniform [0, 1) distribution"
   ]
  },
  {
   "cell_type": "markdown",
   "metadata": {},
   "source": [
    "# Example: Random Walks"
   ]
  },
  {
   "cell_type": "code",
   "execution_count": 190,
   "metadata": {},
   "outputs": [],
   "source": [
    "import random\n",
    "position = 0\n",
    "walk = [position]\n",
    "steps = 1000\n",
    "for i in range(steps):\n",
    "    step = 1 if random.randint(0, 1) else -1\n",
    "    position += step\n",
    "    walk.append(position)"
   ]
  },
  {
   "cell_type": "code",
   "execution_count": 191,
   "metadata": {},
   "outputs": [
    {
     "name": "stdout",
     "output_type": "stream",
     "text": [
      "-------> [0, 0, 1, 2, 3, 4, 4, 5, 5, 6, 7, 7, 7, 7, 7, 8, 9, 9, 9, 10, 10, 11, 11, 11, 11, 11, 12, 13, 13, 14, 14, 15, 16, 16, 16, 17, 18, 18, 18, 18, 18, 19, 19, 19, 19, 20, 20, 21, 22, 23, 24, 25, 26, 27, 28, 28, 28, 28, 29, 29, 30, 30, 31, 31, 31, 31, 32, 33, 34, 35, 35, 36, 37, 37, 38, 38, 38, 39, 40, 41, 42, 43, 44, 45, 45, 45, 46, 47, 48, 49, 49, 49, 49, 49, 50, 50, 50, 51, 52, 53, 53, 53, 53, 54, 54, 54, 55, 56, 57, 57, 57, 58, 59, 59, 59, 59, 59, 60, 60, 61, 61, 61, 62, 63, 64, 64, 64, 64, 65, 66, 67, 68, 68, 69, 69, 69, 69, 69, 69, 69, 69, 69, 70, 71, 71, 71, 71, 72, 72, 73, 74, 74, 75, 75, 76, 76, 77, 77, 78, 78, 79, 79, 79, 80, 80, 80, 81, 81, 82, 82, 82, 82, 83, 83, 84, 84, 84, 85, 86, 87, 88, 89, 90, 91, 91, 91, 91, 91, 91, 91, 92, 92, 93, 93, 94, 94, 95, 96, 96, 97, 97, 98, 99, 100, 101, 102, 102, 102, 102, 102, 102, 102, 102, 103, 103, 104, 105, 106, 107, 108, 109, 109, 110, 111, 111, 112, 113, 114, 114, 114, 115, 115, 115, 115, 116, 117, 117, 117, 117, 118, 118, 119, 119, 119, 119, 119, 120, 120, 121, 121, 122, 123, 123, 124, 124, 124, 124, 125, 125, 125, 126, 126, 127, 128, 129, 129, 130, 131, 131, 131, 131, 132, 132, 132, 133, 134, 134, 135, 136, 136, 136, 136, 136, 137, 137, 138, 138, 138, 139, 140, 141, 141, 142, 143, 143, 143, 143, 143, 144, 144, 145, 146, 147, 147, 147, 148, 148, 148, 149, 149, 150, 151, 151, 152, 152, 153, 153, 154, 154, 154, 154, 155, 155, 155, 155, 155, 155, 156, 157, 157, 157, 158, 158, 158, 159, 160, 160, 160, 161, 161, 161, 161, 162, 162, 162, 162, 163, 163, 164, 164, 164, 164, 165, 165, 166, 167, 168, 169, 170, 170, 170, 171, 171, 171, 171, 172, 172, 173, 173, 173, 174, 175, 176, 176, 177, 177, 177, 177, 177, 177, 178, 178, 178, 179, 179, 179, 180, 181, 182, 183, 183, 184, 185, 186, 187, 187, 188, 188, 188, 188, 189, 189, 190, 190, 191, 192, 192, 192, 193, 194, 194, 195, 195, 195, 195, 196, 197, 197, 197, 197, 197, 198, 199, 199, 200, 201, 202, 202, 203, 203, 204, 205, 206, 206, 207, 207, 208, 209, 209, 209, 209, 209, 209, 210, 211, 211, 212, 212, 213, 214, 214, 215, 215, 216, 217, 218, 218, 218, 219, 219, 220, 221, 221, 221, 221, 222, 222, 223, 223, 224, 225, 225, 225, 226, 227, 227, 228, 229, 230, 230, 230, 230, 231, 232, 232, 232, 233, 233, 234, 234, 235, 235, 235, 235, 235, 236, 237, 238, 239, 240, 240, 240, 240, 241, 241, 241, 242, 243, 244, 245, 246, 247, 247, 248, 249, 250, 250, 250, 251, 251, 252, 253, 254, 254, 254, 254, 254, 255, 256, 257, 258, 258, 258, 258, 259, 260, 261, 262, 262, 262, 262, 263, 264, 264, 264, 264, 264, 264, 264, 265, 265, 266, 267, 268, 269, 270, 271, 271, 271, 272, 272, 273, 273, 273, 273, 274, 274, 274, 275, 276, 276, 276, 276, 277, 278, 279, 280, 280, 281, 281, 281, 281, 282, 282, 283, 283, 283, 283, 283, 283, 283, 283, 283, 283, 283, 284, 284, 285, 286, 286, 286, 287, 287, 287, 288, 289, 290, 290, 290, 290, 291, 291, 291, 291, 292, 292, 292, 293, 294, 295, 296, 296, 297, 298, 298, 299, 300, 301, 301, 301, 301, 302, 302, 303, 304, 305, 306, 307, 307, 308, 308, 308, 309, 310, 311, 312, 313, 314, 315, 315, 315, 315, 316, 317, 318, 319, 319, 319, 319, 319, 320, 320, 320, 321, 322, 323, 324, 324, 324, 324, 325, 325, 326, 327, 327, 327, 328, 328, 328, 329, 330, 330, 330, 331, 331, 332, 332, 332, 333, 334, 335, 336, 336, 337, 337, 338, 338, 339, 339, 340, 341, 342, 343, 344, 345, 345, 345, 346, 347, 348, 349, 350, 351, 352, 352, 352, 353, 353, 354, 354, 354, 354, 354, 355, 355, 355, 356, 357, 358, 358, 359, 359, 359, 360, 360, 360, 360, 360, 360, 361, 361, 361, 362, 363, 363, 364, 365, 365, 365, 365, 366, 366, 367, 367, 367, 367, 368, 368, 369, 369, 370, 370, 370, 370, 371, 372, 373, 374, 374, 374, 375, 375, 375, 376, 377, 377, 378, 379, 379, 380, 381, 382, 382, 382, 382, 383, 384, 384, 385, 385, 385, 385, 386, 387, 387, 388, 389, 390, 390, 391, 391, 392, 392, 393, 393, 394, 394, 395, 395, 396, 397, 397, 398, 398, 399, 400, 401, 402, 403, 403, 404, 404, 404, 404, 405, 405, 405, 406, 407, 408, 408, 408, 408, 408, 408, 409, 410, 411, 411, 411, 412, 412, 413, 413, 414, 414, 415, 416, 416, 416, 417, 417, 417, 417, 418, 418, 418, 418, 418, 418, 418, 419, 419, 420, 421, 422, 422, 422, 422, 423, 424, 424, 424, 424, 425, 425, 426, 426, 427, 427, 427, 428, 429, 430, 430, 430, 430, 431, 432, 432, 432, 432, 432, 432, 433, 434, 434, 435, 436, 437, 437, 438, 439, 440, 441, 442, 443, 444, 444, 445, 445, 446, 446, 447, 447, 447, 447, 448, 448, 448, 449, 450, 451, 451, 452, 453, 454, 455, 456, 457, 457, 458, 458, 459, 460, 460, 460, 461, 462, 463, 463, 463, 463, 464, 464, 465, 466, 466, 466, 467, 468, 468, 468, 469, 469, 470, 471, 471, 472, 472, 472, 473, 473, 473, 473, 473, 473, 473, 473, 474, 475, 475, 476, 476, 477, 477, 477, 478, 478, 478, 479, 479, 480, 480, 480, 480, 481, 482, 482, 482, 483, 484, 484, 484, 485, 485, 486, 486, 486, 486, 487]\n",
      "-------> 487\n",
      "-------> 1000\n"
     ]
    }
   ],
   "source": [
    "import random\n",
    "position = 0\n",
    "walk = [position]\n",
    "steps = 1000\n",
    "for i in range(steps):\n",
    "    step = 1 \n",
    "    if random.randint(0, 1):\n",
    "        position += step\n",
    "    else:\n",
    "        -1\n",
    "    walk.append(position)\n",
    "print(\"------->\",walk)\n",
    "print(\"------->\",position)\n",
    "print(\"------->\",steps)"
   ]
  },
  {
   "cell_type": "code",
   "execution_count": 192,
   "metadata": {},
   "outputs": [
    {
     "name": "stdout",
     "output_type": "stream",
     "text": [
      "[  1   2   1   0   1   2   1   2   3   4   5   4   3   4   3   4   3   2\n",
      "   1   0  -1   0   1   0  -1   0  -1   0   1   0  -1  -2  -3  -4  -3  -4\n",
      "  -5  -4  -5  -6  -7  -8  -9  -8  -7  -6  -5  -4  -3  -2  -3  -4  -5  -6\n",
      "  -5  -6  -5  -4  -5  -4  -3  -4  -5  -4  -5  -6  -7  -8  -9 -10  -9  -8\n",
      "  -7  -8  -7  -8  -7  -8  -9 -10 -11 -12 -13 -12 -11 -10 -11 -12 -11 -10\n",
      " -11 -10  -9  -8  -9  -8  -7  -8  -9 -10  -9 -10 -11 -12 -13 -14 -15 -16\n",
      " -17 -16 -17 -16 -17 -18 -17 -16 -15 -16 -15 -14 -15 -14 -15 -14 -13 -14\n",
      " -13 -12 -11 -12 -11 -10 -11 -10 -11 -12 -11 -12 -13 -12 -13 -12 -13 -14\n",
      " -13 -12 -11 -10 -11 -10 -11 -12 -11 -10 -11 -10  -9  -8  -9  -8  -9  -8\n",
      "  -7  -6  -5  -4  -3  -4  -3  -2  -3  -4  -3  -4  -5  -4  -5  -6  -5  -4\n",
      "  -5  -4  -3  -2  -1   0   1   0  -1   0   1   2   1   0  -1   0   1   0\n",
      "   1   2   1   0   1   2   3   4   3   2   3   2   1   2   1   2   3   2\n",
      "   1   0  -1  -2  -1   0   1   2   1   0  -1   0  -1  -2  -1  -2  -1   0\n",
      "  -1   0   1   2   1   0   1   0  -1   0  -1   0  -1  -2  -3  -4  -5  -6\n",
      "  -7  -6  -7  -6  -7  -8  -7  -6  -7  -6  -7  -8  -9 -10  -9  -8  -9  -8\n",
      "  -7  -8  -9 -10 -11 -10  -9 -10 -11 -10  -9  -8  -7  -6  -5  -6  -5  -4\n",
      "  -5  -6  -7  -6  -5  -4  -5  -4  -5  -4  -5  -4  -5  -6  -5  -6  -5  -6\n",
      "  -7  -6  -5  -6  -5  -6  -7  -6  -5  -4  -3  -4  -5  -4  -3  -2  -3  -2\n",
      "  -1   0  -1   0  -1  -2  -1   0  -1  -2  -1   0   1   0   1   0   1   2\n",
      "   3   2   3   2   1   0   1   0  -1   0   1   2   1   0  -1  -2  -3  -4\n",
      "  -3  -4  -3  -4  -3  -2  -1   0   1   2   1   0   1   2   3   4   5   6\n",
      "   5   6   5   6   5   4   5   4   5   4   5   4   5   6   7   6   5   4\n",
      "   5   4   5   6   7   8   9  10  11  10  11  12  11  12  11  12  11  10\n",
      "  11  10  11  10  11  12  11  10   9   8   7   6   7   6   5   6   5   4\n",
      "   3   2   3   2   1   2   3   2   1   0  -1  -2  -1   0  -1  -2  -3  -4\n",
      "  -5  -4  -3  -4  -3  -4  -5  -6  -7  -8  -9 -10 -11 -10  -9 -10 -11 -12\n",
      " -13 -12 -11 -10  -9 -10  -9 -10 -11 -12 -11 -10  -9 -10 -11 -10  -9  -8\n",
      "  -9 -10  -9  -8  -7  -8  -7  -8  -9 -10  -9 -10  -9  -8  -7  -8  -9  -8\n",
      "  -7  -6  -5  -4  -3  -4  -5  -6  -7  -6  -7  -8  -9  -8  -9  -8  -9 -10\n",
      " -11 -12 -11 -12 -11 -12 -13 -14 -15 -16 -17 -16 -17 -18 -17 -16 -15 -16\n",
      " -15 -14 -15 -16 -15 -16 -15 -14 -15 -16 -15 -14 -15 -14 -15 -14 -15 -14\n",
      " -15 -14 -13 -12 -11 -12 -11 -10 -11 -10 -11 -10  -9 -10 -11 -12 -13 -14\n",
      " -15 -14 -15 -16 -17 -18 -17 -16 -15 -14 -13 -12 -13 -14 -13 -12 -11 -10\n",
      "  -9 -10  -9 -10  -9  -8  -7  -8  -7  -6  -7  -6  -5  -6  -5  -6  -7  -8\n",
      "  -9 -10  -9 -10 -11 -10 -11 -10  -9  -8  -9 -10  -9 -10  -9  -8  -9  -8\n",
      "  -9 -10 -11 -10 -11 -12 -13 -12 -13 -14 -15 -16 -15 -16 -17 -16 -15 -14\n",
      " -13 -12 -11 -12 -11 -12 -13 -14 -15 -14 -13 -12 -11 -10 -11 -10  -9  -8\n",
      "  -7  -6  -7  -6  -5  -6  -7  -6  -7  -8  -7  -6  -7  -8  -9  -8  -9  -8\n",
      "  -9  -8  -7  -8  -9 -10 -11 -10 -11 -10  -9 -10 -11 -12 -13 -12 -11 -12\n",
      " -13 -12 -13 -12 -11 -12 -11 -12 -13 -12 -11 -10  -9 -10  -9  -8  -7  -6\n",
      "  -5  -6  -5  -4  -3  -4  -3  -2  -3  -2  -1  -2  -3  -4  -3  -4  -3  -2\n",
      "  -1   0   1   0   1   0  -1   0   1   2   3   4   3   4   5   4   3   4\n",
      "   5   4   5   6   5   4   5   6   7   6   7   8   9  10   9  10   9   8\n",
      "   9   8   9   8   9  10  11  10   9   8   9  10   9   8   9  10   9  10\n",
      "   9   8   9  10   9   8   7   6   7   6   5   4   5   4   3   2   1   2\n",
      "   1   2   1   2   1   2   1   2   3   2   1   0   1   2   3   4   5   4\n",
      "   5   4   3   2   3   2   1   0   1   0   1   2   1   0  -1  -2  -1   0\n",
      "  -1   0   1   2   1   0   1   0   1   0  -1  -2  -3  -2  -1   0   1   2\n",
      "   1   2   1   0   1   0  -1  -2  -1   0   1   2   1   2   1   0  -1   0\n",
      "  -1   0  -1   0   1   2   1   2   1   2   3   4   3   2   3   2   1   0\n",
      "   1   2   3   4   3   4   5   6   5   4   3   4   3   2   1   0   1   2\n",
      "   3   2   3   2   1   0  -1   0   1   0  -1   0   1   0   1   0  -1  -2\n",
      "  -1   0   1   0  -1  -2  -3  -2  -1   0   1   0   1   2   1   2   1   2\n",
      "   1   0   1   0  -1  -2  -1  -2  -3  -2  -1  -2  -1  -2  -1   0   1   0\n",
      "   1   2   3   4   3   2   1   2   3   4   5   6   7   8   7   8   9  10\n",
      "  11  12  11  10  11  12  11  10  11  10]\n"
     ]
    }
   ],
   "source": [
    "nsteps = 1000\n",
    "draws = np.random.randint(0, 2, size=nsteps)\n",
    "steps = np.where(draws > 0, 1, -1)\n",
    "walk = steps.cumsum()\n",
    "print(walk)"
   ]
  },
  {
   "cell_type": "code",
   "execution_count": 193,
   "metadata": {},
   "outputs": [
    {
     "data": {
      "text/plain": [
       "-18"
      ]
     },
     "execution_count": 193,
     "metadata": {},
     "output_type": "execute_result"
    }
   ],
   "source": [
    "walk.min()"
   ]
  },
  {
   "cell_type": "code",
   "execution_count": 194,
   "metadata": {},
   "outputs": [
    {
     "data": {
      "text/plain": [
       "12"
      ]
     },
     "execution_count": 194,
     "metadata": {},
     "output_type": "execute_result"
    }
   ],
   "source": [
    "walk.max()"
   ]
  },
  {
   "cell_type": "markdown",
   "metadata": {},
   "source": [
    "A more complicated statistic is the first crossing time, the step at which the random\n",
    "walk reaches a particular value. Here we might want to know how long it took the\n",
    "random walk to get at least 10 steps away from the origin 0 in either direction.\n",
    "np.abs(walk) >= 10 gives us a boolean array indicating where the walk has reached or\n",
    "exceeded 10, but we want the index of the first 10 or -10. Turns out this can be computed\n",
    "using argmax, which returns the first index of the maximum value in the boolean\n",
    "array (True is the maximum value):"
   ]
  },
  {
   "cell_type": "code",
   "execution_count": 195,
   "metadata": {},
   "outputs": [
    {
     "data": {
      "text/plain": [
       "69"
      ]
     },
     "execution_count": 195,
     "metadata": {},
     "output_type": "execute_result"
    }
   ],
   "source": [
    "(np.abs(walk) >= 10).argmax()"
   ]
  },
  {
   "cell_type": "markdown",
   "metadata": {},
   "source": [
    "# Simulating Many Random Walks at Once"
   ]
  },
  {
   "cell_type": "code",
   "execution_count": 196,
   "metadata": {},
   "outputs": [
    {
     "data": {
      "text/plain": [
       "array([[  1,   0,  -1, ..., -86, -85, -84],\n",
       "       [ -1,   0,  -1, ...,   4,   3,   2],\n",
       "       [  1,   0,   1, ..., -72, -73, -72],\n",
       "       ...,\n",
       "       [  1,   2,   1, ...,  20,  19,  18],\n",
       "       [ -1,   0,   1, ...,  34,  33,  32],\n",
       "       [  1,   0,   1, ...,  18,  17,  18]], dtype=int32)"
      ]
     },
     "execution_count": 196,
     "metadata": {},
     "output_type": "execute_result"
    }
   ],
   "source": [
    "nwalks = 5000\n",
    "nsteps = 1000\n",
    "draws = np.random.randint(0, 2, size=(nwalks, nsteps)) # 0 or 1\n",
    "steps = np.where(draws > 0, 1, -1)\n",
    "walks = steps.cumsum(1)\n",
    "walks"
   ]
  },
  {
   "cell_type": "code",
   "execution_count": 197,
   "metadata": {},
   "outputs": [
    {
     "data": {
      "text/plain": [
       "-18"
      ]
     },
     "execution_count": 197,
     "metadata": {},
     "output_type": "execute_result"
    }
   ],
   "source": [
    "walk.min()"
   ]
  },
  {
   "cell_type": "code",
   "execution_count": 198,
   "metadata": {},
   "outputs": [
    {
     "data": {
      "text/plain": [
       "12"
      ]
     },
     "execution_count": 198,
     "metadata": {},
     "output_type": "execute_result"
    }
   ],
   "source": [
    "walk.max()"
   ]
  },
  {
   "cell_type": "code",
   "execution_count": 199,
   "metadata": {},
   "outputs": [
    {
     "data": {
      "text/plain": [
       "array([ True,  True,  True, ..., False,  True, False])"
      ]
     },
     "execution_count": 199,
     "metadata": {},
     "output_type": "execute_result"
    }
   ],
   "source": [
    "hits30 = (np.abs(walks) >= 30).any(1)\n",
    "hits30\n"
   ]
  },
  {
   "cell_type": "code",
   "execution_count": 200,
   "metadata": {},
   "outputs": [
    {
     "data": {
      "text/plain": [
       "3328"
      ]
     },
     "execution_count": 200,
     "metadata": {},
     "output_type": "execute_result"
    }
   ],
   "source": [
    "hits30.sum() # Number that hit 30 or -30"
   ]
  },
  {
   "cell_type": "raw",
   "metadata": {},
   "source": [
    "We can use this boolean array to select out the rows of walks that actually cross the\n",
    "absolute 30 level and call argmax across axis 1 to get the crossing times:"
   ]
  },
  {
   "cell_type": "code",
   "execution_count": 201,
   "metadata": {},
   "outputs": [],
   "source": [
    "crossing_times = (np.abs(walks[hits30]) >= 30).argmax(1)"
   ]
  },
  {
   "cell_type": "code",
   "execution_count": 203,
   "metadata": {},
   "outputs": [
    {
     "data": {
      "text/plain": [
       "505.59615384615387"
      ]
     },
     "execution_count": 203,
     "metadata": {},
     "output_type": "execute_result"
    }
   ],
   "source": [
    "crossing_times.mean()"
   ]
  },
  {
   "cell_type": "code",
   "execution_count": 205,
   "metadata": {},
   "outputs": [
    {
     "data": {
      "text/plain": [
       "array([[-0.17098991, -0.0709995 ,  0.62144187, ...,  0.33281106,\n",
       "        -0.10502504, -0.23295838],\n",
       "       [-0.06536559, -0.19483796,  0.02895699, ...,  0.05015564,\n",
       "        -0.19551243,  0.10946894],\n",
       "       [-0.16676001, -0.07193853, -0.23551322, ...,  0.12530159,\n",
       "        -0.14688796, -0.11278651],\n",
       "       ...,\n",
       "       [ 0.54099107, -0.2770195 , -0.18596542, ..., -0.23169929,\n",
       "        -0.15169999,  0.11382446],\n",
       "       [ 0.12616902, -0.07963495, -0.56579692, ...,  0.40242011,\n",
       "        -0.19767165,  0.20372814],\n",
       "       [ 0.058955  , -0.08448841,  0.35081081, ..., -0.10269973,\n",
       "        -0.11479508,  0.37835878]])"
      ]
     },
     "execution_count": 205,
     "metadata": {},
     "output_type": "execute_result"
    }
   ],
   "source": [
    "steps = np.random.normal(loc=0, scale=0.25,size=(nwalks, nsteps))\n",
    "steps"
   ]
  },
  {
   "cell_type": "code",
   "execution_count": null,
   "metadata": {},
   "outputs": [],
   "source": []
  },
  {
   "cell_type": "code",
   "execution_count": null,
   "metadata": {},
   "outputs": [],
   "source": []
  },
  {
   "cell_type": "code",
   "execution_count": null,
   "metadata": {},
   "outputs": [],
   "source": []
  },
  {
   "cell_type": "code",
   "execution_count": null,
   "metadata": {},
   "outputs": [],
   "source": []
  },
  {
   "cell_type": "code",
   "execution_count": null,
   "metadata": {},
   "outputs": [],
   "source": []
  },
  {
   "cell_type": "code",
   "execution_count": null,
   "metadata": {},
   "outputs": [],
   "source": []
  },
  {
   "cell_type": "code",
   "execution_count": null,
   "metadata": {},
   "outputs": [],
   "source": []
  },
  {
   "cell_type": "code",
   "execution_count": null,
   "metadata": {},
   "outputs": [],
   "source": []
  },
  {
   "cell_type": "code",
   "execution_count": null,
   "metadata": {},
   "outputs": [],
   "source": []
  },
  {
   "cell_type": "code",
   "execution_count": null,
   "metadata": {},
   "outputs": [],
   "source": []
  },
  {
   "cell_type": "code",
   "execution_count": null,
   "metadata": {},
   "outputs": [],
   "source": []
  },
  {
   "cell_type": "code",
   "execution_count": null,
   "metadata": {},
   "outputs": [],
   "source": []
  },
  {
   "cell_type": "code",
   "execution_count": null,
   "metadata": {},
   "outputs": [],
   "source": []
  },
  {
   "cell_type": "code",
   "execution_count": null,
   "metadata": {},
   "outputs": [],
   "source": []
  }
 ],
 "metadata": {
  "kernelspec": {
   "display_name": "Python 3",
   "language": "python",
   "name": "python3"
  },
  "language_info": {
   "codemirror_mode": {
    "name": "ipython",
    "version": 3
   },
   "file_extension": ".py",
   "mimetype": "text/x-python",
   "name": "python",
   "nbconvert_exporter": "python",
   "pygments_lexer": "ipython3",
   "version": "3.7.4"
  }
 },
 "nbformat": 4,
 "nbformat_minor": 2
}
