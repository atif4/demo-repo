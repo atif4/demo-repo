{
 "cells": [
  {
   "cell_type": "code",
   "execution_count": 1,
   "metadata": {},
   "outputs": [],
   "source": [
    "import matplotlib as plt\n",
    "import pandas as pd\n",
    "import numpy as np\n",
    "from pandas import Series, DataFrame"
   ]
  },
  {
   "cell_type": "code",
   "execution_count": 8,
   "metadata": {},
   "outputs": [],
   "source": [
    "file = pd.read_csv('C:\\\\Users\\\\haier\\\\Downloads\\\\archive (3)\\\\COVID-19 Coronavirus.csv')"
   ]
  },
  {
   "cell_type": "code",
   "execution_count": 11,
   "metadata": {},
   "outputs": [
    {
     "data": {
      "text/html": [
       "<div>\n",
       "<style scoped>\n",
       "    .dataframe tbody tr th:only-of-type {\n",
       "        vertical-align: middle;\n",
       "    }\n",
       "\n",
       "    .dataframe tbody tr th {\n",
       "        vertical-align: top;\n",
       "    }\n",
       "\n",
       "    .dataframe thead th {\n",
       "        text-align: right;\n",
       "    }\n",
       "</style>\n",
       "<table border=\"1\" class=\"dataframe\">\n",
       "  <thead>\n",
       "    <tr style=\"text-align: right;\">\n",
       "      <th></th>\n",
       "      <th>Population</th>\n",
       "      <th>Total Cases</th>\n",
       "      <th>Total Deaths</th>\n",
       "      <th>Tot Cases//1M pop</th>\n",
       "      <th>Tot Deaths/1M pop</th>\n",
       "      <th>Death percentage</th>\n",
       "    </tr>\n",
       "  </thead>\n",
       "  <tbody>\n",
       "    <tr>\n",
       "      <td>count</td>\n",
       "      <td>2.250000e+02</td>\n",
       "      <td>2.250000e+02</td>\n",
       "      <td>2.250000e+02</td>\n",
       "      <td>225.000000</td>\n",
       "      <td>225.000000</td>\n",
       "      <td>225.000000</td>\n",
       "    </tr>\n",
       "    <tr>\n",
       "      <td>mean</td>\n",
       "      <td>3.507321e+07</td>\n",
       "      <td>2.184781e+06</td>\n",
       "      <td>2.744813e+04</td>\n",
       "      <td>136900.373333</td>\n",
       "      <td>1096.715556</td>\n",
       "      <td>1.444125</td>\n",
       "    </tr>\n",
       "    <tr>\n",
       "      <td>std</td>\n",
       "      <td>1.392418e+08</td>\n",
       "      <td>7.275938e+06</td>\n",
       "      <td>9.689177e+04</td>\n",
       "      <td>145060.340289</td>\n",
       "      <td>1195.715543</td>\n",
       "      <td>1.741728</td>\n",
       "    </tr>\n",
       "    <tr>\n",
       "      <td>min</td>\n",
       "      <td>8.050000e+02</td>\n",
       "      <td>1.000000e+00</td>\n",
       "      <td>0.000000e+00</td>\n",
       "      <td>9.000000</td>\n",
       "      <td>0.000000</td>\n",
       "      <td>0.000000</td>\n",
       "    </tr>\n",
       "    <tr>\n",
       "      <td>25%</td>\n",
       "      <td>5.665570e+05</td>\n",
       "      <td>2.407100e+04</td>\n",
       "      <td>1.890000e+02</td>\n",
       "      <td>11384.000000</td>\n",
       "      <td>123.000000</td>\n",
       "      <td>0.511291</td>\n",
       "    </tr>\n",
       "    <tr>\n",
       "      <td>50%</td>\n",
       "      <td>5.827911e+06</td>\n",
       "      <td>1.639360e+05</td>\n",
       "      <td>1.965000e+03</td>\n",
       "      <td>88987.000000</td>\n",
       "      <td>708.000000</td>\n",
       "      <td>1.036905</td>\n",
       "    </tr>\n",
       "    <tr>\n",
       "      <td>75%</td>\n",
       "      <td>2.190585e+07</td>\n",
       "      <td>1.092547e+06</td>\n",
       "      <td>1.366000e+04</td>\n",
       "      <td>223335.000000</td>\n",
       "      <td>1795.000000</td>\n",
       "      <td>1.977017</td>\n",
       "    </tr>\n",
       "    <tr>\n",
       "      <td>max</td>\n",
       "      <td>1.439324e+09</td>\n",
       "      <td>8.183905e+07</td>\n",
       "      <td>1.008222e+06</td>\n",
       "      <td>696044.000000</td>\n",
       "      <td>6286.000000</td>\n",
       "      <td>18.151787</td>\n",
       "    </tr>\n",
       "  </tbody>\n",
       "</table>\n",
       "</div>"
      ],
      "text/plain": [
       "         Population   Total Cases  Total Deaths  Tot Cases//1M pop  \\\n",
       "count  2.250000e+02  2.250000e+02  2.250000e+02         225.000000   \n",
       "mean   3.507321e+07  2.184781e+06  2.744813e+04      136900.373333   \n",
       "std    1.392418e+08  7.275938e+06  9.689177e+04      145060.340289   \n",
       "min    8.050000e+02  1.000000e+00  0.000000e+00           9.000000   \n",
       "25%    5.665570e+05  2.407100e+04  1.890000e+02       11384.000000   \n",
       "50%    5.827911e+06  1.639360e+05  1.965000e+03       88987.000000   \n",
       "75%    2.190585e+07  1.092547e+06  1.366000e+04      223335.000000   \n",
       "max    1.439324e+09  8.183905e+07  1.008222e+06      696044.000000   \n",
       "\n",
       "       Tot Deaths/1M pop  Death percentage  \n",
       "count         225.000000        225.000000  \n",
       "mean         1096.715556          1.444125  \n",
       "std          1195.715543          1.741728  \n",
       "min             0.000000          0.000000  \n",
       "25%           123.000000          0.511291  \n",
       "50%           708.000000          1.036905  \n",
       "75%          1795.000000          1.977017  \n",
       "max          6286.000000         18.151787  "
      ]
     },
     "execution_count": 11,
     "metadata": {},
     "output_type": "execute_result"
    }
   ],
   "source": [
    "file.describe()"
   ]
  },
  {
   "cell_type": "code",
   "execution_count": 12,
   "metadata": {},
   "outputs": [
    {
     "data": {
      "text/plain": [
       "Country                     object\n",
       "Other names                 object\n",
       "ISO 3166-1 alpha-3 CODE     object\n",
       "Population                   int64\n",
       "Continent                   object\n",
       "Total Cases                  int64\n",
       "Total Deaths                 int64\n",
       "Tot Cases//1M pop            int64\n",
       "Tot Deaths/1M pop            int64\n",
       "Death percentage           float64\n",
       "dtype: object"
      ]
     },
     "execution_count": 12,
     "metadata": {},
     "output_type": "execute_result"
    }
   ],
   "source": [
    "file.dtypes"
   ]
  },
  {
   "cell_type": "code",
   "execution_count": 15,
   "metadata": {},
   "outputs": [],
   "source": [
    "file.loc[:,'Death percentage']=file.loc[:,'Death percentage'].apply(pd.to_numeric).astype('int64')\n"
   ]
  },
  {
   "cell_type": "code",
   "execution_count": 16,
   "metadata": {},
   "outputs": [
    {
     "data": {
      "text/plain": [
       "Country                    object\n",
       "Other names                object\n",
       "ISO 3166-1 alpha-3 CODE    object\n",
       "Population                  int64\n",
       "Continent                  object\n",
       "Total Cases                 int64\n",
       "Total Deaths                int64\n",
       "Tot Cases//1M pop           int64\n",
       "Tot Deaths/1M pop           int64\n",
       "Death percentage            int64\n",
       "dtype: object"
      ]
     },
     "execution_count": 16,
     "metadata": {},
     "output_type": "execute_result"
    }
   ],
   "source": [
    "file.dtypes"
   ]
  },
  {
   "cell_type": "code",
   "execution_count": null,
   "metadata": {},
   "outputs": [],
   "source": []
  },
  {
   "cell_type": "code",
   "execution_count": null,
   "metadata": {},
   "outputs": [],
   "source": []
  },
  {
   "cell_type": "code",
   "execution_count": null,
   "metadata": {},
   "outputs": [],
   "source": []
  },
  {
   "cell_type": "code",
   "execution_count": null,
   "metadata": {},
   "outputs": [],
   "source": []
  }
 ],
 "metadata": {
  "kernelspec": {
   "display_name": "Python 3",
   "language": "python",
   "name": "python3"
  },
  "language_info": {
   "codemirror_mode": {
    "name": "ipython",
    "version": 3
   },
   "file_extension": ".py",
   "mimetype": "text/x-python",
   "name": "python",
   "nbconvert_exporter": "python",
   "pygments_lexer": "ipython3",
   "version": "3.7.4"
  }
 },
 "nbformat": 4,
 "nbformat_minor": 2
}
