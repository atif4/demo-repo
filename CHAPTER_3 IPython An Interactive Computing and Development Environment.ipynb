{
 "cells": [
  {
   "cell_type": "markdown",
   "metadata": {},
   "source": [
    "# IPython Basics"
   ]
  },
  {
   "cell_type": "code",
   "execution_count": 1,
   "metadata": {},
   "outputs": [],
   "source": [
    "a = 5"
   ]
  },
  {
   "cell_type": "code",
   "execution_count": 2,
   "metadata": {},
   "outputs": [
    {
     "data": {
      "text/plain": [
       "5"
      ]
     },
     "execution_count": 2,
     "metadata": {},
     "output_type": "execute_result"
    }
   ],
   "source": [
    "a"
   ]
  },
  {
   "cell_type": "code",
   "execution_count": 3,
   "metadata": {},
   "outputs": [],
   "source": [
    "from numpy.random import randn"
   ]
  },
  {
   "cell_type": "code",
   "execution_count": 4,
   "metadata": {},
   "outputs": [
    {
     "data": {
      "text/plain": [
       "{0: -0.2794846518814412,\n",
       " 1: 2.6390302184777337,\n",
       " 2: 1.042137797946327,\n",
       " 3: 0.8829041641182015,\n",
       " 4: 0.385933718108546,\n",
       " 5: 0.0398108075151747,\n",
       " 6: -1.0135328709837286}"
      ]
     },
     "execution_count": 4,
     "metadata": {},
     "output_type": "execute_result"
    }
   ],
   "source": [
    "data = {i: randn() for i in range(7)}\n",
    "data"
   ]
  },
  {
   "cell_type": "markdown",
   "metadata": {},
   "source": [
    "# Introspection"
   ]
  },
  {
   "cell_type": "code",
   "execution_count": 5,
   "metadata": {},
   "outputs": [],
   "source": [
    "data?"
   ]
  },
  {
   "cell_type": "code",
   "execution_count": 6,
   "metadata": {},
   "outputs": [],
   "source": [
    "x = 5\n",
    "y = 7\n",
    "if x > 5:\n",
    "    x += 1\n",
    "    y = 8"
   ]
  },
  {
   "cell_type": "markdown",
   "metadata": {},
   "source": [
    "# Magic Commands"
   ]
  },
  {
   "cell_type": "code",
   "execution_count": 12,
   "metadata": {},
   "outputs": [
    {
     "name": "stdout",
     "output_type": "stream",
     "text": [
      "[[ 1.3716643   0.11936191 -0.23146012 ...  0.72290867  0.85260702\n",
      "  -1.92401615]\n",
      " [-0.86979041 -0.9909081   1.63799818 ...  0.52374563  1.15697123\n",
      "   0.42090219]\n",
      " [-0.96448978  1.09469411 -1.24098078 ... -0.57635326 -0.07588521\n",
      "   0.83784724]\n",
      " ...\n",
      " [ 0.16181027  0.22539911 -0.75058993 ...  1.21473312 -0.24281927\n",
      "  -1.09855332]\n",
      " [ 0.02126574  0.02291777  0.56435204 ... -0.98147362 -1.03593444\n",
      "   0.30330753]\n",
      " [-0.77889865  0.81741285  0.36176068 ...  1.33704669  0.61060917\n",
      "  -0.30217866]]\n",
      "Wall time: 29.5 ms\n"
     ]
    },
    {
     "data": {
      "text/plain": [
       "array([[  0.42672049,   0.231301  ,  19.40676243, ...,  -0.25152812,\n",
       "         18.28781203,   1.83718513],\n",
       "       [  2.15292583,   9.43001764,  -0.51288274, ...,   4.86070733,\n",
       "         -8.63788193,   1.5615223 ],\n",
       "       [ -1.18387898,   5.00836688,  11.51905377, ...,   0.2549234 ,\n",
       "         -3.17407934,  -7.833827  ],\n",
       "       ...,\n",
       "       [ 16.3618472 ,  -5.48943656,  -1.61082685, ...,   7.10994266,\n",
       "         12.64521645,  -0.40515763],\n",
       "       [  3.26138175,   0.44803613,  -1.0895783 , ...,   9.10040943,\n",
       "          9.15621204,   3.40676376],\n",
       "       [-19.83057408,  16.03285809,   5.90396408, ...,  22.07788914,\n",
       "          5.16392897,   1.77096195]])"
      ]
     },
     "execution_count": 12,
     "metadata": {},
     "output_type": "execute_result"
    }
   ],
   "source": [
    "import numpy as np\n",
    "a = np.random.randn(100,100)\n",
    "print(a)\n",
    "%time np.dot(a,a)"
   ]
  },
  {
   "cell_type": "code",
   "execution_count": 14,
   "metadata": {},
   "outputs": [
    {
     "ename": "SyntaxError",
     "evalue": "invalid syntax (<ipython-input-14-d62bd8b549ab>, line 1)",
     "output_type": "error",
     "traceback": [
      "\u001b[1;36m  File \u001b[1;32m\"<ipython-input-14-d62bd8b549ab>\"\u001b[1;36m, line \u001b[1;32m1\u001b[0m\n\u001b[1;33m    ipython qtconsole\u001b[0m\n\u001b[1;37m                    ^\u001b[0m\n\u001b[1;31mSyntaxError\u001b[0m\u001b[1;31m:\u001b[0m invalid syntax\n"
     ]
    }
   ],
   "source": [
    "ipython qtconsole "
   ]
  },
  {
   "cell_type": "code",
   "execution_count": null,
   "metadata": {},
   "outputs": [],
   "source": [
    "!ip"
   ]
  },
  {
   "cell_type": "code",
   "execution_count": null,
   "metadata": {},
   "outputs": [],
   "source": []
  },
  {
   "cell_type": "code",
   "execution_count": null,
   "metadata": {},
   "outputs": [],
   "source": []
  },
  {
   "cell_type": "code",
   "execution_count": null,
   "metadata": {},
   "outputs": [],
   "source": []
  },
  {
   "cell_type": "code",
   "execution_count": null,
   "metadata": {},
   "outputs": [],
   "source": []
  },
  {
   "cell_type": "code",
   "execution_count": null,
   "metadata": {},
   "outputs": [],
   "source": []
  },
  {
   "cell_type": "code",
   "execution_count": null,
   "metadata": {},
   "outputs": [],
   "source": []
  },
  {
   "cell_type": "code",
   "execution_count": null,
   "metadata": {},
   "outputs": [],
   "source": []
  },
  {
   "cell_type": "code",
   "execution_count": null,
   "metadata": {},
   "outputs": [],
   "source": []
  },
  {
   "cell_type": "code",
   "execution_count": null,
   "metadata": {},
   "outputs": [],
   "source": []
  },
  {
   "cell_type": "code",
   "execution_count": null,
   "metadata": {},
   "outputs": [],
   "source": []
  },
  {
   "cell_type": "code",
   "execution_count": null,
   "metadata": {},
   "outputs": [],
   "source": []
  }
 ],
 "metadata": {
  "kernelspec": {
   "display_name": "Python 3",
   "language": "python",
   "name": "python3"
  },
  "language_info": {
   "codemirror_mode": {
    "name": "ipython",
    "version": 3
   },
   "file_extension": ".py",
   "mimetype": "text/x-python",
   "name": "python",
   "nbconvert_exporter": "python",
   "pygments_lexer": "ipython3",
   "version": "3.7.4"
  }
 },
 "nbformat": 4,
 "nbformat_minor": 2
}
